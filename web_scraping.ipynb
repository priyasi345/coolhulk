{
  "nbformat": 4,
  "nbformat_minor": 0,
  "metadata": {
    "colab": {
      "name": "web_scraping.ipynb",
      "provenance": []
    },
    "kernelspec": {
      "name": "python3",
      "display_name": "Python 3"
    }
  },
  "cells": [
    {
      "cell_type": "code",
      "metadata": {
        "id": "dWiGXy5gJTMy",
        "colab_type": "code",
        "colab": {}
      },
      "source": [
        "\n",
        "import numpy as np\n",
        "import pandas as pd\n",
        "from bs4 import BeautifulSoup as soup\n",
        "import requests\n",
        "import matplotlib.pyplot as plt\n",
        "from urllib.request import urlopen as uReq"
      ],
      "execution_count": 1,
      "outputs": []
    },
    {
      "cell_type": "code",
      "metadata": {
        "id": "ggjrUZ_mJrWL",
        "colab_type": "code",
        "colab": {}
      },
      "source": [
        "\n",
        "url = 'https://www.amazon.in/OnePlus-Midnight-Black-128GB-Storage/product-reviews/B07DJHY82F/ref=cm_cr_arp_d_viewopt_srt?ie=UTF8&reviewerType=all_reviews&sortBy=recent&pageNumber=1'"
      ],
      "execution_count": 7,
      "outputs": []
    },
    {
      "cell_type": "code",
      "metadata": {
        "id": "bku7E6WQNBAc",
        "colab_type": "code",
        "colab": {}
      },
      "source": [
        "uClinet = uReq(url)"
      ],
      "execution_count": 14,
      "outputs": []
    },
    {
      "cell_type": "code",
      "metadata": {
        "id": "QMcc0PrLNDSF",
        "colab_type": "code",
        "colab": {}
      },
      "source": [
        "page_html = uClinet.read()"
      ],
      "execution_count": 15,
      "outputs": []
    },
    {
      "cell_type": "code",
      "metadata": {
        "id": "Nptr-3cQNJ74",
        "colab_type": "code",
        "colab": {}
      },
      "source": [
        "uClinet.close()"
      ],
      "execution_count": 16,
      "outputs": []
    },
    {
      "cell_type": "code",
      "metadata": {
        "id": "UlM5mz6VNNaZ",
        "colab_type": "code",
        "colab": {}
      },
      "source": [
        "url_list =[]\n",
        "for i in range(1,51):\n",
        "    url_list.append(url+str(i))"
      ],
      "execution_count": 17,
      "outputs": []
    },
    {
      "cell_type": "code",
      "metadata": {
        "id": "-qhredf6NSZZ",
        "colab_type": "code",
        "colab": {
          "base_uri": "https://localhost:8080/",
          "height": 101
        },
        "outputId": "ffe47be0-cde0-4b0b-e90a-7bcf720c0f53"
      },
      "source": [
        "url_list[:5]"
      ],
      "execution_count": 18,
      "outputs": [
        {
          "output_type": "execute_result",
          "data": {
            "text/plain": [
              "['https://www.amazon.in/OnePlus-Midnight-Black-128GB-Storage/product-reviews/B07DJHY82F/ref=cm_cr_arp_d_viewopt_srt?ie=UTF8&reviewerType=all_reviews&sortBy=recent&pageNumber=11',\n",
              " 'https://www.amazon.in/OnePlus-Midnight-Black-128GB-Storage/product-reviews/B07DJHY82F/ref=cm_cr_arp_d_viewopt_srt?ie=UTF8&reviewerType=all_reviews&sortBy=recent&pageNumber=12',\n",
              " 'https://www.amazon.in/OnePlus-Midnight-Black-128GB-Storage/product-reviews/B07DJHY82F/ref=cm_cr_arp_d_viewopt_srt?ie=UTF8&reviewerType=all_reviews&sortBy=recent&pageNumber=13',\n",
              " 'https://www.amazon.in/OnePlus-Midnight-Black-128GB-Storage/product-reviews/B07DJHY82F/ref=cm_cr_arp_d_viewopt_srt?ie=UTF8&reviewerType=all_reviews&sortBy=recent&pageNumber=14',\n",
              " 'https://www.amazon.in/OnePlus-Midnight-Black-128GB-Storage/product-reviews/B07DJHY82F/ref=cm_cr_arp_d_viewopt_srt?ie=UTF8&reviewerType=all_reviews&sortBy=recent&pageNumber=15']"
            ]
          },
          "metadata": {
            "tags": []
          },
          "execution_count": 18
        }
      ]
    },
    {
      "cell_type": "code",
      "metadata": {
        "id": "JQBgL2RrNWwq",
        "colab_type": "code",
        "colab": {}
      },
      "source": [
        "page_soup =soup(page_html,'html.parser')"
      ],
      "execution_count": null,
      "outputs": []
    },
    {
      "cell_type": "code",
      "metadata": {
        "id": "6w_7bsJPNatt",
        "colab_type": "code",
        "colab": {
          "base_uri": "https://localhost:8080/",
          "height": 1000
        },
        "outputId": "65356cb6-0b62-4ef8-b3ad-1c70cac5098a"
      },
      "source": [
        "page_soup.find_all('a')"
      ],
      "execution_count": 19,
      "outputs": [
        {
          "output_type": "execute_result",
          "data": {
            "text/plain": [
              "[<a id=\"nav-top\"></a>,\n",
              " <a class=\"skip-link\" id=\"skiplink\" tabindex=\"3\">Skip to main content</a>,\n",
              " <a aria-label=\"Open Menu\" href=\"/gp/site-directory?ref_=nav_em_js_disabled\" id=\"nav-hamburger-menu\" role=\"button\" tabindex=\"5\">\n",
              " <i class=\"hm-icon nav-sprite\"></i>\n",
              " </a>,\n",
              " <a aria-label=\"Amazon\" class=\"nav-logo-link\" href=\"/ref=nav_logo\" tabindex=\"6\">\n",
              " <span class=\"nav-sprite nav-logo-base\"></span>\n",
              " <span class=\"nav-sprite nav-logo-ext\"></span>\n",
              " <span class=\"nav-logo-locale\">.in</span>\n",
              " </a>,\n",
              " <a class=\"nav-a nav-a-2 icp-link-style-2\" href=\"/gp/customer-preferences/select-language/ref=topnav_lang_t1?preferencesReturnUrl=%2F\" id=\"icp-nav-flyout\">\n",
              " <span class=\"icp-nav-link-inner\">\n",
              " <span class=\"nav-line-1\">\n",
              " <span class=\"icp-nav-flag icp-nav-flag-in\"></span>\n",
              " </span>\n",
              " <span class=\"nav-line-2\"> \n",
              "         <span class=\"nav-icon nav-arrow\"></span>\n",
              " </span>\n",
              " </span>\n",
              " </a>,\n",
              " <a class=\"nav-a nav-a-2 \" data-nav-ref=\"nav_ya_signin\" data-nav-role=\"signin\" data-ux-jq-mouseenter=\"true\" href=\"https://www.amazon.in/ap/signin?openid.pape.max_auth_age=0&amp;openid.return_to=https%3A%2F%2Fwww.amazon.in%2Fchaman-Antique-Foldable-Multipurpose-lxbxh-12X12X12%2Fproduct-reviews%2FB07N4KPKQK%2F%3F_encoding%3DUTF8%26ref_%3Dnav_ya_signin&amp;openid.identity=http%3A%2F%2Fspecs.openid.net%2Fauth%2F2.0%2Fidentifier_select&amp;openid.assoc_handle=inflex&amp;openid.mode=checkid_setup&amp;openid.claimed_id=http%3A%2F%2Fspecs.openid.net%2Fauth%2F2.0%2Fidentifier_select&amp;openid.ns=http%3A%2F%2Fspecs.openid.net%2Fauth%2F2.0&amp;\" id=\"nav-link-accountList\" tabindex=\"12\">\n",
              " <div class=\"nav-line-1-container\"><span class=\"nav-line-1\">Hello, Sign in</span></div>\n",
              " <span class=\"nav-line-2 \">Account &amp; Lists<span class=\"nav-icon nav-arrow\"></span>\n",
              " </span>\n",
              " </a>,\n",
              " <a class=\"nav-a nav-a-2 \" href=\"/gp/css/order-history?ref_=nav_orders_first\" id=\"nav-orders\" tabindex=\"14\">\n",
              " <span class=\"nav-line-1\">Returns</span>\n",
              " <span class=\"nav-line-2\">&amp; Orders</span>\n",
              " </a>,\n",
              " <a class=\"nav-a nav-a-2 \" data-ux-jq-mouseenter=\"true\" href=\"/prime?ref_=nav_prime_try_btn\" id=\"nav-link-prime\" tabindex=\"15\">\n",
              " <div class=\"nav-line-1-container\"><span class=\"nav-line-1\">Try</span></div>\n",
              " <span class=\"nav-line-2 \">Prime<span class=\"nav-icon nav-arrow\"></span>\n",
              " </span>\n",
              " </a>,\n",
              " <a aria-label=\" items in cart\" class=\"nav-a nav-a-2\" href=\"https://www.amazon.in/gp/cart/view.html?ref_=nav_cart\" id=\"nav-cart\" tabindex=\"17\">\n",
              " <span aria-hidden=\"true\" class=\"nav-line-1\"> </span>\n",
              " <span aria-hidden=\"true\" class=\"nav-line-2\">Cart<span class=\"nav-icon nav-arrow\"></span>\n",
              " </span>\n",
              " <span class=\"nav-cart-icon nav-sprite\"></span>\n",
              " <span aria-hidden=\"true\" class=\"nav-cart-count nav-cart-0\" id=\"nav-cart-count\"></span>\n",
              " </a>,\n",
              " <a class=\"nav-a nav-a-2 a-popover-trigger a-declarative\" tabindex=\"9\">\n",
              " <div class=\"nav-sprite\" id=\"nav-packard-glow-loc-icon\"></div>\n",
              " <div id=\"glow-ingress-block\">\n",
              " <span class=\"nav-line-1\" id=\"glow-ingress-line1\">\n",
              "                    Hello\n",
              "                 </span>\n",
              " <span class=\"nav-line-2\" id=\"glow-ingress-line2\">\n",
              "                    Select your address\n",
              "                 </span>\n",
              " </div>\n",
              " </a>,\n",
              " <a aria-label=\"Breathe into the shadows\" class=\"nav-imageHref\" href=\"/gp/redirect.html/?ie=UTF8&amp;location=https%3A%2F%2Fwww.primevideo.com%2Fdetail%2Famzn1.dv.gti.f6b96626-71a4-8bdb-4b45-3c72896be5a5%2Fref_&amp;source=standards&amp;token=BD186D118FFDAD25016A185DCEE0501503B30AEC&amp;ref_=nav_swm_dvm_crs_swm_in_ai_s_dk_gw0_L_np_BITS_T&amp;pf_rd_p=c9a971af-8f9a-41d7-a1a5-18040d132f61&amp;pf_rd_s=nav-sitewide-msg&amp;pf_rd_t=4201&amp;pf_rd_i=navbar-4201&amp;pf_rd_m=A21TJRUUN4KGV&amp;pf_rd_r=HR0TQ4N6R5G1EKJFSEM8\" target=\"_blank\">\n",
              " <img alt=\"Breathe into the shadows\" src=\"https://images-eu.ssl-images-amazon.com/images/G/31/AmazonVideo/2020/X-site/SingleTitle/BITS/Launch/400x39-SWM_With-Disclaimer_np._CB410340343_.jpg\"/>\n",
              " </a>,\n",
              " <a class=\"nav-a \" href=\"/mobile-phones/b/?ie=UTF8&amp;node=1389401031&amp;ref_=nav_cs_mobiles\" tabindex=\"26\">Mobiles</a>,\n",
              " <a class=\"nav-a \" href=\"/gp/bestsellers/?ref_=nav_cs_bestsellers\" tabindex=\"27\">Best Sellers</a>,\n",
              " <a class=\"nav-a \" href=\"/computers-and-accessories/b/?ie=UTF8&amp;node=976392031&amp;ref_=nav_cs_pc\" tabindex=\"28\">Computers</a>,\n",
              " <a class=\"nav-a \" href=\"/pantry-online-grocery-shopping-store/b/?ie=UTF8&amp;node=9574332031&amp;ref_=nav_cs_pantry\" tabindex=\"29\">Pantry</a>,\n",
              " <a class=\"nav-a \" href=\"/gp/goldbox?ref_=nav_cs_gb\" tabindex=\"30\">Today's Deals</a>,\n",
              " <a class=\"nav-a \" href=\"/Books/b/?ie=UTF8&amp;node=976389031&amp;ref_=nav_cs_books\" tabindex=\"31\">Books</a>,\n",
              " <a class=\"nav-a \" href=\"/gp/sva/dashboard?ref_=nav_cs_apay\" tabindex=\"32\">Amazon Pay</a>,\n",
              " <a class=\"nav-a \" href=\"/gp/new-releases/?ref_=nav_cs_newreleases\" tabindex=\"33\">New Releases</a>,\n",
              " <a class=\"nav-a \" href=\"/gp/help/customer/display.html?nodeId=200507590&amp;ref_=nav_cs_help\" tabindex=\"34\">Customer Service</a>,\n",
              " <a class=\"nav-a \" href=\"/b/?node=2838698031&amp;ld=AZINSOANavDesktop&amp;ref_=nav_cs_sell\" tabindex=\"35\">Sell</a>,\n",
              " <a class=\"nav-a \" href=\"/gcx/-/gfhz/?ref_=nav_cs_giftfinder\" tabindex=\"36\">Gift Ideas\t</a>,\n",
              " <a class=\"nav-a \" href=\"/Baby/b/?ie=UTF8&amp;node=1571274031&amp;ref_=nav_cs_baby\" tabindex=\"37\">Baby</a>,\n",
              " <a class=\"nav-a \" href=\"/b/?node=6637738031&amp;ref_=nav_cs_amazonbasics\" tabindex=\"38\">AmazonBasics</a>,\n",
              " <a class=\"nav-a \" href=\"/amazon-coupons/b/?_encoding=UTF8&amp;node=10465704031&amp;ref_=nav_cs_coupons\" tabindex=\"39\">Coupons</a>,\n",
              " <a id=\"skippedLink\" tabindex=\"-1\"></a>,\n",
              " <a class=\"a-link-normal\" href=\"/OnePlus-Midnight-Black-128GB-Storage/dp/B07DJHY82F\">OnePlus 6T (Midnight Black, 8GB RAM, 128GB Storage)</a>,\n",
              " <a class=\"a-link-normal 5star\" href=\"/product-reviews/B07DJHY82F/ref=acr_dp_hist_5?ie=UTF8&amp;filterByStar=five_star&amp;reviewerType=all_reviews#reviews-filter-bar\" title=\"73% of reviews have 5 stars\">\n",
              "             5 star\n",
              "           </a>,\n",
              " <a class=\"a-link-normal\" href=\"/product-reviews/B07DJHY82F/ref=acr_dp_hist_5?ie=UTF8&amp;filterByStar=five_star&amp;reviewerType=all_reviews#reviews-filter-bar\" title=\"73% of reviews have 5 stars\">\n",
              " <div aria-label=\"73%\" class=\"a-meter\"><div class=\"a-meter-bar\" style=\"width: 73%;\"></div></div>\n",
              " </a>,\n",
              " <a class=\"a-link-normal\" href=\"/product-reviews/B07DJHY82F/ref=acr_dp_hist_5?ie=UTF8&amp;filterByStar=five_star&amp;reviewerType=all_reviews#reviews-filter-bar\" title=\"73% of reviews have 5 stars\">\n",
              "             \n",
              "               73%\n",
              "             \n",
              "           </a>,\n",
              " <a class=\"a-link-normal 4star\" href=\"/product-reviews/B07DJHY82F/ref=acr_dp_hist_4?ie=UTF8&amp;filterByStar=four_star&amp;reviewerType=all_reviews#reviews-filter-bar\" title=\"16% of reviews have 4 stars\">\n",
              "             4 star\n",
              "           </a>,\n",
              " <a class=\"a-link-normal\" href=\"/product-reviews/B07DJHY82F/ref=acr_dp_hist_4?ie=UTF8&amp;filterByStar=four_star&amp;reviewerType=all_reviews#reviews-filter-bar\" title=\"16% of reviews have 4 stars\">\n",
              " <div aria-label=\"16%\" class=\"a-meter\"><div class=\"a-meter-bar\" style=\"width: 16%;\"></div></div>\n",
              " </a>,\n",
              " <a class=\"a-link-normal\" href=\"/product-reviews/B07DJHY82F/ref=acr_dp_hist_4?ie=UTF8&amp;filterByStar=four_star&amp;reviewerType=all_reviews#reviews-filter-bar\" title=\"16% of reviews have 4 stars\">\n",
              "             \n",
              "               16%\n",
              "             \n",
              "           </a>,\n",
              " <a class=\"a-link-normal 3star\" href=\"/product-reviews/B07DJHY82F/ref=acr_dp_hist_3?ie=UTF8&amp;filterByStar=three_star&amp;reviewerType=all_reviews#reviews-filter-bar\" title=\"4% of reviews have 3 stars\">\n",
              "             3 star\n",
              "           </a>,\n",
              " <a class=\"a-link-normal\" href=\"/product-reviews/B07DJHY82F/ref=acr_dp_hist_3?ie=UTF8&amp;filterByStar=three_star&amp;reviewerType=all_reviews#reviews-filter-bar\" title=\"4% of reviews have 3 stars\">\n",
              " <div aria-label=\"4%\" class=\"a-meter\"><div class=\"a-meter-bar\" style=\"width: 4%;\"></div></div>\n",
              " </a>,\n",
              " <a class=\"a-link-normal\" href=\"/product-reviews/B07DJHY82F/ref=acr_dp_hist_3?ie=UTF8&amp;filterByStar=three_star&amp;reviewerType=all_reviews#reviews-filter-bar\" title=\"4% of reviews have 3 stars\">\n",
              "             \n",
              "               4%\n",
              "             \n",
              "           </a>,\n",
              " <a class=\"a-link-normal 2star\" href=\"/product-reviews/B07DJHY82F/ref=acr_dp_hist_2?ie=UTF8&amp;filterByStar=two_star&amp;reviewerType=all_reviews#reviews-filter-bar\" title=\"1% of reviews have 2 stars\">\n",
              "             2 star\n",
              "           </a>,\n",
              " <a class=\"a-link-normal\" href=\"/product-reviews/B07DJHY82F/ref=acr_dp_hist_2?ie=UTF8&amp;filterByStar=two_star&amp;reviewerType=all_reviews#reviews-filter-bar\" title=\"1% of reviews have 2 stars\">\n",
              " <div aria-label=\"1%\" class=\"a-meter\"><div class=\"a-meter-bar\" style=\"width: 1%;\"></div></div>\n",
              " </a>,\n",
              " <a class=\"a-link-normal\" href=\"/product-reviews/B07DJHY82F/ref=acr_dp_hist_2?ie=UTF8&amp;filterByStar=two_star&amp;reviewerType=all_reviews#reviews-filter-bar\" title=\"1% of reviews have 2 stars\">\n",
              "             \n",
              "               1%\n",
              "             \n",
              "           </a>,\n",
              " <a class=\"a-link-normal 1star\" href=\"/product-reviews/B07DJHY82F/ref=acr_dp_hist_1?ie=UTF8&amp;filterByStar=one_star&amp;reviewerType=all_reviews#reviews-filter-bar\" title=\"5% of reviews have 1 stars\">\n",
              "             1 star\n",
              "           </a>,\n",
              " <a class=\"a-link-normal\" href=\"/product-reviews/B07DJHY82F/ref=acr_dp_hist_1?ie=UTF8&amp;filterByStar=one_star&amp;reviewerType=all_reviews#reviews-filter-bar\" title=\"5% of reviews have 1 stars\">\n",
              " <div aria-label=\"5%\" class=\"a-meter\"><div class=\"a-meter-bar\" style=\"width: 5%;\"></div></div>\n",
              " </a>,\n",
              " <a class=\"a-link-normal\" href=\"/product-reviews/B07DJHY82F/ref=acr_dp_hist_1?ie=UTF8&amp;filterByStar=one_star&amp;reviewerType=all_reviews#reviews-filter-bar\" title=\"5% of reviews have 1 stars\">\n",
              "             \n",
              "               5%\n",
              "             \n",
              "           </a>,\n",
              " <a class=\"a-link-normal\" href=\"/OnePlus-Midnight-Black-128GB-Storage/dp/B07DJHY82F\"><img alt=\"OnePlus 6T (Midnight Black, 8GB RAM, 128GB Storage)\" data-a-hires=\"https://m.media-amazon.com/images/I/414i0UZfN3L._AC_US120_SCLZZZZZZZ__.jpg\" data-hook=\"cr-product-image\" height=\"60\" src=\"https://m.media-amazon.com/images/I/414i0UZfN3L._AC_US60_SCLZZZZZZZ__.jpg\" width=\"60\"/></a>,\n",
              " <a class=\"a-link-normal\" data-hook=\"product-link\" href=\"/OnePlus-Midnight-Black-128GB-Storage/dp/B07DJHY82F\">OnePlus 6T (Midnight Black, 8GB RAM, 128GB Storage)</a>,\n",
              " <a class=\"a-size-base a-link-normal\" href=\"/stores/OnePlus+Store/page/4DAE8B02-A058-466A-8E80-96B9C1682762?ref_=ast_bln\">OnePlus</a>,\n",
              " <a class=\"a-button-text\" href=\"/review/create-review?channel=reviews-product&amp;asin=B07DJHY82F\" role=\"button\">Write a review</a>,\n",
              " <a class=\"a-expander-header a-declarative a-expander-inline-header a-link-expander\" data-a-expander-toggle='{\"allowLinkDefault\":true, \"expand_prompt\":\"\", \"collapse_prompt\":\"\"}' data-action=\"a-expander-toggle\" href=\"javascript:void(0)\"><i class=\"a-icon a-icon-expand\"></i><span class=\"a-expander-prompt\">How does Amazon calculate star ratings?</span></a>,\n",
              " <a class=\"a-button-text\" href=\"/OnePlus-Midnight-Black-128GB-Storage/dp/B07DJHY82F\" role=\"button\">See All Buying Options</a>,\n",
              " <a class=\"a-button-text\" href=\"/gp/item-dispatch?asin.1=B07DJHY82F&amp;submit.add-to-registry=addToRegistry&amp;type=wishlist&amp;sid=000-0000000-0000000\" role=\"button\">Add to Wish List</a>,\n",
              " <a class=\"a-size-base a-link-normal see-all\" data-reftag=\"cm_cr_arp_d_viewpnt_lft\" data-reviews-state-param='{\"filterByStar\":\"positive\",\"pageNumber\":\"1\"}' href=\"/OnePlus-Midnight-Black-128GB-Storage/product-reviews/B07DJHY82F?filterByStar=positive&amp;reviewerType=all_reviews&amp;sortBy=recent\">See all 3,352 positive reviews</a>,\n",
              " <a class=\"a-profile\" data-a-size=\"small\" href=\"/gp/profile/amzn1.account.AGH5I6UDQG66K2G4HUUGI7ZWFWDQ\"><div aria-hidden=\"true\" class=\"a-profile-avatar-wrapper\"><div class=\"a-profile-avatar\"><img class=\"a-lazy-loaded\" data-src=\"https://images-eu.ssl-images-amazon.com/images/S/amazon-avatars-global/f928fe00-5b60-45cf-9935-216de7bfbee7._CR0,0,375,375_SX48_.jpg\" src=\"https://images-na.ssl-images-amazon.com/images/G/01/x-locale/common/grey-pixel.gif\"/><noscript><img src=\"https://images-eu.ssl-images-amazon.com/images/S/amazon-avatars-global/f928fe00-5b60-45cf-9935-216de7bfbee7._CR0,0,375,375_SX48_.jpg\"/></noscript></div></div><div class=\"a-profile-content\"><span class=\"a-profile-name\">Sanjay Tandon</span></div></a>,\n",
              " <a class=\"a-size-base a-link-normal\" href=\"/gp/customer-reviews/R408P1AI742Q2?ASIN=B07DJHY82F#R408P1AI742Q2\">Read more</a>,\n",
              " <a class=\"a-size-base a-link-normal see-all\" data-reftag=\"cm_cr_arp_d_viewpnt_rgt\" data-reviews-state-param='{\"filterByStar\":\"critical\",\"pageNumber\":\"1\"}' href=\"/OnePlus-Midnight-Black-128GB-Storage/product-reviews/B07DJHY82F?filterByStar=critical&amp;reviewerType=all_reviews&amp;sortBy=recent\">See all 444 critical reviews</a>,\n",
              " <a class=\"a-profile\" data-a-size=\"small\" href=\"/gp/profile/amzn1.account.AE54UILE76BOOYMRDL6GPHYW36AA\"><div aria-hidden=\"true\" class=\"a-profile-avatar-wrapper\"><div class=\"a-profile-avatar\"><img class=\"a-lazy-loaded\" data-src=\"https://images-eu.ssl-images-amazon.com/images/S/amazon-avatars-global/default._CR0,0,1024,1024_SX48_.png\" src=\"https://images-na.ssl-images-amazon.com/images/G/01/x-locale/common/grey-pixel.gif\"/><noscript><img src=\"https://images-eu.ssl-images-amazon.com/images/S/amazon-avatars-global/default._CR0,0,1024,1024_SX48_.png\"/></noscript></div></div><div class=\"a-profile-content\"><span class=\"a-profile-name\">Saroj N.</span></div></a>,\n",
              " <a class=\"a-size-base a-link-normal\" href=\"/gp/customer-reviews/R15DF987OXR3ES?ASIN=B07DJHY82F#R15DF987OXR3ES\">Read more</a>,\n",
              " <a class=\"a-link-normal celwidget\" href=\"#\" id=\"reviews-container\"></a>,\n",
              " <a id=\"reviews-filter-bar\"></a>,\n",
              " <a class=\"a-profile\" data-a-size=\"small\" href=\"/gp/profile/amzn1.account.AEOETAIOALK3U24P5JEP3WHT2KIA\"><div aria-hidden=\"true\" class=\"a-profile-avatar-wrapper\"><div class=\"a-profile-avatar\"><img class=\"a-lazy-loaded\" data-src=\"https://images-eu.ssl-images-amazon.com/images/S/amazon-avatars-global/default._CR0,0,1024,1024_SX48_.png\" src=\"https://images-na.ssl-images-amazon.com/images/G/01/x-locale/common/grey-pixel.gif\"/><noscript><img src=\"https://images-eu.ssl-images-amazon.com/images/S/amazon-avatars-global/default._CR0,0,1024,1024_SX48_.png\"/></noscript></div></div><div class=\"a-profile-content\"><span class=\"a-profile-name\">shaik imhrwan</span></div></a>,\n",
              " <a class=\"a-link-normal\" href=\"/gp/customer-reviews/R2VCAUOJ3ZK0H5?ASIN=B07DJHY82F\" title=\"5.0 out of 5 stars\"><i class=\"a-icon a-icon-star a-star-5 review-rating\" data-hook=\"review-star-rating\"><span class=\"a-icon-alt\">5.0 out of 5 stars</span></i></a>,\n",
              " <a class=\"a-size-base a-link-normal review-title a-color-base review-title-content a-text-bold\" data-hook=\"review-title\" href=\"/gp/customer-reviews/R2VCAUOJ3ZK0H5?ASIN=B07DJHY82F\">\n",
              " <span>Good</span>\n",
              " </a>,\n",
              " <a class=\"a-link-normal\" data-reftag=\"cm_cr_arp_d_rvw_rvwer\" data-reviews-state-param='{\"pageNumber\":\"1\",\"reviewerType\":\"avp_only_reviews\"}' href=\"/OnePlus-Midnight-Black-128GB-Storage/product-reviews/B07DJHY82F?reviewerType=avp_only_reviews&amp;sortBy=recent\"><span class=\"a-size-mini a-color-state a-text-bold\" data-hook=\"avp-badge\">Verified Purchase</span></a>,\n",
              " <a class=\"a-button-text\" data-hook=\"vote-helpful-button\" href=\"https://www.amazon.in/ap/signin?openid.return_to=https%3A%2F%2Fwww.amazon.in%2FOnePlus-Midnight-Black-128GB-Storage%2Fproduct-reviews%2FB07DJHY82F%3FvoteInstanceId%3DR2VCAUOJ3ZK0H5%26voteValue%3D1%26reviewerType%3Dall_reviews%26csrfT%3Dgq0FkhCP%252BorUkOByaUrJ66arRVhF%252FKwO%252BYQozuAAAAABAAAAAF8QLhdyYXcAAAAA%252B4kUEk%252F7iMGR3xPcX6iU%26sortBy%3Drecent&amp;openid.identity=http%3A%2F%2Fspecs.openid.net%2Fauth%2F2.0%2Fidentifier_select&amp;openid.claimed_id=http%3A%2F%2Fspecs.openid.net%2Fauth%2F2.0%2Fidentifier_select&amp;openid.assoc_handle=inflex&amp;openid.mode=checkid_setup&amp;openid.ns=http%3A%2F%2Fspecs.openid.net%2Fauth%2F2.0\" role=\"button\"><div class=\"cr-helpful-text\">\n",
              "           Helpful</div>\n",
              " </a>,\n",
              " <a class=\"a-expander-header a-declarative a-expander-inline-header a-link-expander\" data-a-expander-toggle='{\"allowLinkDefault\":true, \"expand_prompt\":\"\", \"collapse_prompt\":\"\"}' data-action=\"a-expander-toggle\" href=\"javascript:void(0)\"><i class=\"a-icon a-icon-expand\"></i><span class=\"a-expander-prompt\"><span class=\"review-comment-total aok-hidden\">0</span><span class=\"a-size-base\"><span class=\"a-declarative\" data-action=\"reviews:ajax-post\" data-reviews:ajax-post='{\"removeOnLoadSelector\":\".submission-button-for-R2VCAUOJ3ZK0H5\",\"indicatorSelector\":\".comment-submission-loading-R2VCAUOJ3ZK0H5\",\"params\":{\"isSRP\":false,\"asin\":\"B07DJHY82F\",\"reviewId\":\"R2VCAUOJ3ZK0H5\"},\"showOnFailureSelector\":\".comment-submission-error-R2VCAUOJ3ZK0H5\",\"url\":\"/hz/reviews-render/ajax/comment-submission/get/ref=cm_cr_arp_d_btn\"}'>Comment</span></span></span></a>,\n",
              " <a class=\"a-size-base a-link-normal a-color-secondary report-abuse-link a-text-normal\" href=\"/hz/reviews-render/report-abuse?voteDomain=Reviews&amp;ref=cm_cr_arp_d_rvw_hlp&amp;csrfT=gq0FkhCP%2BorUkOByaUrJ66arRVhF%2FKwO%2BYQozuAAAAABAAAAAF8QLhdyYXcAAAAA%2B4kUEk%2F7iMGR3xPcX6iU&amp;entityId=R2VCAUOJ3ZK0H5&amp;sessionId=000-0000000-0000000\">Report abuse</a>,\n",
              " <a class=\"a-link-normal a-selected a-color-state\" data-reftag=\"cm_cr_arp_d_cmt_lft\" href=\"#\">Newest</a>,\n",
              " <a class=\"a-link-normal\" data-reftag=\"cm_cr_arp_d_cmt_rgt\" href=\"#\">Oldest</a>,\n",
              " <a class=\"a-profile\" data-a-size=\"small\" href=\"/gp/profile/amzn1.account.AGRIPOT7F7BPRA24A7NE2LLXZNWA\"><div aria-hidden=\"true\" class=\"a-profile-avatar-wrapper\"><div class=\"a-profile-avatar\"><img class=\"a-lazy-loaded\" data-src=\"https://images-eu.ssl-images-amazon.com/images/S/amazon-avatars-global/default._CR0,0,1024,1024_SX48_.png\" src=\"https://images-na.ssl-images-amazon.com/images/G/01/x-locale/common/grey-pixel.gif\"/><noscript><img src=\"https://images-eu.ssl-images-amazon.com/images/S/amazon-avatars-global/default._CR0,0,1024,1024_SX48_.png\"/></noscript></div></div><div class=\"a-profile-content\"><span class=\"a-profile-name\">Charan m</span></div></a>,\n",
              " <a class=\"a-link-normal\" href=\"/gp/customer-reviews/R16A7VQW8NXJS3?ASIN=B07DJHY82F\" title=\"5.0 out of 5 stars\"><i class=\"a-icon a-icon-star a-star-5 review-rating\" data-hook=\"review-star-rating\"><span class=\"a-icon-alt\">5.0 out of 5 stars</span></i></a>,\n",
              " <a class=\"a-size-base a-link-normal review-title a-color-base review-title-content a-text-bold\" data-hook=\"review-title\" href=\"/gp/customer-reviews/R16A7VQW8NXJS3?ASIN=B07DJHY82F\">\n",
              " <span>Ok</span>\n",
              " </a>,\n",
              " <a class=\"a-link-normal\" data-reftag=\"cm_cr_arp_d_rvw_rvwer\" data-reviews-state-param='{\"pageNumber\":\"1\",\"reviewerType\":\"avp_only_reviews\"}' href=\"/OnePlus-Midnight-Black-128GB-Storage/product-reviews/B07DJHY82F?reviewerType=avp_only_reviews&amp;sortBy=recent\"><span class=\"a-size-mini a-color-state a-text-bold\" data-hook=\"avp-badge\">Verified Purchase</span></a>,\n",
              " <a class=\"a-button-text\" data-hook=\"vote-helpful-button\" href=\"https://www.amazon.in/ap/signin?openid.return_to=https%3A%2F%2Fwww.amazon.in%2FOnePlus-Midnight-Black-128GB-Storage%2Fproduct-reviews%2FB07DJHY82F%3FvoteInstanceId%3DR16A7VQW8NXJS3%26voteValue%3D1%26reviewerType%3Dall_reviews%26csrfT%3Dgr3Nf7uDQ03PQX6oQuEkBnEygJ22g%252B%252FbMf41D58AAAABAAAAAF8QLhdyYXcAAAAA%252B4kUEk%252F7iMGR3xPcX6iU%26sortBy%3Drecent&amp;openid.identity=http%3A%2F%2Fspecs.openid.net%2Fauth%2F2.0%2Fidentifier_select&amp;openid.claimed_id=http%3A%2F%2Fspecs.openid.net%2Fauth%2F2.0%2Fidentifier_select&amp;openid.assoc_handle=inflex&amp;openid.mode=checkid_setup&amp;openid.ns=http%3A%2F%2Fspecs.openid.net%2Fauth%2F2.0\" role=\"button\"><div class=\"cr-helpful-text\">\n",
              "           Helpful</div>\n",
              " </a>,\n",
              " <a class=\"a-expander-header a-declarative a-expander-inline-header a-link-expander\" data-a-expander-toggle='{\"allowLinkDefault\":true, \"expand_prompt\":\"\", \"collapse_prompt\":\"\"}' data-action=\"a-expander-toggle\" href=\"javascript:void(0)\"><i class=\"a-icon a-icon-expand\"></i><span class=\"a-expander-prompt\"><span class=\"review-comment-total aok-hidden\">0</span><span class=\"a-size-base\"><span class=\"a-declarative\" data-action=\"reviews:ajax-post\" data-reviews:ajax-post='{\"removeOnLoadSelector\":\".submission-button-for-R16A7VQW8NXJS3\",\"indicatorSelector\":\".comment-submission-loading-R16A7VQW8NXJS3\",\"params\":{\"isSRP\":false,\"asin\":\"B07DJHY82F\",\"reviewId\":\"R16A7VQW8NXJS3\"},\"showOnFailureSelector\":\".comment-submission-error-R16A7VQW8NXJS3\",\"url\":\"/hz/reviews-render/ajax/comment-submission/get/ref=cm_cr_arp_d_btn\"}'>Comment</span></span></span></a>,\n",
              " <a class=\"a-size-base a-link-normal a-color-secondary report-abuse-link a-text-normal\" href=\"/hz/reviews-render/report-abuse?voteDomain=Reviews&amp;ref=cm_cr_arp_d_rvw_hlp&amp;csrfT=gr3Nf7uDQ03PQX6oQuEkBnEygJ22g%2B%2FbMf41D58AAAABAAAAAF8QLhdyYXcAAAAA%2B4kUEk%2F7iMGR3xPcX6iU&amp;entityId=R16A7VQW8NXJS3&amp;sessionId=000-0000000-0000000\">Report abuse</a>,\n",
              " <a class=\"a-link-normal a-selected a-color-state\" data-reftag=\"cm_cr_arp_d_cmt_lft\" href=\"#\">Newest</a>,\n",
              " <a class=\"a-link-normal\" data-reftag=\"cm_cr_arp_d_cmt_rgt\" href=\"#\">Oldest</a>,\n",
              " <a class=\"a-profile\" data-a-size=\"small\" href=\"/gp/profile/amzn1.account.AFYPYHI66HFSJ5ZR56JXR6Q6DMHA\"><div aria-hidden=\"true\" class=\"a-profile-avatar-wrapper\"><div class=\"a-profile-avatar\"><img class=\"a-lazy-loaded\" data-src=\"https://images-eu.ssl-images-amazon.com/images/S/amazon-avatars-global/default._CR0,0,1024,1024_SX48_.png\" src=\"https://images-na.ssl-images-amazon.com/images/G/01/x-locale/common/grey-pixel.gif\"/><noscript><img src=\"https://images-eu.ssl-images-amazon.com/images/S/amazon-avatars-global/default._CR0,0,1024,1024_SX48_.png\"/></noscript></div></div><div class=\"a-profile-content\"><span class=\"a-profile-name\">PHUTANE K.</span></div></a>,\n",
              " <a class=\"a-link-normal\" href=\"/gp/customer-reviews/R351NSME05T6D?ASIN=B07DJHY82F\" title=\"5.0 out of 5 stars\"><i class=\"a-icon a-icon-star a-star-5 review-rating\" data-hook=\"review-star-rating\"><span class=\"a-icon-alt\">5.0 out of 5 stars</span></i></a>,\n",
              " <a class=\"a-size-base a-link-normal review-title a-color-base review-title-content a-text-bold\" data-hook=\"review-title\" href=\"/gp/customer-reviews/R351NSME05T6D?ASIN=B07DJHY82F\">\n",
              " <span>Good</span>\n",
              " </a>,\n",
              " <a class=\"a-link-normal\" data-reftag=\"cm_cr_arp_d_rvw_rvwer\" data-reviews-state-param='{\"pageNumber\":\"1\",\"reviewerType\":\"avp_only_reviews\"}' href=\"/OnePlus-Midnight-Black-128GB-Storage/product-reviews/B07DJHY82F?reviewerType=avp_only_reviews&amp;sortBy=recent\"><span class=\"a-size-mini a-color-state a-text-bold\" data-hook=\"avp-badge\">Verified Purchase</span></a>,\n",
              " <a class=\"a-button-text\" data-hook=\"vote-helpful-button\" href=\"https://www.amazon.in/ap/signin?openid.return_to=https%3A%2F%2Fwww.amazon.in%2FOnePlus-Midnight-Black-128GB-Storage%2Fproduct-reviews%2FB07DJHY82F%3FvoteInstanceId%3DR351NSME05T6D%26voteValue%3D1%26reviewerType%3Dall_reviews%26csrfT%3Dgui1rYKQHsIJxCWPb1AwsrxsLSD4%252BaOt%252BHr8EzkAAAABAAAAAF8QLhdyYXcAAAAA%252B4kUEk%252F7iMGR3xPcX6iU%26sortBy%3Drecent&amp;openid.identity=http%3A%2F%2Fspecs.openid.net%2Fauth%2F2.0%2Fidentifier_select&amp;openid.claimed_id=http%3A%2F%2Fspecs.openid.net%2Fauth%2F2.0%2Fidentifier_select&amp;openid.assoc_handle=inflex&amp;openid.mode=checkid_setup&amp;openid.ns=http%3A%2F%2Fspecs.openid.net%2Fauth%2F2.0\" role=\"button\"><div class=\"cr-helpful-text\">\n",
              "           Helpful</div>\n",
              " </a>,\n",
              " <a class=\"a-expander-header a-declarative a-expander-inline-header a-link-expander\" data-a-expander-toggle='{\"allowLinkDefault\":true, \"expand_prompt\":\"\", \"collapse_prompt\":\"\"}' data-action=\"a-expander-toggle\" href=\"javascript:void(0)\"><i class=\"a-icon a-icon-expand\"></i><span class=\"a-expander-prompt\"><span class=\"review-comment-total aok-hidden\">0</span><span class=\"a-size-base\"><span class=\"a-declarative\" data-action=\"reviews:ajax-post\" data-reviews:ajax-post='{\"removeOnLoadSelector\":\".submission-button-for-R351NSME05T6D\",\"indicatorSelector\":\".comment-submission-loading-R351NSME05T6D\",\"params\":{\"isSRP\":false,\"asin\":\"B07DJHY82F\",\"reviewId\":\"R351NSME05T6D\"},\"showOnFailureSelector\":\".comment-submission-error-R351NSME05T6D\",\"url\":\"/hz/reviews-render/ajax/comment-submission/get/ref=cm_cr_arp_d_btn\"}'>Comment</span></span></span></a>,\n",
              " <a class=\"a-size-base a-link-normal a-color-secondary report-abuse-link a-text-normal\" href=\"/hz/reviews-render/report-abuse?voteDomain=Reviews&amp;ref=cm_cr_arp_d_rvw_hlp&amp;csrfT=gui1rYKQHsIJxCWPb1AwsrxsLSD4%2BaOt%2BHr8EzkAAAABAAAAAF8QLhdyYXcAAAAA%2B4kUEk%2F7iMGR3xPcX6iU&amp;entityId=R351NSME05T6D&amp;sessionId=000-0000000-0000000\">Report abuse</a>,\n",
              " <a class=\"a-link-normal a-selected a-color-state\" data-reftag=\"cm_cr_arp_d_cmt_lft\" href=\"#\">Newest</a>,\n",
              " <a class=\"a-link-normal\" data-reftag=\"cm_cr_arp_d_cmt_rgt\" href=\"#\">Oldest</a>,\n",
              " <a class=\"a-profile\" data-a-size=\"small\" href=\"/gp/profile/amzn1.account.AEG4V4BV6GUW26PBTKWHIOXEIDLQ\"><div aria-hidden=\"true\" class=\"a-profile-avatar-wrapper\"><div class=\"a-profile-avatar\"><img class=\"a-lazy-loaded\" data-src=\"https://images-eu.ssl-images-amazon.com/images/S/amazon-avatars-global/default._CR0,0,1024,1024_SX48_.png\" src=\"https://images-na.ssl-images-amazon.com/images/G/01/x-locale/common/grey-pixel.gif\"/><noscript><img src=\"https://images-eu.ssl-images-amazon.com/images/S/amazon-avatars-global/default._CR0,0,1024,1024_SX48_.png\"/></noscript></div></div><div class=\"a-profile-content\"><span class=\"a-profile-name\">Abhay</span></div></a>,\n",
              " <a class=\"a-link-normal\" href=\"/gp/customer-reviews/R3P7MFCT97AKR8?ASIN=B07DJHY82F\" title=\"5.0 out of 5 stars\"><i class=\"a-icon a-icon-star a-star-5 review-rating\" data-hook=\"review-star-rating\"><span class=\"a-icon-alt\">5.0 out of 5 stars</span></i></a>,\n",
              " <a class=\"a-size-base a-link-normal review-title a-color-base review-title-content a-text-bold\" data-hook=\"review-title\" href=\"/gp/customer-reviews/R3P7MFCT97AKR8?ASIN=B07DJHY82F\">\n",
              " <span>Good phone</span>\n",
              " </a>,\n",
              " <a class=\"a-link-normal\" data-reftag=\"cm_cr_arp_d_rvw_rvwer\" data-reviews-state-param='{\"pageNumber\":\"1\",\"reviewerType\":\"avp_only_reviews\"}' href=\"/OnePlus-Midnight-Black-128GB-Storage/product-reviews/B07DJHY82F?reviewerType=avp_only_reviews&amp;sortBy=recent\"><span class=\"a-size-mini a-color-state a-text-bold\" data-hook=\"avp-badge\">Verified Purchase</span></a>,\n",
              " <a class=\"a-button-text\" data-hook=\"vote-helpful-button\" href=\"https://www.amazon.in/ap/signin?openid.return_to=https%3A%2F%2Fwww.amazon.in%2FOnePlus-Midnight-Black-128GB-Storage%2Fproduct-reviews%2FB07DJHY82F%3FvoteInstanceId%3DR3P7MFCT97AKR8%26voteValue%3D1%26reviewerType%3Dall_reviews%26csrfT%3DgozplVmaSjVt6XNubhjhR5ssz%252FZmYN5zO8m%252BdRkAAAABAAAAAF8QLhdyYXcAAAAA%252B4kUEk%252F7iMGR3xPcX6iU%26sortBy%3Drecent&amp;openid.identity=http%3A%2F%2Fspecs.openid.net%2Fauth%2F2.0%2Fidentifier_select&amp;openid.claimed_id=http%3A%2F%2Fspecs.openid.net%2Fauth%2F2.0%2Fidentifier_select&amp;openid.assoc_handle=inflex&amp;openid.mode=checkid_setup&amp;openid.ns=http%3A%2F%2Fspecs.openid.net%2Fauth%2F2.0\" role=\"button\"><div class=\"cr-helpful-text\">\n",
              "           Helpful</div>\n",
              " </a>,\n",
              " <a class=\"a-expander-header a-declarative a-expander-inline-header a-link-expander\" data-a-expander-toggle='{\"allowLinkDefault\":true, \"expand_prompt\":\"\", \"collapse_prompt\":\"\"}' data-action=\"a-expander-toggle\" href=\"javascript:void(0)\"><i class=\"a-icon a-icon-expand\"></i><span class=\"a-expander-prompt\"><span class=\"review-comment-total aok-hidden\">0</span><span class=\"a-size-base\"><span class=\"a-declarative\" data-action=\"reviews:ajax-post\" data-reviews:ajax-post='{\"removeOnLoadSelector\":\".submission-button-for-R3P7MFCT97AKR8\",\"indicatorSelector\":\".comment-submission-loading-R3P7MFCT97AKR8\",\"params\":{\"isSRP\":false,\"asin\":\"B07DJHY82F\",\"reviewId\":\"R3P7MFCT97AKR8\"},\"showOnFailureSelector\":\".comment-submission-error-R3P7MFCT97AKR8\",\"url\":\"/hz/reviews-render/ajax/comment-submission/get/ref=cm_cr_arp_d_btn\"}'>Comment</span></span></span></a>,\n",
              " <a class=\"a-size-base a-link-normal a-color-secondary report-abuse-link a-text-normal\" href=\"/hz/reviews-render/report-abuse?voteDomain=Reviews&amp;ref=cm_cr_arp_d_rvw_hlp&amp;csrfT=gozplVmaSjVt6XNubhjhR5ssz%2FZmYN5zO8m%2BdRkAAAABAAAAAF8QLhdyYXcAAAAA%2B4kUEk%2F7iMGR3xPcX6iU&amp;entityId=R3P7MFCT97AKR8&amp;sessionId=000-0000000-0000000\">Report abuse</a>,\n",
              " <a class=\"a-link-normal a-selected a-color-state\" data-reftag=\"cm_cr_arp_d_cmt_lft\" href=\"#\">Newest</a>,\n",
              " <a class=\"a-link-normal\" data-reftag=\"cm_cr_arp_d_cmt_rgt\" href=\"#\">Oldest</a>,\n",
              " <a class=\"a-profile\" data-a-size=\"small\" href=\"/gp/profile/amzn1.account.AHSNW7XN6R5PI64KOLVIN67F3C4A\"><div aria-hidden=\"true\" class=\"a-profile-avatar-wrapper\"><div class=\"a-profile-avatar\"><img class=\"a-lazy-loaded\" data-src=\"https://images-eu.ssl-images-amazon.com/images/S/amazon-avatars-global/1cbef44c-7451-4521-ade3-3a1f90baa404._CR0,0.0,333,333_SX48_.jpg\" src=\"https://images-na.ssl-images-amazon.com/images/G/01/x-locale/common/grey-pixel.gif\"/><noscript><img src=\"https://images-eu.ssl-images-amazon.com/images/S/amazon-avatars-global/1cbef44c-7451-4521-ade3-3a1f90baa404._CR0,0.0,333,333_SX48_.jpg\"/></noscript></div></div><div class=\"a-profile-content\"><span class=\"a-profile-name\">Siddharth</span></div></a>,\n",
              " <a class=\"a-link-normal\" href=\"/gp/customer-reviews/R33EFAMELCXEZ8?ASIN=B07DJHY82F\" title=\"5.0 out of 5 stars\"><i class=\"a-icon a-icon-star a-star-5 review-rating\" data-hook=\"review-star-rating\"><span class=\"a-icon-alt\">5.0 out of 5 stars</span></i></a>,\n",
              " <a class=\"a-size-base a-link-normal review-title a-color-base review-title-content a-text-bold\" data-hook=\"review-title\" href=\"/gp/customer-reviews/R33EFAMELCXEZ8?ASIN=B07DJHY82F\">\n",
              " <span>Best Phone</span>\n",
              " </a>,\n",
              " <a class=\"a-link-normal\" data-reftag=\"cm_cr_arp_d_rvw_rvwer\" data-reviews-state-param='{\"pageNumber\":\"1\",\"reviewerType\":\"avp_only_reviews\"}' href=\"/OnePlus-Midnight-Black-128GB-Storage/product-reviews/B07DJHY82F?reviewerType=avp_only_reviews&amp;sortBy=recent\"><span class=\"a-size-mini a-color-state a-text-bold\" data-hook=\"avp-badge\">Verified Purchase</span></a>,\n",
              " <a class=\"a-button-text\" data-hook=\"vote-helpful-button\" href=\"https://www.amazon.in/ap/signin?openid.return_to=https%3A%2F%2Fwww.amazon.in%2FOnePlus-Midnight-Black-128GB-Storage%2Fproduct-reviews%2FB07DJHY82F%3FvoteInstanceId%3DR33EFAMELCXEZ8%26voteValue%3D1%26reviewerType%3Dall_reviews%26csrfT%3DgkQbTq278JbkRHavaBrp34OFAo7fW8aLIjTUyLwAAAABAAAAAF8QLhdyYXcAAAAA%252B4kUEk%252F7iMGR3xPcX6iU%26sortBy%3Drecent&amp;openid.identity=http%3A%2F%2Fspecs.openid.net%2Fauth%2F2.0%2Fidentifier_select&amp;openid.claimed_id=http%3A%2F%2Fspecs.openid.net%2Fauth%2F2.0%2Fidentifier_select&amp;openid.assoc_handle=inflex&amp;openid.mode=checkid_setup&amp;openid.ns=http%3A%2F%2Fspecs.openid.net%2Fauth%2F2.0\" role=\"button\"><div class=\"cr-helpful-text\">\n",
              "           Helpful</div>\n",
              " </a>,\n",
              " <a class=\"a-expander-header a-declarative a-expander-inline-header a-link-expander\" data-a-expander-toggle='{\"allowLinkDefault\":true, \"expand_prompt\":\"\", \"collapse_prompt\":\"\"}' data-action=\"a-expander-toggle\" href=\"javascript:void(0)\"><i class=\"a-icon a-icon-expand\"></i><span class=\"a-expander-prompt\"><span class=\"review-comment-total aok-hidden\">0</span><span class=\"a-size-base\"><span class=\"a-declarative\" data-action=\"reviews:ajax-post\" data-reviews:ajax-post='{\"removeOnLoadSelector\":\".submission-button-for-R33EFAMELCXEZ8\",\"indicatorSelector\":\".comment-submission-loading-R33EFAMELCXEZ8\",\"params\":{\"isSRP\":false,\"asin\":\"B07DJHY82F\",\"reviewId\":\"R33EFAMELCXEZ8\"},\"showOnFailureSelector\":\".comment-submission-error-R33EFAMELCXEZ8\",\"url\":\"/hz/reviews-render/ajax/comment-submission/get/ref=cm_cr_arp_d_btn\"}'>Comment</span></span></span></a>,\n",
              " <a class=\"a-size-base a-link-normal a-color-secondary report-abuse-link a-text-normal\" href=\"/hz/reviews-render/report-abuse?voteDomain=Reviews&amp;ref=cm_cr_arp_d_rvw_hlp&amp;csrfT=gkQbTq278JbkRHavaBrp34OFAo7fW8aLIjTUyLwAAAABAAAAAF8QLhdyYXcAAAAA%2B4kUEk%2F7iMGR3xPcX6iU&amp;entityId=R33EFAMELCXEZ8&amp;sessionId=000-0000000-0000000\">Report abuse</a>,\n",
              " <a class=\"a-link-normal a-selected a-color-state\" data-reftag=\"cm_cr_arp_d_cmt_lft\" href=\"#\">Newest</a>,\n",
              " <a class=\"a-link-normal\" data-reftag=\"cm_cr_arp_d_cmt_rgt\" href=\"#\">Oldest</a>,\n",
              " <a class=\"a-profile\" data-a-size=\"small\" href=\"/gp/profile/amzn1.account.AFZ3K6NW5OBRKW7GGEE5YLRXG4JA\"><div aria-hidden=\"true\" class=\"a-profile-avatar-wrapper\"><div class=\"a-profile-avatar\"><img class=\"a-lazy-loaded\" data-src=\"https://images-eu.ssl-images-amazon.com/images/S/amazon-avatars-global/default._CR0,0,1024,1024_SX48_.png\" src=\"https://images-na.ssl-images-amazon.com/images/G/01/x-locale/common/grey-pixel.gif\"/><noscript><img src=\"https://images-eu.ssl-images-amazon.com/images/S/amazon-avatars-global/default._CR0,0,1024,1024_SX48_.png\"/></noscript></div></div><div class=\"a-profile-content\"><span class=\"a-profile-name\">Jay Shankar yadav</span></div></a>,\n",
              " <a class=\"a-link-normal\" href=\"/gp/customer-reviews/R2UB7HHXB73EWF?ASIN=B07DJHY82F\" title=\"2.0 out of 5 stars\"><i class=\"a-icon a-icon-star a-star-2 review-rating\" data-hook=\"review-star-rating\"><span class=\"a-icon-alt\">2.0 out of 5 stars</span></i></a>,\n",
              " <a class=\"a-size-base a-link-normal review-title a-color-base review-title-content a-text-bold\" data-hook=\"review-title\" href=\"/gp/customer-reviews/R2UB7HHXB73EWF?ASIN=B07DJHY82F\">\n",
              " <span>Not worth it</span>\n",
              " </a>,\n",
              " <a class=\"a-link-normal\" data-reftag=\"cm_cr_arp_d_rvw_rvwer\" data-reviews-state-param='{\"pageNumber\":\"1\",\"reviewerType\":\"avp_only_reviews\"}' href=\"/OnePlus-Midnight-Black-128GB-Storage/product-reviews/B07DJHY82F?reviewerType=avp_only_reviews&amp;sortBy=recent\"><span class=\"a-size-mini a-color-state a-text-bold\" data-hook=\"avp-badge\">Verified Purchase</span></a>,\n",
              " <a class=\"a-button-text\" data-hook=\"vote-helpful-button\" href=\"https://www.amazon.in/ap/signin?openid.return_to=https%3A%2F%2Fwww.amazon.in%2FOnePlus-Midnight-Black-128GB-Storage%2Fproduct-reviews%2FB07DJHY82F%3FvoteInstanceId%3DR2UB7HHXB73EWF%26voteValue%3D1%26reviewerType%3Dall_reviews%26csrfT%3Dgi01XxIkwyKHbnfjzGBnhkq%252F3cx7dObdlv6RwK0AAAABAAAAAF8QLhdyYXcAAAAA%252B4kUEk%252F7iMGR3xPcX6iU%26sortBy%3Drecent&amp;openid.identity=http%3A%2F%2Fspecs.openid.net%2Fauth%2F2.0%2Fidentifier_select&amp;openid.claimed_id=http%3A%2F%2Fspecs.openid.net%2Fauth%2F2.0%2Fidentifier_select&amp;openid.assoc_handle=inflex&amp;openid.mode=checkid_setup&amp;openid.ns=http%3A%2F%2Fspecs.openid.net%2Fauth%2F2.0\" role=\"button\"><div class=\"cr-helpful-text\">\n",
              "           Helpful</div>\n",
              " </a>,\n",
              " <a class=\"a-expander-header a-declarative a-expander-inline-header a-link-expander\" data-a-expander-toggle='{\"allowLinkDefault\":true, \"expand_prompt\":\"\", \"collapse_prompt\":\"\"}' data-action=\"a-expander-toggle\" href=\"javascript:void(0)\"><i class=\"a-icon a-icon-expand\"></i><span class=\"a-expander-prompt\"><span class=\"review-comment-total aok-hidden\">0</span><span class=\"a-size-base\"><span class=\"a-declarative\" data-action=\"reviews:ajax-post\" data-reviews:ajax-post='{\"removeOnLoadSelector\":\".submission-button-for-R2UB7HHXB73EWF\",\"indicatorSelector\":\".comment-submission-loading-R2UB7HHXB73EWF\",\"params\":{\"isSRP\":false,\"asin\":\"B07DJHY82F\",\"reviewId\":\"R2UB7HHXB73EWF\"},\"showOnFailureSelector\":\".comment-submission-error-R2UB7HHXB73EWF\",\"url\":\"/hz/reviews-render/ajax/comment-submission/get/ref=cm_cr_arp_d_btn\"}'>Comment</span></span></span></a>,\n",
              " <a class=\"a-size-base a-link-normal a-color-secondary report-abuse-link a-text-normal\" href=\"/hz/reviews-render/report-abuse?voteDomain=Reviews&amp;ref=cm_cr_arp_d_rvw_hlp&amp;csrfT=gi01XxIkwyKHbnfjzGBnhkq%2F3cx7dObdlv6RwK0AAAABAAAAAF8QLhdyYXcAAAAA%2B4kUEk%2F7iMGR3xPcX6iU&amp;entityId=R2UB7HHXB73EWF&amp;sessionId=000-0000000-0000000\">Report abuse</a>,\n",
              " <a class=\"a-link-normal a-selected a-color-state\" data-reftag=\"cm_cr_arp_d_cmt_lft\" href=\"#\">Newest</a>,\n",
              " <a class=\"a-link-normal\" data-reftag=\"cm_cr_arp_d_cmt_rgt\" href=\"#\">Oldest</a>,\n",
              " <a class=\"a-profile\" data-a-size=\"small\" href=\"/gp/profile/amzn1.account.AHIN5DZSZ4MJDF6QAMIKBEJJP4ZA\"><div aria-hidden=\"true\" class=\"a-profile-avatar-wrapper\"><div class=\"a-profile-avatar\"><img class=\"a-lazy-loaded\" data-src=\"https://images-eu.ssl-images-amazon.com/images/S/amazon-avatars-global/default._CR0,0,1024,1024_SX48_.png\" src=\"https://images-na.ssl-images-amazon.com/images/G/01/x-locale/common/grey-pixel.gif\"/><noscript><img src=\"https://images-eu.ssl-images-amazon.com/images/S/amazon-avatars-global/default._CR0,0,1024,1024_SX48_.png\"/></noscript></div></div><div class=\"a-profile-content\"><span class=\"a-profile-name\">Ravi</span></div></a>,\n",
              " <a class=\"a-link-normal\" href=\"/gp/customer-reviews/RFZ42TNGYG2O3?ASIN=B07DJHY82F\" title=\"5.0 out of 5 stars\"><i class=\"a-icon a-icon-star a-star-5 review-rating\" data-hook=\"review-star-rating\"><span class=\"a-icon-alt\">5.0 out of 5 stars</span></i></a>,\n",
              " <a class=\"a-size-base a-link-normal review-title a-color-base review-title-content a-text-bold\" data-hook=\"review-title\" href=\"/gp/customer-reviews/RFZ42TNGYG2O3?ASIN=B07DJHY82F\">\n",
              " <span>Issue with fingerprint sensor</span>\n",
              " </a>,\n",
              " <a class=\"a-link-normal\" data-reftag=\"cm_cr_arp_d_rvw_rvwer\" data-reviews-state-param='{\"pageNumber\":\"1\",\"reviewerType\":\"avp_only_reviews\"}' href=\"/OnePlus-Midnight-Black-128GB-Storage/product-reviews/B07DJHY82F?reviewerType=avp_only_reviews&amp;sortBy=recent\"><span class=\"a-size-mini a-color-state a-text-bold\" data-hook=\"avp-badge\">Verified Purchase</span></a>,\n",
              " <a class=\"a-button-text\" data-hook=\"vote-helpful-button\" href=\"https://www.amazon.in/ap/signin?openid.return_to=https%3A%2F%2Fwww.amazon.in%2FOnePlus-Midnight-Black-128GB-Storage%2Fproduct-reviews%2FB07DJHY82F%3FvoteInstanceId%3DRFZ42TNGYG2O3%26voteValue%3D1%26reviewerType%3Dall_reviews%26csrfT%3Dgq3I9EfxnGEAH0y9w6ilu3y4SWUFpIqhPw2K8Y0AAAABAAAAAF8QLhdyYXcAAAAA%252B4kUEk%252F7iMGR3xPcX6iU%26sortBy%3Drecent&amp;openid.identity=http%3A%2F%2Fspecs.openid.net%2Fauth%2F2.0%2Fidentifier_select&amp;openid.claimed_id=http%3A%2F%2Fspecs.openid.net%2Fauth%2F2.0%2Fidentifier_select&amp;openid.assoc_handle=inflex&amp;openid.mode=checkid_setup&amp;openid.ns=http%3A%2F%2Fspecs.openid.net%2Fauth%2F2.0\" role=\"button\"><div class=\"cr-helpful-text\">\n",
              "           Helpful</div>\n",
              " </a>,\n",
              " <a class=\"a-expander-header a-declarative a-expander-inline-header a-link-expander\" data-a-expander-toggle='{\"allowLinkDefault\":true, \"expand_prompt\":\"\", \"collapse_prompt\":\"\"}' data-action=\"a-expander-toggle\" href=\"javascript:void(0)\"><i class=\"a-icon a-icon-expand\"></i><span class=\"a-expander-prompt\"><span class=\"review-comment-total aok-hidden\">0</span><span class=\"a-size-base\"><span class=\"a-declarative\" data-action=\"reviews:ajax-post\" data-reviews:ajax-post='{\"removeOnLoadSelector\":\".submission-button-for-RFZ42TNGYG2O3\",\"indicatorSelector\":\".comment-submission-loading-RFZ42TNGYG2O3\",\"params\":{\"isSRP\":false,\"asin\":\"B07DJHY82F\",\"reviewId\":\"RFZ42TNGYG2O3\"},\"showOnFailureSelector\":\".comment-submission-error-RFZ42TNGYG2O3\",\"url\":\"/hz/reviews-render/ajax/comment-submission/get/ref=cm_cr_arp_d_btn\"}'>Comment</span></span></span></a>,\n",
              " <a class=\"a-size-base a-link-normal a-color-secondary report-abuse-link a-text-normal\" href=\"/hz/reviews-render/report-abuse?voteDomain=Reviews&amp;ref=cm_cr_arp_d_rvw_hlp&amp;csrfT=gq3I9EfxnGEAH0y9w6ilu3y4SWUFpIqhPw2K8Y0AAAABAAAAAF8QLhdyYXcAAAAA%2B4kUEk%2F7iMGR3xPcX6iU&amp;entityId=RFZ42TNGYG2O3&amp;sessionId=000-0000000-0000000\">Report abuse</a>,\n",
              " <a class=\"a-link-normal a-selected a-color-state\" data-reftag=\"cm_cr_arp_d_cmt_lft\" href=\"#\">Newest</a>,\n",
              " <a class=\"a-link-normal\" data-reftag=\"cm_cr_arp_d_cmt_rgt\" href=\"#\">Oldest</a>,\n",
              " <a class=\"a-profile\" data-a-size=\"small\" href=\"/gp/profile/amzn1.account.AE223G4VUBONKYQ5GDIXHAPSU47A\"><div aria-hidden=\"true\" class=\"a-profile-avatar-wrapper\"><div class=\"a-profile-avatar\"><img class=\"a-lazy-loaded\" data-src=\"https://images-eu.ssl-images-amazon.com/images/S/amazon-avatars-global/default._CR0,0,1024,1024_SX48_.png\" src=\"https://images-na.ssl-images-amazon.com/images/G/01/x-locale/common/grey-pixel.gif\"/><noscript><img src=\"https://images-eu.ssl-images-amazon.com/images/S/amazon-avatars-global/default._CR0,0,1024,1024_SX48_.png\"/></noscript></div></div><div class=\"a-profile-content\"><span class=\"a-profile-name\">shyam</span></div></a>,\n",
              " <a class=\"a-link-normal\" href=\"/gp/customer-reviews/RCZQPDSIERH1N?ASIN=B07DJHY82F\" title=\"2.0 out of 5 stars\"><i class=\"a-icon a-icon-star a-star-2 review-rating\" data-hook=\"review-star-rating\"><span class=\"a-icon-alt\">2.0 out of 5 stars</span></i></a>,\n",
              " <a class=\"a-size-base a-link-normal review-title a-color-base review-title-content a-text-bold\" data-hook=\"review-title\" href=\"/gp/customer-reviews/RCZQPDSIERH1N?ASIN=B07DJHY82F\">\n",
              " <span>Batter life and radiation are a big concern</span>\n",
              " </a>,\n",
              " <a class=\"a-link-normal\" data-reftag=\"cm_cr_arp_d_rvw_rvwer\" data-reviews-state-param='{\"pageNumber\":\"1\",\"reviewerType\":\"avp_only_reviews\"}' href=\"/OnePlus-Midnight-Black-128GB-Storage/product-reviews/B07DJHY82F?reviewerType=avp_only_reviews&amp;sortBy=recent\"><span class=\"a-size-mini a-color-state a-text-bold\" data-hook=\"avp-badge\">Verified Purchase</span></a>,\n",
              " <a class=\"a-button-text\" data-hook=\"vote-helpful-button\" href=\"https://www.amazon.in/ap/signin?openid.return_to=https%3A%2F%2Fwww.amazon.in%2FOnePlus-Midnight-Black-128GB-Storage%2Fproduct-reviews%2FB07DJHY82F%3FvoteInstanceId%3DRCZQPDSIERH1N%26voteValue%3D1%26reviewerType%3Dall_reviews%26csrfT%3DghgilnBEf4pu3BOg6as7rLlyx8tDaBg0LDhVQOgAAAABAAAAAF8QLhdyYXcAAAAA%252B4kUEk%252F7iMGR3xPcX6iU%26sortBy%3Drecent&amp;openid.identity=http%3A%2F%2Fspecs.openid.net%2Fauth%2F2.0%2Fidentifier_select&amp;openid.claimed_id=http%3A%2F%2Fspecs.openid.net%2Fauth%2F2.0%2Fidentifier_select&amp;openid.assoc_handle=inflex&amp;openid.mode=checkid_setup&amp;openid.ns=http%3A%2F%2Fspecs.openid.net%2Fauth%2F2.0\" role=\"button\"><div class=\"cr-helpful-text\">\n",
              "           Helpful</div>\n",
              " </a>,\n",
              " <a class=\"a-expander-header a-declarative a-expander-inline-header a-link-expander\" data-a-expander-toggle='{\"allowLinkDefault\":true, \"expand_prompt\":\"\", \"collapse_prompt\":\"\"}' data-action=\"a-expander-toggle\" href=\"javascript:void(0)\"><i class=\"a-icon a-icon-expand\"></i><span class=\"a-expander-prompt\"><span class=\"review-comment-total aok-hidden\">0</span><span class=\"a-size-base\"><span class=\"a-declarative\" data-action=\"reviews:ajax-post\" data-reviews:ajax-post='{\"removeOnLoadSelector\":\".submission-button-for-RCZQPDSIERH1N\",\"indicatorSelector\":\".comment-submission-loading-RCZQPDSIERH1N\",\"params\":{\"isSRP\":false,\"asin\":\"B07DJHY82F\",\"reviewId\":\"RCZQPDSIERH1N\"},\"showOnFailureSelector\":\".comment-submission-error-RCZQPDSIERH1N\",\"url\":\"/hz/reviews-render/ajax/comment-submission/get/ref=cm_cr_arp_d_btn\"}'>Comment</span></span></span></a>,\n",
              " <a class=\"a-size-base a-link-normal a-color-secondary report-abuse-link a-text-normal\" href=\"/hz/reviews-render/report-abuse?voteDomain=Reviews&amp;ref=cm_cr_arp_d_rvw_hlp&amp;csrfT=ghgilnBEf4pu3BOg6as7rLlyx8tDaBg0LDhVQOgAAAABAAAAAF8QLhdyYXcAAAAA%2B4kUEk%2F7iMGR3xPcX6iU&amp;entityId=RCZQPDSIERH1N&amp;sessionId=000-0000000-0000000\">Report abuse</a>,\n",
              " <a class=\"a-link-normal a-selected a-color-state\" data-reftag=\"cm_cr_arp_d_cmt_lft\" href=\"#\">Newest</a>,\n",
              " <a class=\"a-link-normal\" data-reftag=\"cm_cr_arp_d_cmt_rgt\" href=\"#\">Oldest</a>,\n",
              " <a class=\"a-profile\" data-a-size=\"small\" href=\"/gp/profile/amzn1.account.AF5ZQEDEZP6IRWMBA6O5LVVZQXXQ\"><div aria-hidden=\"true\" class=\"a-profile-avatar-wrapper\"><div class=\"a-profile-avatar\"><img class=\"a-lazy-loaded\" data-src=\"https://images-eu.ssl-images-amazon.com/images/S/amazon-avatars-global/default._CR0,0,1024,1024_SX48_.png\" src=\"https://images-na.ssl-images-amazon.com/images/G/01/x-locale/common/grey-pixel.gif\"/><noscript><img src=\"https://images-eu.ssl-images-amazon.com/images/S/amazon-avatars-global/default._CR0,0,1024,1024_SX48_.png\"/></noscript></div></div><div class=\"a-profile-content\"><span class=\"a-profile-name\">Amazon Customer</span></div></a>,\n",
              " <a class=\"a-link-normal\" href=\"/gp/customer-reviews/R2P96TP48JD8WE?ASIN=B07DJHY82F\" title=\"4.0 out of 5 stars\"><i class=\"a-icon a-icon-star a-star-4 review-rating\" data-hook=\"review-star-rating\"><span class=\"a-icon-alt\">4.0 out of 5 stars</span></i></a>,\n",
              " <a class=\"a-size-base a-link-normal review-title a-color-base review-title-content a-text-bold\" data-hook=\"review-title\" href=\"/gp/customer-reviews/R2P96TP48JD8WE?ASIN=B07DJHY82F\">\n",
              " <span>Ok</span>\n",
              " </a>,\n",
              " <a class=\"a-link-normal\" data-reftag=\"cm_cr_arp_d_rvw_rvwer\" data-reviews-state-param='{\"pageNumber\":\"1\",\"reviewerType\":\"avp_only_reviews\"}' href=\"/OnePlus-Midnight-Black-128GB-Storage/product-reviews/B07DJHY82F?reviewerType=avp_only_reviews&amp;sortBy=recent\"><span class=\"a-size-mini a-color-state a-text-bold\" data-hook=\"avp-badge\">Verified Purchase</span></a>,\n",
              " <a class=\"a-button-text\" data-hook=\"vote-helpful-button\" href=\"https://www.amazon.in/ap/signin?openid.return_to=https%3A%2F%2Fwww.amazon.in%2FOnePlus-Midnight-Black-128GB-Storage%2Fproduct-reviews%2FB07DJHY82F%3FvoteInstanceId%3DR2P96TP48JD8WE%26voteValue%3D1%26reviewerType%3Dall_reviews%26csrfT%3DgusdT0Y%252FJU7aQ78%252BabN%252BHxh75Azwkvh690EFmuAAAAABAAAAAF8QLhdyYXcAAAAA%252B4kUEk%252F7iMGR3xPcX6iU%26sortBy%3Drecent&amp;openid.identity=http%3A%2F%2Fspecs.openid.net%2Fauth%2F2.0%2Fidentifier_select&amp;openid.claimed_id=http%3A%2F%2Fspecs.openid.net%2Fauth%2F2.0%2Fidentifier_select&amp;openid.assoc_handle=inflex&amp;openid.mode=checkid_setup&amp;openid.ns=http%3A%2F%2Fspecs.openid.net%2Fauth%2F2.0\" role=\"button\"><div class=\"cr-helpful-text\">\n",
              "           Helpful</div>\n",
              " </a>,\n",
              " <a class=\"a-expander-header a-declarative a-expander-inline-header a-link-expander\" data-a-expander-toggle='{\"allowLinkDefault\":true, \"expand_prompt\":\"\", \"collapse_prompt\":\"\"}' data-action=\"a-expander-toggle\" href=\"javascript:void(0)\"><i class=\"a-icon a-icon-expand\"></i><span class=\"a-expander-prompt\"><span class=\"review-comment-total aok-hidden\">0</span><span class=\"a-size-base\"><span class=\"a-declarative\" data-action=\"reviews:ajax-post\" data-reviews:ajax-post='{\"removeOnLoadSelector\":\".submission-button-for-R2P96TP48JD8WE\",\"indicatorSelector\":\".comment-submission-loading-R2P96TP48JD8WE\",\"params\":{\"isSRP\":false,\"asin\":\"B07DJHY82F\",\"reviewId\":\"R2P96TP48JD8WE\"},\"showOnFailureSelector\":\".comment-submission-error-R2P96TP48JD8WE\",\"url\":\"/hz/reviews-render/ajax/comment-submission/get/ref=cm_cr_arp_d_btn\"}'>Comment</span></span></span></a>,\n",
              " <a class=\"a-size-base a-link-normal a-color-secondary report-abuse-link a-text-normal\" href=\"/hz/reviews-render/report-abuse?voteDomain=Reviews&amp;ref=cm_cr_arp_d_rvw_hlp&amp;csrfT=gusdT0Y%2FJU7aQ78%2BabN%2BHxh75Azwkvh690EFmuAAAAABAAAAAF8QLhdyYXcAAAAA%2B4kUEk%2F7iMGR3xPcX6iU&amp;entityId=R2P96TP48JD8WE&amp;sessionId=000-0000000-0000000\">Report abuse</a>,\n",
              " <a class=\"a-link-normal a-selected a-color-state\" data-reftag=\"cm_cr_arp_d_cmt_lft\" href=\"#\">Newest</a>,\n",
              " <a class=\"a-link-normal\" data-reftag=\"cm_cr_arp_d_cmt_rgt\" href=\"#\">Oldest</a>,\n",
              " <a class=\"a-profile\" data-a-size=\"small\" href=\"/gp/profile/amzn1.account.AEEHLTSDC5SDKOAULEXIZOFSAP4A\"><div aria-hidden=\"true\" class=\"a-profile-avatar-wrapper\"><div class=\"a-profile-avatar\"><img class=\"a-lazy-loaded\" data-src=\"https://images-eu.ssl-images-amazon.com/images/S/amazon-avatars-global/default._CR0,0,1024,1024_SX48_.png\" src=\"https://images-na.ssl-images-amazon.com/images/G/01/x-locale/common/grey-pixel.gif\"/><noscript><img src=\"https://images-eu.ssl-images-amazon.com/images/S/amazon-avatars-global/default._CR0,0,1024,1024_SX48_.png\"/></noscript></div></div><div class=\"a-profile-content\"><span class=\"a-profile-name\">Praveen singh</span></div></a>,\n",
              " <a class=\"a-link-normal\" href=\"/gp/customer-reviews/R3A5TYUTOORVQQ?ASIN=B07DJHY82F\" title=\"5.0 out of 5 stars\"><i class=\"a-icon a-icon-star a-star-5 review-rating\" data-hook=\"review-star-rating\"><span class=\"a-icon-alt\">5.0 out of 5 stars</span></i></a>,\n",
              " <a class=\"a-size-base a-link-normal review-title a-color-base review-title-content a-text-bold\" data-hook=\"review-title\" href=\"/gp/customer-reviews/R3A5TYUTOORVQQ?ASIN=B07DJHY82F\">\n",
              " <span>Gud</span>\n",
              " </a>,\n",
              " <a class=\"a-link-normal\" data-reftag=\"cm_cr_arp_d_rvw_rvwer\" data-reviews-state-param='{\"pageNumber\":\"1\",\"reviewerType\":\"avp_only_reviews\"}' href=\"/OnePlus-Midnight-Black-128GB-Storage/product-reviews/B07DJHY82F?reviewerType=avp_only_reviews&amp;sortBy=recent\"><span class=\"a-size-mini a-color-state a-text-bold\" data-hook=\"avp-badge\">Verified Purchase</span></a>,\n",
              " <a class=\"a-button-text\" data-hook=\"vote-helpful-button\" href=\"https://www.amazon.in/ap/signin?openid.return_to=https%3A%2F%2Fwww.amazon.in%2FOnePlus-Midnight-Black-128GB-Storage%2Fproduct-reviews%2FB07DJHY82F%3FvoteInstanceId%3DR3A5TYUTOORVQQ%26voteValue%3D1%26reviewerType%3Dall_reviews%26csrfT%3Dgs0d0RMtgpfoiLPvVJH3ig6C4HGTfSONwZblT1QAAAABAAAAAF8QLhdyYXcAAAAA%252B4kUEk%252F7iMGR3xPcX6iU%26sortBy%3Drecent&amp;openid.identity=http%3A%2F%2Fspecs.openid.net%2Fauth%2F2.0%2Fidentifier_select&amp;openid.claimed_id=http%3A%2F%2Fspecs.openid.net%2Fauth%2F2.0%2Fidentifier_select&amp;openid.assoc_handle=inflex&amp;openid.mode=checkid_setup&amp;openid.ns=http%3A%2F%2Fspecs.openid.net%2Fauth%2F2.0\" role=\"button\"><div class=\"cr-helpful-text\">\n",
              "           Helpful</div>\n",
              " </a>,\n",
              " <a class=\"a-expander-header a-declarative a-expander-inline-header a-link-expander\" data-a-expander-toggle='{\"allowLinkDefault\":true, \"expand_prompt\":\"\", \"collapse_prompt\":\"\"}' data-action=\"a-expander-toggle\" href=\"javascript:void(0)\"><i class=\"a-icon a-icon-expand\"></i><span class=\"a-expander-prompt\"><span class=\"review-comment-total aok-hidden\">0</span><span class=\"a-size-base\"><span class=\"a-declarative\" data-action=\"reviews:ajax-post\" data-reviews:ajax-post='{\"removeOnLoadSelector\":\".submission-button-for-R3A5TYUTOORVQQ\",\"indicatorSelector\":\".comment-submission-loading-R3A5TYUTOORVQQ\",\"params\":{\"isSRP\":false,\"asin\":\"B07DJHY82F\",\"reviewId\":\"R3A5TYUTOORVQQ\"},\"showOnFailureSelector\":\".comment-submission-error-R3A5TYUTOORVQQ\",\"url\":\"/hz/reviews-render/ajax/comment-submission/get/ref=cm_cr_arp_d_btn\"}'>Comment</span></span></span></a>,\n",
              " <a class=\"a-size-base a-link-normal a-color-secondary report-abuse-link a-text-normal\" href=\"/hz/reviews-render/report-abuse?voteDomain=Reviews&amp;ref=cm_cr_arp_d_rvw_hlp&amp;csrfT=gs0d0RMtgpfoiLPvVJH3ig6C4HGTfSONwZblT1QAAAABAAAAAF8QLhdyYXcAAAAA%2B4kUEk%2F7iMGR3xPcX6iU&amp;entityId=R3A5TYUTOORVQQ&amp;sessionId=000-0000000-0000000\">Report abuse</a>,\n",
              " <a class=\"a-link-normal a-selected a-color-state\" data-reftag=\"cm_cr_arp_d_cmt_lft\" href=\"#\">Newest</a>,\n",
              " <a class=\"a-link-normal\" data-reftag=\"cm_cr_arp_d_cmt_rgt\" href=\"#\">Oldest</a>,\n",
              " <a href=\"/OnePlus-Midnight-Black-128GB-Storage/product-reviews/B07DJHY82F?pageNumber=146&amp;reviewerType=all_reviews&amp;sortBy=recent\">←<span class=\"a-letter-space\"></span><span class=\"a-letter-space\"></span>Previous page</a>,\n",
              " <a href=\"/OnePlus-Midnight-Black-128GB-Storage/product-reviews/B07DJHY82F?pageNumber=148&amp;reviewerType=all_reviews&amp;sortBy=recent\">Next page<span class=\"a-letter-space\"></span><span class=\"a-letter-space\"></span>→</a>,\n",
              " <a name=\"Ask\"></a>,\n",
              " <a class=\"a-link-normal askSeeAllQuestionsLink\" href=\"/ask/questions/asin/B07DJHY82F/ref=ask_rp_reva_ql_hza\">\n",
              "     See all 880 answered questions\n",
              " </a>,\n",
              " <a class=\"a-link-normal\" href=\"/gp/help/customer/contact-us?initialIssue=cust-review\" target=\"_blank\">Click here</a>,\n",
              " <a class=\"a-size-base a-link-normal a-text-bold\" href=\"/OnePlus-Midnight-Black-128GB-Storage/dp/B07DJHY82F\">See all details for OnePlus 6T (Midnight Black, 8GB RAM, 128GB Storage)</a>,\n",
              " <a class=\"nav-npt-a\" href=\"/prime\">Get started</a>,\n",
              " <a class=\"nav_a\" href=\"/gp/prime\"></a>,\n",
              " <a href=\"#nav-top\" id=\"navBackToTop\"><div class=\"navFooterBackToTop\"><span class=\"navFooterBackToTopText\">Back to top</span></div></a>,\n",
              " <a class=\"nav_a\" href=\"https://www.aboutamazon.in/?utm_source=gateway&amp;utm_medium=footer\">About Us</a>,\n",
              " <a class=\"nav_a\" href=\"https://amazon.jobs\">Careers</a>,\n",
              " <a class=\"nav_a\" href=\"/b?ie=UTF8&amp;node=1592137031&amp;ref_=footer_press\">Press Releases</a>,\n",
              " <a class=\"nav_a\" href=\"/b?ie=UTF8&amp;node=8872558031&amp;ref_=footer_cares\">Amazon Cares</a>,\n",
              " <a class=\"nav_a\" href=\"/Online-Charity/b?ie=UTF8&amp;node=4594605031&amp;ref_=footer_smile\">Gift a Smile</a>,\n",
              " <a class=\"nav_a\" href=\"http://www.amazon.in/gp/redirect.html/ref=footer_fb?location=http://www.facebook.com/AmazonIN&amp;token=2075D5EAC7BB214089728E2183FD391706D41E94&amp;6\">Facebook</a>,\n",
              " <a class=\"nav_a\" href=\"http://www.amazon.in/gp/redirect.html/ref=footer_twitter?location=http://twitter.com/AmazonIN&amp;token=A309DFBFCB1E37A808FF531934855DC817F130B6&amp;6\">Twitter</a>,\n",
              " <a class=\"nav_a\" href=\"http://www.amazon.in/gp/redirect.html?location=https://www.instagram.com/amazondotin&amp;token=264882C912E9D005CB1D9B61F12E125D5DF9BFC7&amp;source=standards\">Instagram</a>,\n",
              " <a class=\"nav_a\" href=\"/b/?_encoding=UTF8&amp;ld=AZINSOANavDesktopFooter&amp;node=2838698031&amp;ref_=nav_footer_sell\">Sell on Amazon</a>,\n",
              " <a class=\"nav_a\" href=\"https://accelerator.amazon.in/?ref_=map_1_b2b_GW_FT\">Sell under Amazon Accelerator</a>,\n",
              " <a class=\"nav_a\" href=\"/gp/redirect.html?_encoding=UTF8&amp;location=https%3A%2F%2Faffiliate-program.amazon.in%2F%3Fref_%3Dfooter_assoc%26utm_campaign%3Dassocshowcase%26utm_medium%3Dfooter%26utm_source%3DGW&amp;source=standards&amp;token=4D7ADB5A094B04230C576B761FB8EC3D657E2376\">Become an Affiliate</a>,\n",
              " <a class=\"nav_a\" href=\"http://services.amazon.in/services/fulfilment-by-amazon/benefits.html/ref=az_footer_fba?ld=AWRGINFBAfooter\">Fulfilment by Amazon</a>,\n",
              " <a class=\"nav_a\" href=\"https://advertising.amazon.in/?ref=Amz.in\">Advertise Your Products</a>,\n",
              " <a class=\"nav_a\" href=\"https://www.amazonpay.in/merchant\">Amazon Pay on Merchants</a>,\n",
              " <a class=\"nav_a\" href=\"/gp/help/customer/display.html?ie=UTF8&amp;nodeId=GDFU3JS5AL6SYHRD&amp;ref_=footer_covid\">COVID-19 and Amazon</a>,\n",
              " <a class=\"nav_a\" href=\"/gp/css/homepage.html?ie=UTF8&amp;ref_=footer_ya\">Your Account</a>,\n",
              " <a class=\"nav_a\" href=\"/gp/css/returns/homepage.html?ie=UTF8&amp;ref_=footer_hy_f_4\">Returns Centre</a>,\n",
              " <a class=\"nav_a\" href=\"/gp/help/customer/display.html?ie=UTF8&amp;nodeId=201083470&amp;ref_=footer_swc\">100% Purchase Protection</a>,\n",
              " <a class=\"nav_a\" href=\"/b?ie=UTF8&amp;node=6967393031&amp;ref_=footer_mobapp\">Amazon App Download</a>,\n",
              " <a class=\"nav_a\" href=\"/gp/BIT/theamazonapp/ref=footer_assistant_download_copy\">Amazon Assistant Download</a>,\n",
              " <a class=\"nav_a\" href=\"/gp/help/customer/display.html?ie=UTF8&amp;nodeId=200507590&amp;ref_=footer_gw_m_b_he\">Help</a>,\n",
              " <a href=\"/ref=footer_logo\"><div class=\"nav-logo-base nav-sprite\"></div></a>,\n",
              " <a class=\"icp-button\" href=\"/gp/customer-preferences/select-language?ie=UTF8&amp;preferencesReturnUrl=%2F\" id=\"icp-touch-link-language\">\n",
              " <div class=\"icp-nav-globe-img-2 icp-button-globe-2\"></div><span class=\"icp-color-base\">English</span><span class=\"nav-arrow icp-up-down-arrow\"></span><span class=\"aok-hidden\" style=\"display:none\">Choose a language for shopping.</span>\n",
              " </a>,\n",
              " <a class=\"nav_a\" href=\"http://www.amazon.com.au/ref=footer_au\">Australia</a>,\n",
              " <a class=\"nav_a\" href=\"http://www.amazon.com.br/ref=footer_br\">Brazil</a>,\n",
              " <a class=\"nav_a\" href=\"http://www.amazon.ca/ref=footer_ca\">Canada</a>,\n",
              " <a class=\"nav_a\" href=\"http://www.amazon.cn/ref=footer_cn\">China</a>,\n",
              " <a class=\"nav_a\" href=\"http://www.amazon.fr/ref=footer_fr\">France</a>,\n",
              " <a class=\"nav_a\" href=\"http://www.amazon.de/ref=footer_de\">Germany</a>,\n",
              " <a class=\"nav_a\" href=\"http://www.amazon.it/ref=footer_it\">Italy</a>,\n",
              " <a class=\"nav_a\" href=\"http://www.amazon.co.jp/ref=footer_jp\">Japan</a>,\n",
              " <a class=\"nav_a\" href=\"http://www.amazon.com.mx/ref=footer_mx\">Mexico</a>,\n",
              " <a class=\"nav_a\" href=\"http://www.amazon.nl/ref=footer_nl\">Netherlands</a>,\n",
              " <a class=\"nav_a\" href=\"http://www.amazon.sg/ref=footer_sg\">Singapore</a>,\n",
              " <a class=\"nav_a\" href=\"http://www.amazon.es/ref=footer_es\">Spain</a>,\n",
              " <a class=\"nav_a\" href=\"http://www.amazon.ae/ref=footer_ae\">United Arab Emirates</a>,\n",
              " <a class=\"nav_a\" href=\"http://www.amazon.co.uk/ref=footer_uk\">United Kingdom</a>,\n",
              " <a class=\"nav_a\" href=\"http://www.amazon.com/ref=footer_us\">United States</a>,\n",
              " <a class=\"nav_a\" href=\"https://www.abebooks.com/\">AbeBooks<br/> <span class=\"navFooterDescText\">Books, art<br/> &amp; collectibles</span></a>,\n",
              " <a class=\"nav_a\" href=\"https://aws.amazon.com/what-is-cloud-computing/?sc_channel=EL&amp;sc_campaign=IN_amazonfooter\">Amazon Web Services<br/> <span class=\"navFooterDescText\">Scalable Cloud<br/> Computing Services</span></a>,\n",
              " <a class=\"nav_a\" href=\"https://www.audible.in/\">Audible<br/> <span class=\"navFooterDescText\">Download<br/> Audio Books</span></a>,\n",
              " <a class=\"nav_a\" href=\"https://www.dpreview.com/\">DPReview<br/> <span class=\"navFooterDescText\">Digital<br/> Photography</span></a>,\n",
              " <a class=\"nav_a\" href=\"https://www.imdb.com/\">IMDb<br/> <span class=\"navFooterDescText\">Movies, TV<br/> &amp; Celebrities</span></a>,\n",
              " <a class=\"nav_a\" href=\"https://www.shopbop.com/\">Shopbop<br/> <span class=\"navFooterDescText\">Designer<br/> Fashion Brands</span></a>,\n",
              " <a class=\"nav_a\" href=\"/business?ref=footer_aingw\">\t\n",
              " Amazon Business<br/> <span class=\"navFooterDescText\">Everything For<br/> Your Business</span></a>,\n",
              " <a class=\"nav_a\" href=\"/now?ref=footer_amznow\">Prime Now<br/> <span class=\"navFooterDescText\"> 2-Hour Delivery<br/> on Everyday Items</span></a>,\n",
              " <a class=\"nav_a\" href=\"/music/prime?ref=footer_apm\">Amazon Prime Music<br/> <span class=\"navFooterDescText\">60 million songs</span></a>,\n",
              " <a class=\"nav_a\" href=\"/gp/help/customer/display.html?ie=UTF8&amp;nodeId=200545940&amp;ref_=footer_cou\">Conditions of Use &amp; Sale</a>,\n",
              " <a class=\"nav_a\" href=\"/gp/help/customer/display.html?ie=UTF8&amp;nodeId=200534380&amp;ref_=footer_privacy\">Privacy Notice</a>,\n",
              " <a class=\"nav_a\" href=\"/b?ie=UTF8&amp;node=6691071031&amp;ref_=footer_iba\">Interest-Based Ads</a>]"
            ]
          },
          "metadata": {
            "tags": []
          },
          "execution_count": 19
        }
      ]
    },
    {
      "cell_type": "code",
      "metadata": {
        "id": "yWpVQq-LNjMG",
        "colab_type": "code",
        "colab": {}
      },
      "source": [
        "rat = page_soup.find_all('span',{'class':'a-icon-alt'})"
      ],
      "execution_count": 20,
      "outputs": []
    },
    {
      "cell_type": "code",
      "metadata": {
        "id": "KxwI8n6PN0on",
        "colab_type": "code",
        "colab": {}
      },
      "source": [
        "rating1 = []\n",
        "\n",
        "for i in range(3,len(rat)-5): # the range is specified since it takes the unwanted ratings from the page\n",
        "    rating1.append(rat[i].text.split(' ')[0])"
      ],
      "execution_count": 21,
      "outputs": []
    },
    {
      "cell_type": "code",
      "metadata": {
        "id": "iTCE2FUEN3dC",
        "colab_type": "code",
        "colab": {
          "base_uri": "https://localhost:8080/",
          "height": 34
        },
        "outputId": "9971a41b-4c2d-44f7-e448-5a129ae12c60"
      },
      "source": [
        "len(rating1)"
      ],
      "execution_count": 22,
      "outputs": [
        {
          "output_type": "execute_result",
          "data": {
            "text/plain": [
              "5"
            ]
          },
          "metadata": {
            "tags": []
          },
          "execution_count": 22
        }
      ]
    },
    {
      "cell_type": "code",
      "metadata": {
        "id": "Vd91Q9RRN6Ow",
        "colab_type": "code",
        "colab": {}
      },
      "source": [
        "\n",
        "rev = page_soup.find_all('span',{'class':''})"
      ],
      "execution_count": 23,
      "outputs": []
    },
    {
      "cell_type": "code",
      "metadata": {
        "id": "kwJEsoBqN83L",
        "colab_type": "code",
        "colab": {}
      },
      "source": [
        "\n",
        "r =[]\n",
        "for i in rev:\n",
        "    r.append(i.text)"
      ],
      "execution_count": 24,
      "outputs": []
    },
    {
      "cell_type": "code",
      "metadata": {
        "id": "yOTHbpFbOAaq",
        "colab_type": "code",
        "colab": {}
      },
      "source": [
        "r2=['','Report abuse','\\nThere was a problem loading comments right now. Please try again later.','\\n',\n",
        "    'Select the department you want to search in','© 1996-2019, Amazon.com, Inc. or its affiliates']"
      ],
      "execution_count": 25,
      "outputs": []
    },
    {
      "cell_type": "code",
      "metadata": {
        "id": "CTlJSN4qOEve",
        "colab_type": "code",
        "colab": {}
      },
      "source": [
        "n =[]\n",
        "for i in r:\n",
        "    if i not in r2:\n",
        "        n.append(i)"
      ],
      "execution_count": 26,
      "outputs": []
    },
    {
      "cell_type": "code",
      "metadata": {
        "id": "GG3l_vfZOHTt",
        "colab_type": "code",
        "colab": {}
      },
      "source": [
        "\n",
        "review=[]\n",
        "title=[]\n",
        "for i in range(0,len(n)):\n",
        "    if i%2==1:\n",
        "        review.append(n[i])\n",
        "    if i%2==0:\n",
        "        title.append(n[i])"
      ],
      "execution_count": 27,
      "outputs": []
    },
    {
      "cell_type": "code",
      "metadata": {
        "id": "NTxlGD_dOKiW",
        "colab_type": "code",
        "colab": {
          "base_uri": "https://localhost:8080/",
          "height": 402
        },
        "outputId": "cd64bc90-a73d-4bea-90bb-f73af0af71d1"
      },
      "source": [
        "\n",
        "# Creating a dataframe with the extracted informations\n",
        "final = pd.DataFrame([title,review,rating1],index=['Title','Review','Rating'])\n",
        "final = final.T\n",
        "final"
      ],
      "execution_count": 28,
      "outputs": [
        {
          "output_type": "execute_result",
          "data": {
            "text/html": [
              "<div>\n",
              "<style scoped>\n",
              "    .dataframe tbody tr th:only-of-type {\n",
              "        vertical-align: middle;\n",
              "    }\n",
              "\n",
              "    .dataframe tbody tr th {\n",
              "        vertical-align: top;\n",
              "    }\n",
              "\n",
              "    .dataframe thead th {\n",
              "        text-align: right;\n",
              "    }\n",
              "</style>\n",
              "<table border=\"1\" class=\"dataframe\">\n",
              "  <thead>\n",
              "    <tr style=\"text-align: right;\">\n",
              "      <th></th>\n",
              "      <th>Title</th>\n",
              "      <th>Review</th>\n",
              "      <th>Rating</th>\n",
              "    </tr>\n",
              "  </thead>\n",
              "  <tbody>\n",
              "    <tr>\n",
              "      <th>0</th>\n",
              "      <td>Account &amp; Lists\\n</td>\n",
              "      <td>Prime\\n</td>\n",
              "      <td>5.0</td>\n",
              "    </tr>\n",
              "    <tr>\n",
              "      <th>1</th>\n",
              "      <td>Good</td>\n",
              "      <td>Good</td>\n",
              "      <td>5.0</td>\n",
              "    </tr>\n",
              "    <tr>\n",
              "      <th>2</th>\n",
              "      <td>Ok</td>\n",
              "      <td>It will charge rapidly,but battery life is not...</td>\n",
              "      <td>5.0</td>\n",
              "    </tr>\n",
              "    <tr>\n",
              "      <th>3</th>\n",
              "      <td>Good</td>\n",
              "      <td>Excellent</td>\n",
              "      <td>5.0</td>\n",
              "    </tr>\n",
              "    <tr>\n",
              "      <th>4</th>\n",
              "      <td>Good phone</td>\n",
              "      <td>Somehow finger print reader has a problem, it ...</td>\n",
              "      <td>5.0</td>\n",
              "    </tr>\n",
              "    <tr>\n",
              "      <th>5</th>\n",
              "      <td>Best Phone</td>\n",
              "      <td>Fingerprint reader some times not working prop...</td>\n",
              "      <td>None</td>\n",
              "    </tr>\n",
              "    <tr>\n",
              "      <th>6</th>\n",
              "      <td>Not worth it</td>\n",
              "      <td>Not worth the price in this price you will get...</td>\n",
              "      <td>None</td>\n",
              "    </tr>\n",
              "    <tr>\n",
              "      <th>7</th>\n",
              "      <td>Issue with fingerprint sensor</td>\n",
              "      <td>Some time it's fingerprint sensor doesn't work.</td>\n",
              "      <td>None</td>\n",
              "    </tr>\n",
              "    <tr>\n",
              "      <th>8</th>\n",
              "      <td>Batter life and radiation are a big concern</td>\n",
              "      <td>The battery life is very bad and also the radi...</td>\n",
              "      <td>None</td>\n",
              "    </tr>\n",
              "    <tr>\n",
              "      <th>9</th>\n",
              "      <td>Ok</td>\n",
              "      <td>Ok</td>\n",
              "      <td>None</td>\n",
              "    </tr>\n",
              "    <tr>\n",
              "      <th>10</th>\n",
              "      <td>Gud</td>\n",
              "      <td>Nice phone</td>\n",
              "      <td>None</td>\n",
              "    </tr>\n",
              "    <tr>\n",
              "      <th>11</th>\n",
              "      <td>© 1996-2020, Amazon.com, Inc. or its affiliates</td>\n",
              "      <td>None</td>\n",
              "      <td>None</td>\n",
              "    </tr>\n",
              "  </tbody>\n",
              "</table>\n",
              "</div>"
            ],
            "text/plain": [
              "                                              Title  ... Rating\n",
              "0                                 Account & Lists\\n  ...    5.0\n",
              "1                                              Good  ...    5.0\n",
              "2                                                Ok  ...    5.0\n",
              "3                                              Good  ...    5.0\n",
              "4                                        Good phone  ...    5.0\n",
              "5                                        Best Phone  ...   None\n",
              "6                                      Not worth it  ...   None\n",
              "7                     Issue with fingerprint sensor  ...   None\n",
              "8       Batter life and radiation are a big concern  ...   None\n",
              "9                                                Ok  ...   None\n",
              "10                                              Gud  ...   None\n",
              "11  © 1996-2020, Amazon.com, Inc. or its affiliates  ...   None\n",
              "\n",
              "[12 rows x 3 columns]"
            ]
          },
          "metadata": {
            "tags": []
          },
          "execution_count": 28
        }
      ]
    }
  ]
}