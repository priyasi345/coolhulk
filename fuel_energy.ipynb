{
  "nbformat": 4,
  "nbformat_minor": 0,
  "metadata": {
    "colab": {
      "name": "Untitled217.ipynb",
      "provenance": [],
      "collapsed_sections": [],
      "authorship_tag": "ABX9TyPbwNwKI4Ab8K+O//B1tK5z",
      "include_colab_link": true
    },
    "kernelspec": {
      "name": "python3",
      "display_name": "Python 3"
    }
  },
  "cells": [
    {
      "cell_type": "markdown",
      "metadata": {
        "id": "view-in-github",
        "colab_type": "text"
      },
      "source": [
        "<a href=\"https://colab.research.google.com/github/priyasi345/coolhulk/blob/master/fuel_energy.ipynb\" target=\"_parent\"><img src=\"https://colab.research.google.com/assets/colab-badge.svg\" alt=\"Open In Colab\"/></a>"
      ]
    },
    {
      "cell_type": "code",
      "metadata": {
        "id": "qUar8aHvO3QB",
        "colab_type": "code",
        "colab": {}
      },
      "source": [
        "#USING API KEY TO FETCH DATA\n",
        "import requests\n",
        "import json"
      ],
      "execution_count": 0,
      "outputs": []
    },
    {
      "cell_type": "code",
      "metadata": {
        "id": "lZfr-E_GVjvX",
        "colab_type": "code",
        "colab": {}
      },
      "source": [
        "result=requests.get('https://developer.nrel.gov/api/alt-fuel-stations/v1.json?fuel_type=E85,ELEC&state=CA&limit=2&api_key=nvcu7edrqIbTcfevyH8WdHshaqZqpPejn1LCUxrP').json()"
      ],
      "execution_count": 0,
      "outputs": []
    },
    {
      "cell_type": "code",
      "metadata": {
        "id": "x9TBzdyzVyL9",
        "colab_type": "code",
        "colab": {
          "base_uri": "https://localhost:8080/",
          "height": 1000
        },
        "outputId": "f5fc1874-5d19-423a-a69b-eb9408c93ba0"
      },
      "source": [
        "result"
      ],
      "execution_count": 4,
      "outputs": [
        {
          "output_type": "execute_result",
          "data": {
            "text/plain": [
              "{'fuel_stations': [{'access_code': 'public',\n",
              "   'access_days_time': 'Garage business hours; pay lot',\n",
              "   'access_days_time_fr': None,\n",
              "   'access_detail_code': None,\n",
              "   'bd_blends': None,\n",
              "   'bd_blends_fr': None,\n",
              "   'cards_accepted': None,\n",
              "   'city': 'Sacramento',\n",
              "   'cng_dispenser_num': None,\n",
              "   'cng_fill_type_code': None,\n",
              "   'cng_psi': None,\n",
              "   'cng_renewable_source': None,\n",
              "   'cng_total_compression': None,\n",
              "   'cng_total_storage': None,\n",
              "   'cng_vehicle_class': None,\n",
              "   'country': 'US',\n",
              "   'date_last_confirmed': '2019-05-09',\n",
              "   'e85_blender_pump': None,\n",
              "   'e85_other_ethanol_blends': None,\n",
              "   'ev_connector_types': ['NEMA520'],\n",
              "   'ev_dc_fast_num': None,\n",
              "   'ev_level1_evse_num': 2,\n",
              "   'ev_level2_evse_num': None,\n",
              "   'ev_network': 'Non-Networked',\n",
              "   'ev_network_web': None,\n",
              "   'ev_other_evse': '3 SP Inductive',\n",
              "   'ev_pricing': None,\n",
              "   'ev_pricing_fr': None,\n",
              "   'ev_renewable_source': None,\n",
              "   'expected_date': None,\n",
              "   'facility_type': 'PAY_GARAGE',\n",
              "   'fuel_type_code': 'ELEC',\n",
              "   'geocode_status': 'GPS',\n",
              "   'groups_with_access_code': 'Public',\n",
              "   'groups_with_access_code_fr': 'Public',\n",
              "   'hy_is_retail': None,\n",
              "   'hy_pressures': None,\n",
              "   'hy_standards': None,\n",
              "   'hy_status_link': None,\n",
              "   'id': 1498,\n",
              "   'intersection_directions': 'At 10th and L, 2nd Level',\n",
              "   'intersection_directions_fr': None,\n",
              "   'latitude': 38.5783802,\n",
              "   'lng_renewable_source': None,\n",
              "   'lng_vehicle_class': None,\n",
              "   'longitude': -121.4926,\n",
              "   'lpg_nozzle_types': None,\n",
              "   'lpg_primary': None,\n",
              "   'ng_fill_type_code': None,\n",
              "   'ng_psi': None,\n",
              "   'ng_vehicle_class': None,\n",
              "   'open_date': '2018-08-20',\n",
              "   'owner_type_code': 'LG',\n",
              "   'plus4': None,\n",
              "   'state': 'CA',\n",
              "   'station_name': 'City of Sacramento - Capitol Parking Garage',\n",
              "   'station_phone': '888-758-4389  916-264-5011',\n",
              "   'status_code': 'E',\n",
              "   'street_address': '1015 L St',\n",
              "   'updated_at': '2020-01-21T18:34:38Z',\n",
              "   'zip': '95814'},\n",
              "  {'access_code': 'private',\n",
              "   'access_days_time': 'Fleet use only',\n",
              "   'access_days_time_fr': None,\n",
              "   'access_detail_code': None,\n",
              "   'bd_blends': None,\n",
              "   'bd_blends_fr': None,\n",
              "   'cards_accepted': None,\n",
              "   'city': 'Sun Valley',\n",
              "   'cng_dispenser_num': None,\n",
              "   'cng_fill_type_code': None,\n",
              "   'cng_psi': None,\n",
              "   'cng_renewable_source': None,\n",
              "   'cng_total_compression': None,\n",
              "   'cng_total_storage': None,\n",
              "   'cng_vehicle_class': None,\n",
              "   'country': 'US',\n",
              "   'date_last_confirmed': '2020-01-13',\n",
              "   'e85_blender_pump': None,\n",
              "   'e85_other_ethanol_blends': None,\n",
              "   'ev_connector_types': ['J1772'],\n",
              "   'ev_dc_fast_num': None,\n",
              "   'ev_level1_evse_num': None,\n",
              "   'ev_level2_evse_num': 15,\n",
              "   'ev_network': 'Non-Networked',\n",
              "   'ev_network_web': None,\n",
              "   'ev_other_evse': None,\n",
              "   'ev_pricing': None,\n",
              "   'ev_pricing_fr': None,\n",
              "   'ev_renewable_source': None,\n",
              "   'expected_date': None,\n",
              "   'facility_type': 'UTILITY',\n",
              "   'fuel_type_code': 'ELEC',\n",
              "   'geocode_status': 'GPS',\n",
              "   'groups_with_access_code': 'Private',\n",
              "   'groups_with_access_code_fr': 'Privé',\n",
              "   'hy_is_retail': None,\n",
              "   'hy_pressures': None,\n",
              "   'hy_standards': None,\n",
              "   'hy_status_link': None,\n",
              "   'id': 1517,\n",
              "   'intersection_directions': None,\n",
              "   'intersection_directions_fr': None,\n",
              "   'latitude': 34.2483191527193,\n",
              "   'lng_renewable_source': None,\n",
              "   'lng_vehicle_class': None,\n",
              "   'longitude': -118.387971374344,\n",
              "   'lpg_nozzle_types': None,\n",
              "   'lpg_primary': None,\n",
              "   'ng_fill_type_code': None,\n",
              "   'ng_psi': None,\n",
              "   'ng_vehicle_class': None,\n",
              "   'open_date': '1999-10-15',\n",
              "   'owner_type_code': 'LG',\n",
              "   'plus4': None,\n",
              "   'state': 'CA',\n",
              "   'station_name': 'LADWP - Truesdale Center',\n",
              "   'station_phone': None,\n",
              "   'status_code': 'E',\n",
              "   'street_address': '11797 Truesdale St',\n",
              "   'updated_at': '2020-01-21T18:34:38Z',\n",
              "   'zip': '91352'}],\n",
              " 'station_counts': {'fuels': {'BD': {'total': 0},\n",
              "   'CNG': {'total': 0},\n",
              "   'E85': {'total': 221},\n",
              "   'ELEC': {'stations': {'total': 7108}, 'total': 29816},\n",
              "   'HY': {'total': 0},\n",
              "   'LNG': {'total': 0},\n",
              "   'LPG': {'total': 0}},\n",
              "  'total': 30037},\n",
              " 'station_locator_url': 'http://www.afdc.energy.gov/afdc/locator/stations/',\n",
              " 'total_results': 7329}"
            ]
          },
          "metadata": {
            "tags": []
          },
          "execution_count": 4
        }
      ]
    },
    {
      "cell_type": "code",
      "metadata": {
        "id": "nLjNt67umIBe",
        "colab_type": "code",
        "colab": {
          "base_uri": "https://localhost:8080/",
          "height": 33
        },
        "outputId": "a3ba18ba-030a-424c-e474-050b0c010964"
      },
      "source": [
        "result['station_locator_url']"
      ],
      "execution_count": 6,
      "outputs": [
        {
          "output_type": "execute_result",
          "data": {
            "text/plain": [
              "'http://www.afdc.energy.gov/afdc/locator/stations/'"
            ]
          },
          "metadata": {
            "tags": []
          },
          "execution_count": 6
        }
      ]
    },
    {
      "cell_type": "code",
      "metadata": {
        "id": "Jrb3eEIKV19K",
        "colab_type": "code",
        "colab": {
          "base_uri": "https://localhost:8080/",
          "height": 134
        },
        "outputId": "60cf918f-9aa5-4c95-8ee3-95e799e1e384"
      },
      "source": [
        "\n",
        "from sklearn.feature_extraction.text import CountVectorizer\n",
        "# list of text documents\n",
        "text = result\n",
        "# create the transform\n",
        "vectorizer = CountVectorizer()\n",
        "# tokenize and build vocab\n",
        "vectorizer.fit(text)\n",
        "# summarize\n",
        "print(vectorizer.vocabulary_)\n",
        "# encode document\n",
        "vector = vectorizer.transform(text)\n",
        "# summarize encoded vector\n",
        "print(vector.shape)\n",
        "print(type(vector))\n",
        "print(vector.toarray())"
      ],
      "execution_count": 5,
      "outputs": [
        {
          "output_type": "stream",
          "text": [
            "{'station_locator_url': 2, 'total_results': 3, 'station_counts': 1, 'fuel_stations': 0}\n",
            "(4, 4)\n",
            "<class 'scipy.sparse.csr.csr_matrix'>\n",
            "[[0 0 1 0]\n",
            " [0 0 0 1]\n",
            " [0 1 0 0]\n",
            " [1 0 0 0]]\n"
          ],
          "name": "stdout"
        }
      ]
    },
    {
      "cell_type": "code",
      "metadata": {
        "id": "qL-zs87hW_t4",
        "colab_type": "code",
        "colab": {
          "base_uri": "https://localhost:8080/",
          "height": 33
        },
        "outputId": "26cf4d7f-abdb-4d36-e9ca-47e48b670f85"
      },
      "source": [
        "# encode another document part\n",
        "text2 = [\"owner_type_code\"]\n",
        "vector = vectorizer.transform(text2)\n",
        "print(vector.toarray())"
      ],
      "execution_count": 7,
      "outputs": [
        {
          "output_type": "stream",
          "text": [
            "[[0 0 0 0]]\n"
          ],
          "name": "stdout"
        }
      ]
    }
  ]
}