{
  "nbformat": 4,
  "nbformat_minor": 0,
  "metadata": {
    "colab": {
      "name": "hotel_booking_pred.ipynb",
      "provenance": [],
      "collapsed_sections": []
    },
    "kernelspec": {
      "name": "python3",
      "display_name": "Python 3"
    }
  },
  "cells": [
    {
      "cell_type": "code",
      "metadata": {
        "id": "WOxYWckNxzCM",
        "colab_type": "code",
        "colab": {
          "base_uri": "https://localhost:8080/",
          "height": 70
        },
        "outputId": "d626a2ba-e5be-45a9-df11-66e9e6875d33"
      },
      "source": [
        "import numpy as np\n",
        "import pandas as pd\n",
        "import seaborn as sns\n",
        "import matplotlib.pyplot as plt\n",
        "\n",
        "from sklearn.preprocessing import LabelEncoder, StandardScaler, MinMaxScaler\n",
        "from sklearn.model_selection import train_test_split, cross_val_score, GridSearchCV\n",
        "from sklearn.feature_selection import SelectFromModel, SelectPercentile\n",
        "from sklearn.metrics import f1_score, confusion_matrix\n",
        "\n",
        "from sklearn.linear_model import LogisticRegression, RidgeClassifier, SGDClassifier\n",
        "from sklearn.svm import LinearSVC\n",
        "from sklearn.tree import DecisionTreeClassifier\n",
        "from sklearn.ensemble import RandomForestClassifier, GradientBoostingClassifier, AdaBoostClassifier\n",
        "from sklearn.neighbors import KNeighborsClassifier\n",
        "from sklearn.neural_network import MLPClassifier\n",
        "from sklearn.naive_bayes import GaussianNB\n",
        "\n",
        "pd.set_option('display.max_columns', None)"
      ],
      "execution_count": 1,
      "outputs": [
        {
          "output_type": "stream",
          "text": [
            "/usr/local/lib/python3.6/dist-packages/statsmodels/tools/_testing.py:19: FutureWarning: pandas.util.testing is deprecated. Use the functions in the public API at pandas.testing instead.\n",
            "  import pandas.util.testing as tm\n"
          ],
          "name": "stderr"
        }
      ]
    },
    {
      "cell_type": "code",
      "metadata": {
        "id": "C2KzP1XtJIUi",
        "colab_type": "code",
        "colab": {
          "base_uri": "https://localhost:8080/",
          "height": 50
        },
        "outputId": "8ad06fa7-9f3c-4b1e-ed49-4c0e442b2ba8"
      },
      "source": [
        "!unzip '/content/hotel_bookings.csv.zip'"
      ],
      "execution_count": 2,
      "outputs": [
        {
          "output_type": "stream",
          "text": [
            "Archive:  /content/hotel_bookings.csv.zip\n",
            "  inflating: hotel_bookings.csv      \n"
          ],
          "name": "stdout"
        }
      ]
    },
    {
      "cell_type": "code",
      "metadata": {
        "id": "QkIdts-kx0V3",
        "colab_type": "code",
        "colab": {}
      },
      "source": [
        "df = pd.read_csv(\"/content/hotel_bookings.csv\")"
      ],
      "execution_count": 3,
      "outputs": []
    },
    {
      "cell_type": "code",
      "metadata": {
        "id": "CHDqlBpGx4HW",
        "colab_type": "code",
        "colab": {
          "base_uri": "https://localhost:8080/",
          "height": 531
        },
        "outputId": "7296a842-b769-4733-8778-5db5aca4d4ca"
      },
      "source": [
        "df.head(10)"
      ],
      "execution_count": 4,
      "outputs": [
        {
          "output_type": "execute_result",
          "data": {
            "text/html": [
              "<div>\n",
              "<style scoped>\n",
              "    .dataframe tbody tr th:only-of-type {\n",
              "        vertical-align: middle;\n",
              "    }\n",
              "\n",
              "    .dataframe tbody tr th {\n",
              "        vertical-align: top;\n",
              "    }\n",
              "\n",
              "    .dataframe thead th {\n",
              "        text-align: right;\n",
              "    }\n",
              "</style>\n",
              "<table border=\"1\" class=\"dataframe\">\n",
              "  <thead>\n",
              "    <tr style=\"text-align: right;\">\n",
              "      <th></th>\n",
              "      <th>hotel</th>\n",
              "      <th>is_canceled</th>\n",
              "      <th>lead_time</th>\n",
              "      <th>arrival_date_year</th>\n",
              "      <th>arrival_date_month</th>\n",
              "      <th>arrival_date_week_number</th>\n",
              "      <th>arrival_date_day_of_month</th>\n",
              "      <th>stays_in_weekend_nights</th>\n",
              "      <th>stays_in_week_nights</th>\n",
              "      <th>adults</th>\n",
              "      <th>children</th>\n",
              "      <th>babies</th>\n",
              "      <th>meal</th>\n",
              "      <th>country</th>\n",
              "      <th>market_segment</th>\n",
              "      <th>distribution_channel</th>\n",
              "      <th>is_repeated_guest</th>\n",
              "      <th>previous_cancellations</th>\n",
              "      <th>previous_bookings_not_canceled</th>\n",
              "      <th>reserved_room_type</th>\n",
              "      <th>assigned_room_type</th>\n",
              "      <th>booking_changes</th>\n",
              "      <th>deposit_type</th>\n",
              "      <th>agent</th>\n",
              "      <th>company</th>\n",
              "      <th>days_in_waiting_list</th>\n",
              "      <th>customer_type</th>\n",
              "      <th>adr</th>\n",
              "      <th>required_car_parking_spaces</th>\n",
              "      <th>total_of_special_requests</th>\n",
              "      <th>reservation_status</th>\n",
              "      <th>reservation_status_date</th>\n",
              "    </tr>\n",
              "  </thead>\n",
              "  <tbody>\n",
              "    <tr>\n",
              "      <th>0</th>\n",
              "      <td>Resort Hotel</td>\n",
              "      <td>0</td>\n",
              "      <td>342</td>\n",
              "      <td>2015</td>\n",
              "      <td>July</td>\n",
              "      <td>27</td>\n",
              "      <td>1</td>\n",
              "      <td>0</td>\n",
              "      <td>0</td>\n",
              "      <td>2</td>\n",
              "      <td>0.0</td>\n",
              "      <td>0</td>\n",
              "      <td>BB</td>\n",
              "      <td>PRT</td>\n",
              "      <td>Direct</td>\n",
              "      <td>Direct</td>\n",
              "      <td>0</td>\n",
              "      <td>0</td>\n",
              "      <td>0</td>\n",
              "      <td>C</td>\n",
              "      <td>C</td>\n",
              "      <td>3</td>\n",
              "      <td>No Deposit</td>\n",
              "      <td>NaN</td>\n",
              "      <td>NaN</td>\n",
              "      <td>0</td>\n",
              "      <td>Transient</td>\n",
              "      <td>0.0</td>\n",
              "      <td>0</td>\n",
              "      <td>0</td>\n",
              "      <td>Check-Out</td>\n",
              "      <td>2015-07-01</td>\n",
              "    </tr>\n",
              "    <tr>\n",
              "      <th>1</th>\n",
              "      <td>Resort Hotel</td>\n",
              "      <td>0</td>\n",
              "      <td>737</td>\n",
              "      <td>2015</td>\n",
              "      <td>July</td>\n",
              "      <td>27</td>\n",
              "      <td>1</td>\n",
              "      <td>0</td>\n",
              "      <td>0</td>\n",
              "      <td>2</td>\n",
              "      <td>0.0</td>\n",
              "      <td>0</td>\n",
              "      <td>BB</td>\n",
              "      <td>PRT</td>\n",
              "      <td>Direct</td>\n",
              "      <td>Direct</td>\n",
              "      <td>0</td>\n",
              "      <td>0</td>\n",
              "      <td>0</td>\n",
              "      <td>C</td>\n",
              "      <td>C</td>\n",
              "      <td>4</td>\n",
              "      <td>No Deposit</td>\n",
              "      <td>NaN</td>\n",
              "      <td>NaN</td>\n",
              "      <td>0</td>\n",
              "      <td>Transient</td>\n",
              "      <td>0.0</td>\n",
              "      <td>0</td>\n",
              "      <td>0</td>\n",
              "      <td>Check-Out</td>\n",
              "      <td>2015-07-01</td>\n",
              "    </tr>\n",
              "    <tr>\n",
              "      <th>2</th>\n",
              "      <td>Resort Hotel</td>\n",
              "      <td>0</td>\n",
              "      <td>7</td>\n",
              "      <td>2015</td>\n",
              "      <td>July</td>\n",
              "      <td>27</td>\n",
              "      <td>1</td>\n",
              "      <td>0</td>\n",
              "      <td>1</td>\n",
              "      <td>1</td>\n",
              "      <td>0.0</td>\n",
              "      <td>0</td>\n",
              "      <td>BB</td>\n",
              "      <td>GBR</td>\n",
              "      <td>Direct</td>\n",
              "      <td>Direct</td>\n",
              "      <td>0</td>\n",
              "      <td>0</td>\n",
              "      <td>0</td>\n",
              "      <td>A</td>\n",
              "      <td>C</td>\n",
              "      <td>0</td>\n",
              "      <td>No Deposit</td>\n",
              "      <td>NaN</td>\n",
              "      <td>NaN</td>\n",
              "      <td>0</td>\n",
              "      <td>Transient</td>\n",
              "      <td>75.0</td>\n",
              "      <td>0</td>\n",
              "      <td>0</td>\n",
              "      <td>Check-Out</td>\n",
              "      <td>2015-07-02</td>\n",
              "    </tr>\n",
              "    <tr>\n",
              "      <th>3</th>\n",
              "      <td>Resort Hotel</td>\n",
              "      <td>0</td>\n",
              "      <td>13</td>\n",
              "      <td>2015</td>\n",
              "      <td>July</td>\n",
              "      <td>27</td>\n",
              "      <td>1</td>\n",
              "      <td>0</td>\n",
              "      <td>1</td>\n",
              "      <td>1</td>\n",
              "      <td>0.0</td>\n",
              "      <td>0</td>\n",
              "      <td>BB</td>\n",
              "      <td>GBR</td>\n",
              "      <td>Corporate</td>\n",
              "      <td>Corporate</td>\n",
              "      <td>0</td>\n",
              "      <td>0</td>\n",
              "      <td>0</td>\n",
              "      <td>A</td>\n",
              "      <td>A</td>\n",
              "      <td>0</td>\n",
              "      <td>No Deposit</td>\n",
              "      <td>304.0</td>\n",
              "      <td>NaN</td>\n",
              "      <td>0</td>\n",
              "      <td>Transient</td>\n",
              "      <td>75.0</td>\n",
              "      <td>0</td>\n",
              "      <td>0</td>\n",
              "      <td>Check-Out</td>\n",
              "      <td>2015-07-02</td>\n",
              "    </tr>\n",
              "    <tr>\n",
              "      <th>4</th>\n",
              "      <td>Resort Hotel</td>\n",
              "      <td>0</td>\n",
              "      <td>14</td>\n",
              "      <td>2015</td>\n",
              "      <td>July</td>\n",
              "      <td>27</td>\n",
              "      <td>1</td>\n",
              "      <td>0</td>\n",
              "      <td>2</td>\n",
              "      <td>2</td>\n",
              "      <td>0.0</td>\n",
              "      <td>0</td>\n",
              "      <td>BB</td>\n",
              "      <td>GBR</td>\n",
              "      <td>Online TA</td>\n",
              "      <td>TA/TO</td>\n",
              "      <td>0</td>\n",
              "      <td>0</td>\n",
              "      <td>0</td>\n",
              "      <td>A</td>\n",
              "      <td>A</td>\n",
              "      <td>0</td>\n",
              "      <td>No Deposit</td>\n",
              "      <td>240.0</td>\n",
              "      <td>NaN</td>\n",
              "      <td>0</td>\n",
              "      <td>Transient</td>\n",
              "      <td>98.0</td>\n",
              "      <td>0</td>\n",
              "      <td>1</td>\n",
              "      <td>Check-Out</td>\n",
              "      <td>2015-07-03</td>\n",
              "    </tr>\n",
              "    <tr>\n",
              "      <th>5</th>\n",
              "      <td>Resort Hotel</td>\n",
              "      <td>0</td>\n",
              "      <td>14</td>\n",
              "      <td>2015</td>\n",
              "      <td>July</td>\n",
              "      <td>27</td>\n",
              "      <td>1</td>\n",
              "      <td>0</td>\n",
              "      <td>2</td>\n",
              "      <td>2</td>\n",
              "      <td>0.0</td>\n",
              "      <td>0</td>\n",
              "      <td>BB</td>\n",
              "      <td>GBR</td>\n",
              "      <td>Online TA</td>\n",
              "      <td>TA/TO</td>\n",
              "      <td>0</td>\n",
              "      <td>0</td>\n",
              "      <td>0</td>\n",
              "      <td>A</td>\n",
              "      <td>A</td>\n",
              "      <td>0</td>\n",
              "      <td>No Deposit</td>\n",
              "      <td>240.0</td>\n",
              "      <td>NaN</td>\n",
              "      <td>0</td>\n",
              "      <td>Transient</td>\n",
              "      <td>98.0</td>\n",
              "      <td>0</td>\n",
              "      <td>1</td>\n",
              "      <td>Check-Out</td>\n",
              "      <td>2015-07-03</td>\n",
              "    </tr>\n",
              "    <tr>\n",
              "      <th>6</th>\n",
              "      <td>Resort Hotel</td>\n",
              "      <td>0</td>\n",
              "      <td>0</td>\n",
              "      <td>2015</td>\n",
              "      <td>July</td>\n",
              "      <td>27</td>\n",
              "      <td>1</td>\n",
              "      <td>0</td>\n",
              "      <td>2</td>\n",
              "      <td>2</td>\n",
              "      <td>0.0</td>\n",
              "      <td>0</td>\n",
              "      <td>BB</td>\n",
              "      <td>PRT</td>\n",
              "      <td>Direct</td>\n",
              "      <td>Direct</td>\n",
              "      <td>0</td>\n",
              "      <td>0</td>\n",
              "      <td>0</td>\n",
              "      <td>C</td>\n",
              "      <td>C</td>\n",
              "      <td>0</td>\n",
              "      <td>No Deposit</td>\n",
              "      <td>NaN</td>\n",
              "      <td>NaN</td>\n",
              "      <td>0</td>\n",
              "      <td>Transient</td>\n",
              "      <td>107.0</td>\n",
              "      <td>0</td>\n",
              "      <td>0</td>\n",
              "      <td>Check-Out</td>\n",
              "      <td>2015-07-03</td>\n",
              "    </tr>\n",
              "    <tr>\n",
              "      <th>7</th>\n",
              "      <td>Resort Hotel</td>\n",
              "      <td>0</td>\n",
              "      <td>9</td>\n",
              "      <td>2015</td>\n",
              "      <td>July</td>\n",
              "      <td>27</td>\n",
              "      <td>1</td>\n",
              "      <td>0</td>\n",
              "      <td>2</td>\n",
              "      <td>2</td>\n",
              "      <td>0.0</td>\n",
              "      <td>0</td>\n",
              "      <td>FB</td>\n",
              "      <td>PRT</td>\n",
              "      <td>Direct</td>\n",
              "      <td>Direct</td>\n",
              "      <td>0</td>\n",
              "      <td>0</td>\n",
              "      <td>0</td>\n",
              "      <td>C</td>\n",
              "      <td>C</td>\n",
              "      <td>0</td>\n",
              "      <td>No Deposit</td>\n",
              "      <td>303.0</td>\n",
              "      <td>NaN</td>\n",
              "      <td>0</td>\n",
              "      <td>Transient</td>\n",
              "      <td>103.0</td>\n",
              "      <td>0</td>\n",
              "      <td>1</td>\n",
              "      <td>Check-Out</td>\n",
              "      <td>2015-07-03</td>\n",
              "    </tr>\n",
              "    <tr>\n",
              "      <th>8</th>\n",
              "      <td>Resort Hotel</td>\n",
              "      <td>1</td>\n",
              "      <td>85</td>\n",
              "      <td>2015</td>\n",
              "      <td>July</td>\n",
              "      <td>27</td>\n",
              "      <td>1</td>\n",
              "      <td>0</td>\n",
              "      <td>3</td>\n",
              "      <td>2</td>\n",
              "      <td>0.0</td>\n",
              "      <td>0</td>\n",
              "      <td>BB</td>\n",
              "      <td>PRT</td>\n",
              "      <td>Online TA</td>\n",
              "      <td>TA/TO</td>\n",
              "      <td>0</td>\n",
              "      <td>0</td>\n",
              "      <td>0</td>\n",
              "      <td>A</td>\n",
              "      <td>A</td>\n",
              "      <td>0</td>\n",
              "      <td>No Deposit</td>\n",
              "      <td>240.0</td>\n",
              "      <td>NaN</td>\n",
              "      <td>0</td>\n",
              "      <td>Transient</td>\n",
              "      <td>82.0</td>\n",
              "      <td>0</td>\n",
              "      <td>1</td>\n",
              "      <td>Canceled</td>\n",
              "      <td>2015-05-06</td>\n",
              "    </tr>\n",
              "    <tr>\n",
              "      <th>9</th>\n",
              "      <td>Resort Hotel</td>\n",
              "      <td>1</td>\n",
              "      <td>75</td>\n",
              "      <td>2015</td>\n",
              "      <td>July</td>\n",
              "      <td>27</td>\n",
              "      <td>1</td>\n",
              "      <td>0</td>\n",
              "      <td>3</td>\n",
              "      <td>2</td>\n",
              "      <td>0.0</td>\n",
              "      <td>0</td>\n",
              "      <td>HB</td>\n",
              "      <td>PRT</td>\n",
              "      <td>Offline TA/TO</td>\n",
              "      <td>TA/TO</td>\n",
              "      <td>0</td>\n",
              "      <td>0</td>\n",
              "      <td>0</td>\n",
              "      <td>D</td>\n",
              "      <td>D</td>\n",
              "      <td>0</td>\n",
              "      <td>No Deposit</td>\n",
              "      <td>15.0</td>\n",
              "      <td>NaN</td>\n",
              "      <td>0</td>\n",
              "      <td>Transient</td>\n",
              "      <td>105.5</td>\n",
              "      <td>0</td>\n",
              "      <td>0</td>\n",
              "      <td>Canceled</td>\n",
              "      <td>2015-04-22</td>\n",
              "    </tr>\n",
              "  </tbody>\n",
              "</table>\n",
              "</div>"
            ],
            "text/plain": [
              "          hotel  is_canceled  lead_time  arrival_date_year arrival_date_month  \\\n",
              "0  Resort Hotel            0        342               2015               July   \n",
              "1  Resort Hotel            0        737               2015               July   \n",
              "2  Resort Hotel            0          7               2015               July   \n",
              "3  Resort Hotel            0         13               2015               July   \n",
              "4  Resort Hotel            0         14               2015               July   \n",
              "5  Resort Hotel            0         14               2015               July   \n",
              "6  Resort Hotel            0          0               2015               July   \n",
              "7  Resort Hotel            0          9               2015               July   \n",
              "8  Resort Hotel            1         85               2015               July   \n",
              "9  Resort Hotel            1         75               2015               July   \n",
              "\n",
              "   arrival_date_week_number  arrival_date_day_of_month  \\\n",
              "0                        27                          1   \n",
              "1                        27                          1   \n",
              "2                        27                          1   \n",
              "3                        27                          1   \n",
              "4                        27                          1   \n",
              "5                        27                          1   \n",
              "6                        27                          1   \n",
              "7                        27                          1   \n",
              "8                        27                          1   \n",
              "9                        27                          1   \n",
              "\n",
              "   stays_in_weekend_nights  stays_in_week_nights  adults  children  babies  \\\n",
              "0                        0                     0       2       0.0       0   \n",
              "1                        0                     0       2       0.0       0   \n",
              "2                        0                     1       1       0.0       0   \n",
              "3                        0                     1       1       0.0       0   \n",
              "4                        0                     2       2       0.0       0   \n",
              "5                        0                     2       2       0.0       0   \n",
              "6                        0                     2       2       0.0       0   \n",
              "7                        0                     2       2       0.0       0   \n",
              "8                        0                     3       2       0.0       0   \n",
              "9                        0                     3       2       0.0       0   \n",
              "\n",
              "  meal country market_segment distribution_channel  is_repeated_guest  \\\n",
              "0   BB     PRT         Direct               Direct                  0   \n",
              "1   BB     PRT         Direct               Direct                  0   \n",
              "2   BB     GBR         Direct               Direct                  0   \n",
              "3   BB     GBR      Corporate            Corporate                  0   \n",
              "4   BB     GBR      Online TA                TA/TO                  0   \n",
              "5   BB     GBR      Online TA                TA/TO                  0   \n",
              "6   BB     PRT         Direct               Direct                  0   \n",
              "7   FB     PRT         Direct               Direct                  0   \n",
              "8   BB     PRT      Online TA                TA/TO                  0   \n",
              "9   HB     PRT  Offline TA/TO                TA/TO                  0   \n",
              "\n",
              "   previous_cancellations  previous_bookings_not_canceled reserved_room_type  \\\n",
              "0                       0                               0                  C   \n",
              "1                       0                               0                  C   \n",
              "2                       0                               0                  A   \n",
              "3                       0                               0                  A   \n",
              "4                       0                               0                  A   \n",
              "5                       0                               0                  A   \n",
              "6                       0                               0                  C   \n",
              "7                       0                               0                  C   \n",
              "8                       0                               0                  A   \n",
              "9                       0                               0                  D   \n",
              "\n",
              "  assigned_room_type  booking_changes deposit_type  agent  company  \\\n",
              "0                  C                3   No Deposit    NaN      NaN   \n",
              "1                  C                4   No Deposit    NaN      NaN   \n",
              "2                  C                0   No Deposit    NaN      NaN   \n",
              "3                  A                0   No Deposit  304.0      NaN   \n",
              "4                  A                0   No Deposit  240.0      NaN   \n",
              "5                  A                0   No Deposit  240.0      NaN   \n",
              "6                  C                0   No Deposit    NaN      NaN   \n",
              "7                  C                0   No Deposit  303.0      NaN   \n",
              "8                  A                0   No Deposit  240.0      NaN   \n",
              "9                  D                0   No Deposit   15.0      NaN   \n",
              "\n",
              "   days_in_waiting_list customer_type    adr  required_car_parking_spaces  \\\n",
              "0                     0     Transient    0.0                            0   \n",
              "1                     0     Transient    0.0                            0   \n",
              "2                     0     Transient   75.0                            0   \n",
              "3                     0     Transient   75.0                            0   \n",
              "4                     0     Transient   98.0                            0   \n",
              "5                     0     Transient   98.0                            0   \n",
              "6                     0     Transient  107.0                            0   \n",
              "7                     0     Transient  103.0                            0   \n",
              "8                     0     Transient   82.0                            0   \n",
              "9                     0     Transient  105.5                            0   \n",
              "\n",
              "   total_of_special_requests reservation_status reservation_status_date  \n",
              "0                          0          Check-Out              2015-07-01  \n",
              "1                          0          Check-Out              2015-07-01  \n",
              "2                          0          Check-Out              2015-07-02  \n",
              "3                          0          Check-Out              2015-07-02  \n",
              "4                          1          Check-Out              2015-07-03  \n",
              "5                          1          Check-Out              2015-07-03  \n",
              "6                          0          Check-Out              2015-07-03  \n",
              "7                          1          Check-Out              2015-07-03  \n",
              "8                          1           Canceled              2015-05-06  \n",
              "9                          0           Canceled              2015-04-22  "
            ]
          },
          "metadata": {
            "tags": []
          },
          "execution_count": 4
        }
      ]
    },
    {
      "cell_type": "code",
      "metadata": {
        "id": "d6V3k_BGx4ba",
        "colab_type": "code",
        "colab": {
          "base_uri": "https://localhost:8080/",
          "height": 672
        },
        "outputId": "6f633300-b024-408b-cbd4-562beef54a71"
      },
      "source": [
        "df.info()"
      ],
      "execution_count": 5,
      "outputs": [
        {
          "output_type": "stream",
          "text": [
            "<class 'pandas.core.frame.DataFrame'>\n",
            "RangeIndex: 119390 entries, 0 to 119389\n",
            "Data columns (total 32 columns):\n",
            " #   Column                          Non-Null Count   Dtype  \n",
            "---  ------                          --------------   -----  \n",
            " 0   hotel                           119390 non-null  object \n",
            " 1   is_canceled                     119390 non-null  int64  \n",
            " 2   lead_time                       119390 non-null  int64  \n",
            " 3   arrival_date_year               119390 non-null  int64  \n",
            " 4   arrival_date_month              119390 non-null  object \n",
            " 5   arrival_date_week_number        119390 non-null  int64  \n",
            " 6   arrival_date_day_of_month       119390 non-null  int64  \n",
            " 7   stays_in_weekend_nights         119390 non-null  int64  \n",
            " 8   stays_in_week_nights            119390 non-null  int64  \n",
            " 9   adults                          119390 non-null  int64  \n",
            " 10  children                        119386 non-null  float64\n",
            " 11  babies                          119390 non-null  int64  \n",
            " 12  meal                            119390 non-null  object \n",
            " 13  country                         118902 non-null  object \n",
            " 14  market_segment                  119390 non-null  object \n",
            " 15  distribution_channel            119390 non-null  object \n",
            " 16  is_repeated_guest               119390 non-null  int64  \n",
            " 17  previous_cancellations          119390 non-null  int64  \n",
            " 18  previous_bookings_not_canceled  119390 non-null  int64  \n",
            " 19  reserved_room_type              119390 non-null  object \n",
            " 20  assigned_room_type              119390 non-null  object \n",
            " 21  booking_changes                 119390 non-null  int64  \n",
            " 22  deposit_type                    119390 non-null  object \n",
            " 23  agent                           103050 non-null  float64\n",
            " 24  company                         6797 non-null    float64\n",
            " 25  days_in_waiting_list            119390 non-null  int64  \n",
            " 26  customer_type                   119390 non-null  object \n",
            " 27  adr                             119390 non-null  float64\n",
            " 28  required_car_parking_spaces     119390 non-null  int64  \n",
            " 29  total_of_special_requests       119390 non-null  int64  \n",
            " 30  reservation_status              119390 non-null  object \n",
            " 31  reservation_status_date         119390 non-null  object \n",
            "dtypes: float64(4), int64(16), object(12)\n",
            "memory usage: 29.1+ MB\n"
          ],
          "name": "stdout"
        }
      ]
    },
    {
      "cell_type": "code",
      "metadata": {
        "id": "OXySBCusx7aa",
        "colab_type": "code",
        "colab": {
          "base_uri": "https://localhost:8080/",
          "height": 304
        },
        "outputId": "f3d224d9-4ba4-4954-9033-12650a98398a"
      },
      "source": [
        "df.describe()"
      ],
      "execution_count": 6,
      "outputs": [
        {
          "output_type": "execute_result",
          "data": {
            "text/html": [
              "<div>\n",
              "<style scoped>\n",
              "    .dataframe tbody tr th:only-of-type {\n",
              "        vertical-align: middle;\n",
              "    }\n",
              "\n",
              "    .dataframe tbody tr th {\n",
              "        vertical-align: top;\n",
              "    }\n",
              "\n",
              "    .dataframe thead th {\n",
              "        text-align: right;\n",
              "    }\n",
              "</style>\n",
              "<table border=\"1\" class=\"dataframe\">\n",
              "  <thead>\n",
              "    <tr style=\"text-align: right;\">\n",
              "      <th></th>\n",
              "      <th>is_canceled</th>\n",
              "      <th>lead_time</th>\n",
              "      <th>arrival_date_year</th>\n",
              "      <th>arrival_date_week_number</th>\n",
              "      <th>arrival_date_day_of_month</th>\n",
              "      <th>stays_in_weekend_nights</th>\n",
              "      <th>stays_in_week_nights</th>\n",
              "      <th>adults</th>\n",
              "      <th>children</th>\n",
              "      <th>babies</th>\n",
              "      <th>is_repeated_guest</th>\n",
              "      <th>previous_cancellations</th>\n",
              "      <th>previous_bookings_not_canceled</th>\n",
              "      <th>booking_changes</th>\n",
              "      <th>agent</th>\n",
              "      <th>company</th>\n",
              "      <th>days_in_waiting_list</th>\n",
              "      <th>adr</th>\n",
              "      <th>required_car_parking_spaces</th>\n",
              "      <th>total_of_special_requests</th>\n",
              "    </tr>\n",
              "  </thead>\n",
              "  <tbody>\n",
              "    <tr>\n",
              "      <th>count</th>\n",
              "      <td>119390.000000</td>\n",
              "      <td>119390.000000</td>\n",
              "      <td>119390.000000</td>\n",
              "      <td>119390.000000</td>\n",
              "      <td>119390.000000</td>\n",
              "      <td>119390.000000</td>\n",
              "      <td>119390.000000</td>\n",
              "      <td>119390.000000</td>\n",
              "      <td>119386.000000</td>\n",
              "      <td>119390.000000</td>\n",
              "      <td>119390.000000</td>\n",
              "      <td>119390.000000</td>\n",
              "      <td>119390.000000</td>\n",
              "      <td>119390.000000</td>\n",
              "      <td>103050.000000</td>\n",
              "      <td>6797.000000</td>\n",
              "      <td>119390.000000</td>\n",
              "      <td>119390.000000</td>\n",
              "      <td>119390.000000</td>\n",
              "      <td>119390.000000</td>\n",
              "    </tr>\n",
              "    <tr>\n",
              "      <th>mean</th>\n",
              "      <td>0.370416</td>\n",
              "      <td>104.011416</td>\n",
              "      <td>2016.156554</td>\n",
              "      <td>27.165173</td>\n",
              "      <td>15.798241</td>\n",
              "      <td>0.927599</td>\n",
              "      <td>2.500302</td>\n",
              "      <td>1.856403</td>\n",
              "      <td>0.103890</td>\n",
              "      <td>0.007949</td>\n",
              "      <td>0.031912</td>\n",
              "      <td>0.087118</td>\n",
              "      <td>0.137097</td>\n",
              "      <td>0.221124</td>\n",
              "      <td>86.693382</td>\n",
              "      <td>189.266735</td>\n",
              "      <td>2.321149</td>\n",
              "      <td>101.831122</td>\n",
              "      <td>0.062518</td>\n",
              "      <td>0.571363</td>\n",
              "    </tr>\n",
              "    <tr>\n",
              "      <th>std</th>\n",
              "      <td>0.482918</td>\n",
              "      <td>106.863097</td>\n",
              "      <td>0.707476</td>\n",
              "      <td>13.605138</td>\n",
              "      <td>8.780829</td>\n",
              "      <td>0.998613</td>\n",
              "      <td>1.908286</td>\n",
              "      <td>0.579261</td>\n",
              "      <td>0.398561</td>\n",
              "      <td>0.097436</td>\n",
              "      <td>0.175767</td>\n",
              "      <td>0.844336</td>\n",
              "      <td>1.497437</td>\n",
              "      <td>0.652306</td>\n",
              "      <td>110.774548</td>\n",
              "      <td>131.655015</td>\n",
              "      <td>17.594721</td>\n",
              "      <td>50.535790</td>\n",
              "      <td>0.245291</td>\n",
              "      <td>0.792798</td>\n",
              "    </tr>\n",
              "    <tr>\n",
              "      <th>min</th>\n",
              "      <td>0.000000</td>\n",
              "      <td>0.000000</td>\n",
              "      <td>2015.000000</td>\n",
              "      <td>1.000000</td>\n",
              "      <td>1.000000</td>\n",
              "      <td>0.000000</td>\n",
              "      <td>0.000000</td>\n",
              "      <td>0.000000</td>\n",
              "      <td>0.000000</td>\n",
              "      <td>0.000000</td>\n",
              "      <td>0.000000</td>\n",
              "      <td>0.000000</td>\n",
              "      <td>0.000000</td>\n",
              "      <td>0.000000</td>\n",
              "      <td>1.000000</td>\n",
              "      <td>6.000000</td>\n",
              "      <td>0.000000</td>\n",
              "      <td>-6.380000</td>\n",
              "      <td>0.000000</td>\n",
              "      <td>0.000000</td>\n",
              "    </tr>\n",
              "    <tr>\n",
              "      <th>25%</th>\n",
              "      <td>0.000000</td>\n",
              "      <td>18.000000</td>\n",
              "      <td>2016.000000</td>\n",
              "      <td>16.000000</td>\n",
              "      <td>8.000000</td>\n",
              "      <td>0.000000</td>\n",
              "      <td>1.000000</td>\n",
              "      <td>2.000000</td>\n",
              "      <td>0.000000</td>\n",
              "      <td>0.000000</td>\n",
              "      <td>0.000000</td>\n",
              "      <td>0.000000</td>\n",
              "      <td>0.000000</td>\n",
              "      <td>0.000000</td>\n",
              "      <td>9.000000</td>\n",
              "      <td>62.000000</td>\n",
              "      <td>0.000000</td>\n",
              "      <td>69.290000</td>\n",
              "      <td>0.000000</td>\n",
              "      <td>0.000000</td>\n",
              "    </tr>\n",
              "    <tr>\n",
              "      <th>50%</th>\n",
              "      <td>0.000000</td>\n",
              "      <td>69.000000</td>\n",
              "      <td>2016.000000</td>\n",
              "      <td>28.000000</td>\n",
              "      <td>16.000000</td>\n",
              "      <td>1.000000</td>\n",
              "      <td>2.000000</td>\n",
              "      <td>2.000000</td>\n",
              "      <td>0.000000</td>\n",
              "      <td>0.000000</td>\n",
              "      <td>0.000000</td>\n",
              "      <td>0.000000</td>\n",
              "      <td>0.000000</td>\n",
              "      <td>0.000000</td>\n",
              "      <td>14.000000</td>\n",
              "      <td>179.000000</td>\n",
              "      <td>0.000000</td>\n",
              "      <td>94.575000</td>\n",
              "      <td>0.000000</td>\n",
              "      <td>0.000000</td>\n",
              "    </tr>\n",
              "    <tr>\n",
              "      <th>75%</th>\n",
              "      <td>1.000000</td>\n",
              "      <td>160.000000</td>\n",
              "      <td>2017.000000</td>\n",
              "      <td>38.000000</td>\n",
              "      <td>23.000000</td>\n",
              "      <td>2.000000</td>\n",
              "      <td>3.000000</td>\n",
              "      <td>2.000000</td>\n",
              "      <td>0.000000</td>\n",
              "      <td>0.000000</td>\n",
              "      <td>0.000000</td>\n",
              "      <td>0.000000</td>\n",
              "      <td>0.000000</td>\n",
              "      <td>0.000000</td>\n",
              "      <td>229.000000</td>\n",
              "      <td>270.000000</td>\n",
              "      <td>0.000000</td>\n",
              "      <td>126.000000</td>\n",
              "      <td>0.000000</td>\n",
              "      <td>1.000000</td>\n",
              "    </tr>\n",
              "    <tr>\n",
              "      <th>max</th>\n",
              "      <td>1.000000</td>\n",
              "      <td>737.000000</td>\n",
              "      <td>2017.000000</td>\n",
              "      <td>53.000000</td>\n",
              "      <td>31.000000</td>\n",
              "      <td>19.000000</td>\n",
              "      <td>50.000000</td>\n",
              "      <td>55.000000</td>\n",
              "      <td>10.000000</td>\n",
              "      <td>10.000000</td>\n",
              "      <td>1.000000</td>\n",
              "      <td>26.000000</td>\n",
              "      <td>72.000000</td>\n",
              "      <td>21.000000</td>\n",
              "      <td>535.000000</td>\n",
              "      <td>543.000000</td>\n",
              "      <td>391.000000</td>\n",
              "      <td>5400.000000</td>\n",
              "      <td>8.000000</td>\n",
              "      <td>5.000000</td>\n",
              "    </tr>\n",
              "  </tbody>\n",
              "</table>\n",
              "</div>"
            ],
            "text/plain": [
              "         is_canceled      lead_time  arrival_date_year  \\\n",
              "count  119390.000000  119390.000000      119390.000000   \n",
              "mean        0.370416     104.011416        2016.156554   \n",
              "std         0.482918     106.863097           0.707476   \n",
              "min         0.000000       0.000000        2015.000000   \n",
              "25%         0.000000      18.000000        2016.000000   \n",
              "50%         0.000000      69.000000        2016.000000   \n",
              "75%         1.000000     160.000000        2017.000000   \n",
              "max         1.000000     737.000000        2017.000000   \n",
              "\n",
              "       arrival_date_week_number  arrival_date_day_of_month  \\\n",
              "count             119390.000000              119390.000000   \n",
              "mean                  27.165173                  15.798241   \n",
              "std                   13.605138                   8.780829   \n",
              "min                    1.000000                   1.000000   \n",
              "25%                   16.000000                   8.000000   \n",
              "50%                   28.000000                  16.000000   \n",
              "75%                   38.000000                  23.000000   \n",
              "max                   53.000000                  31.000000   \n",
              "\n",
              "       stays_in_weekend_nights  stays_in_week_nights         adults  \\\n",
              "count            119390.000000         119390.000000  119390.000000   \n",
              "mean                  0.927599              2.500302       1.856403   \n",
              "std                   0.998613              1.908286       0.579261   \n",
              "min                   0.000000              0.000000       0.000000   \n",
              "25%                   0.000000              1.000000       2.000000   \n",
              "50%                   1.000000              2.000000       2.000000   \n",
              "75%                   2.000000              3.000000       2.000000   \n",
              "max                  19.000000             50.000000      55.000000   \n",
              "\n",
              "            children         babies  is_repeated_guest  \\\n",
              "count  119386.000000  119390.000000      119390.000000   \n",
              "mean        0.103890       0.007949           0.031912   \n",
              "std         0.398561       0.097436           0.175767   \n",
              "min         0.000000       0.000000           0.000000   \n",
              "25%         0.000000       0.000000           0.000000   \n",
              "50%         0.000000       0.000000           0.000000   \n",
              "75%         0.000000       0.000000           0.000000   \n",
              "max        10.000000      10.000000           1.000000   \n",
              "\n",
              "       previous_cancellations  previous_bookings_not_canceled  \\\n",
              "count           119390.000000                   119390.000000   \n",
              "mean                 0.087118                        0.137097   \n",
              "std                  0.844336                        1.497437   \n",
              "min                  0.000000                        0.000000   \n",
              "25%                  0.000000                        0.000000   \n",
              "50%                  0.000000                        0.000000   \n",
              "75%                  0.000000                        0.000000   \n",
              "max                 26.000000                       72.000000   \n",
              "\n",
              "       booking_changes          agent      company  days_in_waiting_list  \\\n",
              "count    119390.000000  103050.000000  6797.000000         119390.000000   \n",
              "mean          0.221124      86.693382   189.266735              2.321149   \n",
              "std           0.652306     110.774548   131.655015             17.594721   \n",
              "min           0.000000       1.000000     6.000000              0.000000   \n",
              "25%           0.000000       9.000000    62.000000              0.000000   \n",
              "50%           0.000000      14.000000   179.000000              0.000000   \n",
              "75%           0.000000     229.000000   270.000000              0.000000   \n",
              "max          21.000000     535.000000   543.000000            391.000000   \n",
              "\n",
              "                 adr  required_car_parking_spaces  total_of_special_requests  \n",
              "count  119390.000000                119390.000000              119390.000000  \n",
              "mean      101.831122                     0.062518                   0.571363  \n",
              "std        50.535790                     0.245291                   0.792798  \n",
              "min        -6.380000                     0.000000                   0.000000  \n",
              "25%        69.290000                     0.000000                   0.000000  \n",
              "50%        94.575000                     0.000000                   0.000000  \n",
              "75%       126.000000                     0.000000                   1.000000  \n",
              "max      5400.000000                     8.000000                   5.000000  "
            ]
          },
          "metadata": {
            "tags": []
          },
          "execution_count": 6
        }
      ]
    },
    {
      "cell_type": "markdown",
      "metadata": {
        "id": "wWdzD2nyyDfD",
        "colab_type": "text"
      },
      "source": [
        "EXPLORATORY DATA ANALYSIS"
      ]
    },
    {
      "cell_type": "markdown",
      "metadata": {
        "id": "fWBoCgJayHyE",
        "colab_type": "text"
      },
      "source": [
        "1)UNIVARIATE ANALYSIS "
      ]
    },
    {
      "cell_type": "code",
      "metadata": {
        "id": "joUQBtQjx-oa",
        "colab_type": "code",
        "colab": {
          "base_uri": "https://localhost:8080/",
          "height": 101
        },
        "outputId": "bfa01f1d-23b7-431a-c85d-1862d9bc419d"
      },
      "source": [
        "is_can = len(df[df['is_canceled']==1])\n",
        "print(\"Percentage cancelation= \", is_can/len(df))\n",
        "df['reservation_status'].value_counts(normalize=True)*100"
      ],
      "execution_count": 7,
      "outputs": [
        {
          "output_type": "stream",
          "text": [
            "Percentage cancelation=  0.37041628277075134\n"
          ],
          "name": "stdout"
        },
        {
          "output_type": "execute_result",
          "data": {
            "text/plain": [
              "Check-Out    62.958372\n",
              "Canceled     36.030656\n",
              "No-Show       1.010972\n",
              "Name: reservation_status, dtype: float64"
            ]
          },
          "metadata": {
            "tags": []
          },
          "execution_count": 7
        }
      ]
    },
    {
      "cell_type": "code",
      "metadata": {
        "id": "hNZoZM_4yM0E",
        "colab_type": "code",
        "colab": {
          "base_uri": "https://localhost:8080/",
          "height": 370
        },
        "outputId": "d679a5b8-7d05-44cd-b565-0adf86509061"
      },
      "source": [
        "corr= df.corr(method='pearson')['is_canceled'][:]\n",
        "corr"
      ],
      "execution_count": 8,
      "outputs": [
        {
          "output_type": "execute_result",
          "data": {
            "text/plain": [
              "is_canceled                       1.000000\n",
              "lead_time                         0.293123\n",
              "arrival_date_year                 0.016660\n",
              "arrival_date_week_number          0.008148\n",
              "arrival_date_day_of_month        -0.006130\n",
              "stays_in_weekend_nights          -0.001791\n",
              "stays_in_week_nights              0.024765\n",
              "adults                            0.060017\n",
              "children                          0.005048\n",
              "babies                           -0.032491\n",
              "is_repeated_guest                -0.084793\n",
              "previous_cancellations            0.110133\n",
              "previous_bookings_not_canceled   -0.057358\n",
              "booking_changes                  -0.144381\n",
              "agent                            -0.083114\n",
              "company                          -0.020642\n",
              "days_in_waiting_list              0.054186\n",
              "adr                               0.047557\n",
              "required_car_parking_spaces      -0.195498\n",
              "total_of_special_requests        -0.234658\n",
              "Name: is_canceled, dtype: float64"
            ]
          },
          "metadata": {
            "tags": []
          },
          "execution_count": 8
        }
      ]
    },
    {
      "cell_type": "code",
      "metadata": {
        "id": "0C7ulIg9yQKW",
        "colab_type": "code",
        "colab": {
          "base_uri": "https://localhost:8080/",
          "height": 313
        },
        "outputId": "950d1729-f3dc-42ac-8b36-3f05ae6fe44f"
      },
      "source": [
        "sns.countplot(data=df, x='hotel', hue='is_canceled')\n",
        "resort_canceled = df[(df['hotel']=='Resort Hotel') & (df['is_canceled']==1)]\n",
        "city_canceled = df[(df['hotel']=='City Hotel') & (df['is_canceled']==1)]\n",
        "print('Cancelations in resort hotel= ', (len(resort_canceled))/(len(df[df['hotel']=='Resort Hotel'])))\n",
        "print('Cancelations in city hotel= ', (len(city_canceled))/(len(df[df['hotel']=='City Hotel'])))"
      ],
      "execution_count": 9,
      "outputs": [
        {
          "output_type": "stream",
          "text": [
            "Cancelations in resort hotel=  0.27763354967548676\n",
            "Cancelations in city hotel=  0.41726963317786464\n"
          ],
          "name": "stdout"
        },
        {
          "output_type": "display_data",
          "data": {
            "image/png": "[encoded data removed]",
            "text/plain": [
              "<Figure size 432x288 with 1 Axes>"
            ]
          },
          "metadata": {
            "tags": [],
            "needs_background": "light"
          }
        }
      ]
    },
    {
      "cell_type": "code",
      "metadata": {
        "id": "oKCRABBDyZl3",
        "colab_type": "code",
        "colab": {
          "base_uri": "https://localhost:8080/",
          "height": 242
        },
        "outputId": "57b5a9c7-e4b4-4625-8392-8e6687c7190a"
      },
      "source": [
        "grid = sns.FacetGrid(df, col='is_canceled')\n",
        "grid.map(plt.hist, 'lead_time', width=50)\n",
        "grid.add_legend()"
      ],
      "execution_count": 10,
      "outputs": [
        {
          "output_type": "execute_result",
          "data": {
            "text/plain": [
              "<seaborn.axisgrid.FacetGrid at 0x7f3734fdc9e8>"
            ]
          },
          "metadata": {
            "tags": []
          },
          "execution_count": 10
        },
        {
          "output_type": "display_data",
          "data": {
            "image/png": "[encoded data removed]",
            "text/plain": [
              "<Figure size 440x216 with 2 Axes>"
            ]
          },
          "metadata": {
            "tags": [],
            "needs_background": "light"
          }
        }
      ]
    },
    {
      "cell_type": "code",
      "metadata": {
        "id": "J9CAia3fyZ3_",
        "colab_type": "code",
        "colab": {
          "base_uri": "https://localhost:8080/",
          "height": 34
        },
        "outputId": "b12a76db-3b7a-4b8e-edae-68e2f266a074"
      },
      "source": [
        "print(len(df[(df['stays_in_weekend_nights']==0) & (df['stays_in_week_nights']==0)])) "
      ],
      "execution_count": 11,
      "outputs": [
        {
          "output_type": "stream",
          "text": [
            "715\n"
          ],
          "name": "stdout"
        }
      ]
    },
    {
      "cell_type": "code",
      "metadata": {
        "id": "ZMSYR_vXyf36",
        "colab_type": "code",
        "colab": {
          "base_uri": "https://localhost:8080/",
          "height": 34
        },
        "outputId": "7d7dfabb-b25a-4785-b0d6-89aa1264db04"
      },
      "source": [
        "((len(df.loc[(df['children']!=0) | (df['babies']!=0)]))/(len(df))) * 100"
      ],
      "execution_count": 12,
      "outputs": [
        {
          "output_type": "execute_result",
          "data": {
            "text/plain": [
              "7.819750397855767"
            ]
          },
          "metadata": {
            "tags": []
          },
          "execution_count": 12
        }
      ]
    },
    {
      "cell_type": "code",
      "metadata": {
        "id": "nzrO6a9oyh6i",
        "colab_type": "code",
        "colab": {
          "base_uri": "https://localhost:8080/",
          "height": 314
        },
        "outputId": "3bc939f0-6a37-446f-8b48-af6272bbab20"
      },
      "source": [
        "sns.countplot(data=df, x='is_repeated_guest', hue='is_canceled')\n",
        "new_guest = df[(df['is_repeated_guest']==0) & (df['is_canceled']==1)]\n",
        "old_guest = df[(df['is_repeated_guest']==1) & (df['is_canceled']==1)]\n",
        "print('Cancelations among new guests= ', (len(new_guest))/(len(df[df['is_repeated_guest']==0])))\n",
        "print('Cancelations among old guests= ', (len(old_guest))/(len(df[df['is_repeated_guest']==1])))"
      ],
      "execution_count": 13,
      "outputs": [
        {
          "output_type": "stream",
          "text": [
            "Cancelations among new guests=  0.3778508392455442\n",
            "Cancelations among old guests=  0.14488188976377953\n"
          ],
          "name": "stdout"
        },
        {
          "output_type": "display_data",
          "data": {
            "image/png": "[encoded data removed]",
            "text/plain": [
              "<Figure size 432x288 with 1 Axes>"
            ]
          },
          "metadata": {
            "tags": [],
            "needs_background": "light"
          }
        }
      ]
    },
    {
      "cell_type": "code",
      "metadata": {
        "id": "eYHjclOlykjj",
        "colab_type": "code",
        "colab": {
          "base_uri": "https://localhost:8080/",
          "height": 297
        },
        "outputId": "fa170a46-fbdc-4b78-eb2a-57a8952c7dc9"
      },
      "source": [
        "sns.countplot(data=df, x='previous_cancellations', hue='is_canceled')"
      ],
      "execution_count": 14,
      "outputs": [
        {
          "output_type": "execute_result",
          "data": {
            "text/plain": [
              "<matplotlib.axes._subplots.AxesSubplot at 0x7f3730f51f28>"
            ]
          },
          "metadata": {
            "tags": []
          },
          "execution_count": 14
        },
        {
          "output_type": "display_data",
          "data": {
            "image/png": "[encoded data removed]",
            "text/plain": [
              "<Figure size 432x288 with 1 Axes>"
            ]
          },
          "metadata": {
            "tags": [],
            "needs_background": "light"
          }
        }
      ]
    },
    {
      "cell_type": "code",
      "metadata": {
        "id": "0tgS_RadynD_",
        "colab_type": "code",
        "colab": {
          "base_uri": "https://localhost:8080/",
          "height": 67
        },
        "outputId": "72df5f17-fafd-4902-c9b8-b73ead9d73fd"
      },
      "source": [
        "temp = df.loc[df['reserved_room_type']!=df['assigned_room_type']]\n",
        "temp['is_canceled'].value_counts(normalize=True)*100"
      ],
      "execution_count": 15,
      "outputs": [
        {
          "output_type": "execute_result",
          "data": {
            "text/plain": [
              "0    94.623584\n",
              "1     5.376416\n",
              "Name: is_canceled, dtype: float64"
            ]
          },
          "metadata": {
            "tags": []
          },
          "execution_count": 15
        }
      ]
    },
    {
      "cell_type": "code",
      "metadata": {
        "id": "uxNwYI_fyvzp",
        "colab_type": "code",
        "colab": {
          "base_uri": "https://localhost:8080/",
          "height": 297
        },
        "outputId": "8bf1419e-3bd0-423a-8e24-ab91cd1c7e49"
      },
      "source": [
        "sns.pointplot(data=df, x='booking_changes', y='is_canceled')"
      ],
      "execution_count": 16,
      "outputs": [
        {
          "output_type": "execute_result",
          "data": {
            "text/plain": [
              "<matplotlib.axes._subplots.AxesSubplot at 0x7f3730e99a20>"
            ]
          },
          "metadata": {
            "tags": []
          },
          "execution_count": 16
        },
        {
          "output_type": "display_data",
          "data": {
            "image/png": "[encoded data removed]",
            "text/plain": [
              "<Figure size 432x288 with 1 Axes>"
            ]
          },
          "metadata": {
            "tags": [],
            "needs_background": "light"
          }
        }
      ]
    },
    {
      "cell_type": "code",
      "metadata": {
        "id": "ajrDHsk8y0EE",
        "colab_type": "code",
        "colab": {
          "base_uri": "https://localhost:8080/",
          "height": 280
        },
        "outputId": "3d7b62a3-58f0-41b6-d003-d8ad5ad6eed8"
      },
      "source": [
        "sns.countplot(x=\"deposit_type\", hue=\"is_canceled\",data=df);"
      ],
      "execution_count": 17,
      "outputs": [
        {
          "output_type": "display_data",
          "data": {
            "image/png": "[encoded data removed]",
            "text/plain": [
              "<Figure size 432x288 with 1 Axes>"
            ]
          },
          "metadata": {
            "tags": [],
            "needs_background": "light"
          }
        }
      ]
    },
    {
      "cell_type": "code",
      "metadata": {
        "id": "b-DVUlT_y2Lo",
        "colab_type": "code",
        "colab": {
          "base_uri": "https://localhost:8080/",
          "height": 386
        },
        "outputId": "fdca0e83-fb73-47e6-9cb7-6d0afd762a83"
      },
      "source": [
        "sns.relplot(data=df, x='days_in_waiting_list', y='is_canceled', kind='line', estimator=None)"
      ],
      "execution_count": 18,
      "outputs": [
        {
          "output_type": "execute_result",
          "data": {
            "text/plain": [
              "<seaborn.axisgrid.FacetGrid at 0x7f3730e2a2b0>"
            ]
          },
          "metadata": {
            "tags": []
          },
          "execution_count": 18
        },
        {
          "output_type": "display_data",
          "data": {
            "image/png": "[encoded data removed]",
            "text/plain": [
              "<Figure size 360x360 with 1 Axes>"
            ]
          },
          "metadata": {
            "tags": [],
            "needs_background": "light"
          }
        }
      ]
    },
    {
      "cell_type": "code",
      "metadata": {
        "id": "8TsTEHOIy2cx",
        "colab_type": "code",
        "colab": {
          "base_uri": "https://localhost:8080/",
          "height": 297
        },
        "outputId": "9f93cc60-eff5-440c-cf33-03d3f6b829dd"
      },
      "source": [
        "sns.countplot(data=df, x='arrival_date_year', hue='is_canceled')"
      ],
      "execution_count": 19,
      "outputs": [
        {
          "output_type": "execute_result",
          "data": {
            "text/plain": [
              "<matplotlib.axes._subplots.AxesSubplot at 0x7f3730cc6c88>"
            ]
          },
          "metadata": {
            "tags": []
          },
          "execution_count": 19
        },
        {
          "output_type": "display_data",
          "data": {
            "image/png": "[encoded data removed]",
            "text/plain": [
              "<Figure size 432x288 with 1 Axes>"
            ]
          },
          "metadata": {
            "tags": [],
            "needs_background": "light"
          }
        }
      ]
    },
    {
      "cell_type": "code",
      "metadata": {
        "id": "U8_KCxFry7pe",
        "colab_type": "code",
        "colab": {
          "base_uri": "https://localhost:8080/",
          "height": 430
        },
        "outputId": "de6319d5-a51f-4a79-b643-3068d9bd64b3"
      },
      "source": [
        "chart = sns.catplot(data=df, x='arrival_date_month', hue='is_canceled', kind='count')\n",
        "chart.set_xticklabels(rotation=65, horizontalalignment='right')"
      ],
      "execution_count": 20,
      "outputs": [
        {
          "output_type": "execute_result",
          "data": {
            "text/plain": [
              "<seaborn.axisgrid.FacetGrid at 0x7f3730d536a0>"
            ]
          },
          "metadata": {
            "tags": []
          },
          "execution_count": 20
        },
        {
          "output_type": "display_data",
          "data": {
            "image/png": "[encoded data removed]",
            "text/plain": [
              "<Figure size 426.125x360 with 1 Axes>"
            ]
          },
          "metadata": {
            "tags": [],
            "needs_background": "light"
          }
        }
      ]
    },
    {
      "cell_type": "code",
      "metadata": {
        "id": "_stViDP7zBZl",
        "colab_type": "code",
        "colab": {
          "base_uri": "https://localhost:8080/",
          "height": 588
        },
        "outputId": "50c98d76-5425-4219-95dc-eaaa959bb846"
      },
      "source": [
        "year_count = df.groupby(['arrival_date_year', 'is_canceled']).size().to_frame(name='count')\n",
        "year_perct = year_count.groupby(level=0).apply(lambda x:100 * x / float(x.sum()))\n",
        "print(year_perct)\n",
        "\n",
        "month_count = df.groupby(['arrival_date_month', 'is_canceled']).size().to_frame(name='count')\n",
        "month_perct = month_count.groupby(level=0).apply(lambda x:100 * x / float(x.sum()))\n",
        "print(month_perct)"
      ],
      "execution_count": 21,
      "outputs": [
        {
          "output_type": "stream",
          "text": [
            "                                   count\n",
            "arrival_date_year is_canceled           \n",
            "2015              0            62.984179\n",
            "                  1            37.015821\n",
            "2016              0            64.136703\n",
            "                  1            35.863297\n",
            "2017              0            61.302136\n",
            "                  1            38.697864\n",
            "                                    count\n",
            "arrival_date_month is_canceled           \n",
            "April              0            59.202814\n",
            "                   1            40.797186\n",
            "August             0            62.246883\n",
            "                   1            37.753117\n",
            "December           0            65.029499\n",
            "                   1            34.970501\n",
            "February           0            66.584036\n",
            "                   1            33.415964\n",
            "January            0            69.522685\n",
            "                   1            30.477315\n",
            "July               0            62.546402\n",
            "                   1            37.453598\n",
            "June               0            58.542828\n",
            "                   1            41.457172\n",
            "March              0            67.847662\n",
            "                   1            32.152338\n",
            "May                0            60.334153\n",
            "                   1            39.665847\n",
            "November           0            68.766559\n",
            "                   1            31.233441\n",
            "October            0            61.953405\n",
            "                   1            38.046595\n",
            "September          0            60.829844\n",
            "                   1            39.170156\n"
          ],
          "name": "stdout"
        }
      ]
    },
    {
      "cell_type": "code",
      "metadata": {
        "id": "WIKumHs3zBsR",
        "colab_type": "code",
        "colab": {
          "base_uri": "https://localhost:8080/",
          "height": 453
        },
        "outputId": "f8a67313-824e-455c-feb8-5788d8371ad8"
      },
      "source": [
        "chart = sns.catplot(data=df, x='market_segment', kind='count', hue='is_canceled')\n",
        "chart.set_xticklabels(rotation=65, horizontalalignment='right')"
      ],
      "execution_count": 22,
      "outputs": [
        {
          "output_type": "execute_result",
          "data": {
            "text/plain": [
              "<seaborn.axisgrid.FacetGrid at 0x7f373376e4e0>"
            ]
          },
          "metadata": {
            "tags": []
          },
          "execution_count": 22
        },
        {
          "output_type": "display_data",
          "data": {
            "image/png": "[encoded data removed]",
            "text/plain": [
              "<Figure size 426.125x360 with 1 Axes>"
            ]
          },
          "metadata": {
            "tags": [],
            "needs_background": "light"
          }
        }
      ]
    },
    {
      "cell_type": "code",
      "metadata": {
        "id": "xAOqnWi3zE7z",
        "colab_type": "code",
        "colab": {
          "base_uri": "https://localhost:8080/",
          "height": 299
        },
        "outputId": "202a22b6-ce2d-4a04-c162-3718d9bdac1a"
      },
      "source": [
        "sns.countplot(data=df, x='distribution_channel', hue='is_canceled')"
      ],
      "execution_count": 23,
      "outputs": [
        {
          "output_type": "execute_result",
          "data": {
            "text/plain": [
              "<matplotlib.axes._subplots.AxesSubplot at 0x7f3730148ef0>"
            ]
          },
          "metadata": {
            "tags": []
          },
          "execution_count": 23
        },
        {
          "output_type": "display_data",
          "data": {
            "image/png": "[encoded data removed]",
            "text/plain": [
              "<Figure size 432x288 with 1 Axes>"
            ]
          },
          "metadata": {
            "tags": [],
            "needs_background": "light"
          }
        }
      ]
    },
    {
      "cell_type": "code",
      "metadata": {
        "id": "d9j-WJFHzJ4f",
        "colab_type": "code",
        "colab": {
          "base_uri": "https://localhost:8080/",
          "height": 381
        },
        "outputId": "aa52f882-65a1-40d6-a2f1-5131eae86388"
      },
      "source": [
        "print(df['customer_type'].value_counts(normalize=True)*100)\n",
        "sns.countplot(data=df, x='customer_type', hue='is_canceled')"
      ],
      "execution_count": 24,
      "outputs": [
        {
          "output_type": "stream",
          "text": [
            "Transient          75.059050\n",
            "Transient-Party    21.043638\n",
            "Contract            3.414021\n",
            "Group               0.483290\n",
            "Name: customer_type, dtype: float64\n"
          ],
          "name": "stdout"
        },
        {
          "output_type": "execute_result",
          "data": {
            "text/plain": [
              "<matplotlib.axes._subplots.AxesSubplot at 0x7f3730c7f128>"
            ]
          },
          "metadata": {
            "tags": []
          },
          "execution_count": 24
        },
        {
          "output_type": "display_data",
          "data": {
            "image/png": "[encoded data removed]",
            "text/plain": [
              "<Figure size 432x288 with 1 Axes>"
            ]
          },
          "metadata": {
            "tags": [],
            "needs_background": "light"
          }
        }
      ]
    },
    {
      "cell_type": "code",
      "metadata": {
        "id": "zZmWHMq1zNhO",
        "colab_type": "code",
        "colab": {
          "base_uri": "https://localhost:8080/",
          "height": 34
        },
        "outputId": "ba94044c-b26c-4a36-d55e-a32fcbf990e4"
      },
      "source": [
        "df['reservation_status'].unique()"
      ],
      "execution_count": 25,
      "outputs": [
        {
          "output_type": "execute_result",
          "data": {
            "text/plain": [
              "array(['Check-Out', 'Canceled', 'No-Show'], dtype=object)"
            ]
          },
          "metadata": {
            "tags": []
          },
          "execution_count": 25
        }
      ]
    },
    {
      "cell_type": "code",
      "metadata": {
        "id": "sZbG4C1xzNyy",
        "colab_type": "code",
        "colab": {
          "base_uri": "https://localhost:8080/",
          "height": 295
        },
        "outputId": "43667a14-ea84-4ad8-cb74-ba4dd7b1a495"
      },
      "source": [
        "grid = sns.FacetGrid(df, col='arrival_date_year')\n",
        "grid.map(sns.countplot, 'hotel')"
      ],
      "execution_count": 26,
      "outputs": [
        {
          "output_type": "stream",
          "text": [
            "/usr/local/lib/python3.6/dist-packages/seaborn/axisgrid.py:723: UserWarning: Using the countplot function without specifying `order` is likely to produce an incorrect plot.\n",
            "  warnings.warn(warning)\n"
          ],
          "name": "stderr"
        },
        {
          "output_type": "execute_result",
          "data": {
            "text/plain": [
              "<seaborn.axisgrid.FacetGrid at 0x7f3730c96ba8>"
            ]
          },
          "metadata": {
            "tags": []
          },
          "execution_count": 26
        },
        {
          "output_type": "display_data",
          "data": {
            "image/png": "[encoded data removed]",
            "text/plain": [
              "<Figure size 648x216 with 3 Axes>"
            ]
          },
          "metadata": {
            "tags": [],
            "needs_background": "light"
          }
        }
      ]
    },
    {
      "cell_type": "code",
      "metadata": {
        "id": "wLo3vRM4zSLE",
        "colab_type": "code",
        "colab": {
          "base_uri": "https://localhost:8080/",
          "height": 295
        },
        "outputId": "16a3c361-2ec2-4eab-f47d-109f17b4e96e"
      },
      "source": [
        "df['meal'].nunique(), df['customer_type'].nunique()\n",
        "grid = sns.FacetGrid(df, col='customer_type')\n",
        "grid.map(sns.countplot, 'meal')"
      ],
      "execution_count": 27,
      "outputs": [
        {
          "output_type": "stream",
          "text": [
            "/usr/local/lib/python3.6/dist-packages/seaborn/axisgrid.py:723: UserWarning: Using the countplot function without specifying `order` is likely to produce an incorrect plot.\n",
            "  warnings.warn(warning)\n"
          ],
          "name": "stderr"
        },
        {
          "output_type": "execute_result",
          "data": {
            "text/plain": [
              "<seaborn.axisgrid.FacetGrid at 0x7f3730c96cc0>"
            ]
          },
          "metadata": {
            "tags": []
          },
          "execution_count": 27
        },
        {
          "output_type": "display_data",
          "data": {
            "image/png": "[encoded data removed]",
            "text/plain": [
              "<Figure size 864x216 with 4 Axes>"
            ]
          },
          "metadata": {
            "tags": [],
            "needs_background": "light"
          }
        }
      ]
    },
    {
      "cell_type": "code",
      "metadata": {
        "id": "MhcM3gEFzSc9",
        "colab_type": "code",
        "colab": {
          "base_uri": "https://localhost:8080/",
          "height": 77
        },
        "outputId": "c663c425-4c75-439b-a1de-1762c2199514"
      },
      "source": [
        "df.pivot_table(columns='hotel', values='country', aggfunc=lambda x:x.mode())"
      ],
      "execution_count": 28,
      "outputs": [
        {
          "output_type": "execute_result",
          "data": {
            "text/html": [
              "<div>\n",
              "<style scoped>\n",
              "    .dataframe tbody tr th:only-of-type {\n",
              "        vertical-align: middle;\n",
              "    }\n",
              "\n",
              "    .dataframe tbody tr th {\n",
              "        vertical-align: top;\n",
              "    }\n",
              "\n",
              "    .dataframe thead th {\n",
              "        text-align: right;\n",
              "    }\n",
              "</style>\n",
              "<table border=\"1\" class=\"dataframe\">\n",
              "  <thead>\n",
              "    <tr style=\"text-align: right;\">\n",
              "      <th>hotel</th>\n",
              "      <th>City Hotel</th>\n",
              "      <th>Resort Hotel</th>\n",
              "    </tr>\n",
              "  </thead>\n",
              "  <tbody>\n",
              "    <tr>\n",
              "      <th>country</th>\n",
              "      <td>PRT</td>\n",
              "      <td>PRT</td>\n",
              "    </tr>\n",
              "  </tbody>\n",
              "</table>\n",
              "</div>"
            ],
            "text/plain": [
              "hotel   City Hotel Resort Hotel\n",
              "country        PRT          PRT"
            ]
          },
          "metadata": {
            "tags": []
          },
          "execution_count": 28
        }
      ]
    },
    {
      "cell_type": "code",
      "metadata": {
        "id": "ACMLmuV1zWN7",
        "colab_type": "code",
        "colab": {
          "base_uri": "https://localhost:8080/",
          "height": 296
        },
        "outputId": "ee99d323-1966-4360-f420-e5cc1552bbcf"
      },
      "source": [
        "g = sns.countplot(data=df, x='hotel', hue='reserved_room_type')\n",
        "g.legend(loc='center left', bbox_to_anchor=(1.25, 0.5), ncol=1)"
      ],
      "execution_count": 29,
      "outputs": [
        {
          "output_type": "execute_result",
          "data": {
            "text/plain": [
              "<matplotlib.legend.Legend at 0x7f3730754518>"
            ]
          },
          "metadata": {
            "tags": []
          },
          "execution_count": 29
        },
        {
          "output_type": "display_data",
          "data": {
            "image/png": "[encoded data removed]",
            "text/plain": [
              "<Figure size 432x288 with 1 Axes>"
            ]
          },
          "metadata": {
            "tags": [],
            "needs_background": "light"
          }
        }
      ]
    },
    {
      "cell_type": "code",
      "metadata": {
        "id": "j4lBO9rFzadl",
        "colab_type": "code",
        "colab": {
          "base_uri": "https://localhost:8080/",
          "height": 202
        },
        "outputId": "2dbe504e-7c3e-4642-fedf-b4f8a30f2bdd"
      },
      "source": [
        "print(\"TABLE 1\")\n",
        "print(df.groupby(['hotel', 'customer_type']).size())"
      ],
      "execution_count": 30,
      "outputs": [
        {
          "output_type": "stream",
          "text": [
            "TABLE 1\n",
            "hotel         customer_type  \n",
            "City Hotel    Contract            2300\n",
            "              Group                293\n",
            "              Transient          59404\n",
            "              Transient-Party    17333\n",
            "Resort Hotel  Contract            1776\n",
            "              Group                284\n",
            "              Transient          30209\n",
            "              Transient-Party     7791\n",
            "dtype: int64\n"
          ],
          "name": "stdout"
        }
      ]
    },
    {
      "cell_type": "code",
      "metadata": {
        "id": "SgCQJOeazc91",
        "colab_type": "code",
        "colab": {
          "base_uri": "https://localhost:8080/",
          "height": 235
        },
        "outputId": "47e0741e-47bc-43a0-817c-eff61f713c94"
      },
      "source": [
        "print(df.groupby(['customer_type', 'deposit_type']).size())"
      ],
      "execution_count": 31,
      "outputs": [
        {
          "output_type": "stream",
          "text": [
            "customer_type    deposit_type\n",
            "Contract         No Deposit       3530\n",
            "                 Non Refund        544\n",
            "                 Refundable          2\n",
            "Group            No Deposit        569\n",
            "                 Refundable          8\n",
            "Transient        No Deposit      76684\n",
            "                 Non Refund      12909\n",
            "                 Refundable         20\n",
            "Transient-Party  No Deposit      23858\n",
            "                 Non Refund       1134\n",
            "                 Refundable        132\n",
            "dtype: int64\n"
          ],
          "name": "stdout"
        }
      ]
    },
    {
      "cell_type": "code",
      "metadata": {
        "id": "oYXN8TXOzj03",
        "colab_type": "code",
        "colab": {
          "base_uri": "https://localhost:8080/",
          "height": 823
        },
        "outputId": "eca1e5a2-52e2-46dc-864a-6ca991ad4a67"
      },
      "source": [
        "print(df.groupby(['customer_type', 'distribution_channel']).size())\n",
        "print(\"-\"*60)\n",
        "print(df.groupby(['customer_type', 'market_segment']).size())"
      ],
      "execution_count": 32,
      "outputs": [
        {
          "output_type": "stream",
          "text": [
            "customer_type    distribution_channel\n",
            "Contract         Corporate                  27\n",
            "                 Direct                     19\n",
            "                 TA/TO                    4030\n",
            "Group            Corporate                  31\n",
            "                 Direct                    116\n",
            "                 TA/TO                     430\n",
            "Transient        Corporate                4157\n",
            "                 Direct                  12343\n",
            "                 GDS                       193\n",
            "                 TA/TO                   72919\n",
            "                 Undefined                   1\n",
            "Transient-Party  Corporate                2462\n",
            "                 Direct                   2167\n",
            "                 TA/TO                   20491\n",
            "                 Undefined                   4\n",
            "dtype: int64\n",
            "------------------------------------------------------------\n",
            "customer_type    market_segment\n",
            "Contract         Complementary         2\n",
            "                 Corporate            22\n",
            "                 Direct               14\n",
            "                 Groups              735\n",
            "                 Offline TA/TO      1817\n",
            "                 Online TA          1486\n",
            "Group            Aviation              2\n",
            "                 Complementary         6\n",
            "                 Corporate            29\n",
            "                 Direct              134\n",
            "                 Groups               16\n",
            "                 Offline TA/TO       211\n",
            "                 Online TA           179\n",
            "Transient        Aviation            218\n",
            "                 Complementary       703\n",
            "                 Corporate          3576\n",
            "                 Direct            11336\n",
            "                 Groups             8427\n",
            "                 Offline TA/TO     14054\n",
            "                 Online TA         51299\n",
            "Transient-Party  Aviation             17\n",
            "                 Complementary        32\n",
            "                 Corporate          1668\n",
            "                 Direct             1122\n",
            "                 Groups            10633\n",
            "                 Offline TA/TO      8137\n",
            "                 Online TA          3513\n",
            "                 Undefined             2\n",
            "dtype: int64\n"
          ],
          "name": "stdout"
        }
      ]
    },
    {
      "cell_type": "code",
      "metadata": {
        "id": "hloP8HDQzn6M",
        "colab_type": "code",
        "colab": {
          "base_uri": "https://localhost:8080/",
          "height": 487
        },
        "outputId": "0e7a77f1-b1e5-4693-a268-f76c1fafbfe3"
      },
      "source": [
        "print(df.groupby(['hotel', 'distribution_channel']).size())\n",
        "print(\"-\"*40)\n",
        "print(df.groupby(['hotel', 'market_segment']).size())"
      ],
      "execution_count": 33,
      "outputs": [
        {
          "output_type": "stream",
          "text": [
            "hotel         distribution_channel\n",
            "City Hotel    Corporate                3408\n",
            "              Direct                   6780\n",
            "              GDS                       193\n",
            "              TA/TO                   68945\n",
            "              Undefined                   4\n",
            "Resort Hotel  Corporate                3269\n",
            "              Direct                   7865\n",
            "              TA/TO                   28925\n",
            "              Undefined                   1\n",
            "dtype: int64\n",
            "----------------------------------------\n",
            "hotel         market_segment\n",
            "City Hotel    Aviation            237\n",
            "              Complementary       542\n",
            "              Corporate          2986\n",
            "              Direct             6093\n",
            "              Groups            13975\n",
            "              Offline TA/TO     16747\n",
            "              Online TA         38748\n",
            "              Undefined             2\n",
            "Resort Hotel  Complementary       201\n",
            "              Corporate          2309\n",
            "              Direct             6513\n",
            "              Groups             5836\n",
            "              Offline TA/TO      7472\n",
            "              Online TA         17729\n",
            "dtype: int64\n"
          ],
          "name": "stdout"
        }
      ]
    },
    {
      "cell_type": "code",
      "metadata": {
        "id": "wZoiS_7kztRp",
        "colab_type": "code",
        "colab": {
          "base_uri": "https://localhost:8080/",
          "height": 252
        },
        "outputId": "ac66caf8-6e29-49e4-a4f8-95f479524439"
      },
      "source": [
        "group = df.groupby(['customer_type', 'reservation_status']).size()\n",
        "group_pcts = group.groupby(level=0).apply(lambda x:100 * x / float(x.sum()))\n",
        "group_pcts"
      ],
      "execution_count": 34,
      "outputs": [
        {
          "output_type": "execute_result",
          "data": {
            "text/plain": [
              "customer_type    reservation_status\n",
              "Contract         Canceled              30.323847\n",
              "                 Check-Out             69.038273\n",
              "                 No-Show                0.637880\n",
              "Group            Canceled               9.532062\n",
              "                 Check-Out             89.774697\n",
              "                 No-Show                0.693241\n",
              "Transient        Canceled              39.678395\n",
              "                 Check-Out             59.253680\n",
              "                 No-Show                1.067925\n",
              "Transient-Party  Canceled              24.554211\n",
              "                 Check-Out             74.570132\n",
              "                 No-Show                0.875657\n",
              "dtype: float64"
            ]
          },
          "metadata": {
            "tags": []
          },
          "execution_count": 34
        }
      ]
    },
    {
      "cell_type": "code",
      "metadata": {
        "id": "shJvaJ97ztlH",
        "colab_type": "code",
        "colab": {
          "base_uri": "https://localhost:8080/",
          "height": 106
        },
        "outputId": "c8c5250a-e785-4746-8950-b7e164f427ad"
      },
      "source": [
        "df.pivot_table(columns='hotel', values=['stays_in_weekend_nights', 'stays_in_week_nights'], aggfunc=lambda x:x.sum())"
      ],
      "execution_count": 35,
      "outputs": [
        {
          "output_type": "execute_result",
          "data": {
            "text/html": [
              "<div>\n",
              "<style scoped>\n",
              "    .dataframe tbody tr th:only-of-type {\n",
              "        vertical-align: middle;\n",
              "    }\n",
              "\n",
              "    .dataframe tbody tr th {\n",
              "        vertical-align: top;\n",
              "    }\n",
              "\n",
              "    .dataframe thead th {\n",
              "        text-align: right;\n",
              "    }\n",
              "</style>\n",
              "<table border=\"1\" class=\"dataframe\">\n",
              "  <thead>\n",
              "    <tr style=\"text-align: right;\">\n",
              "      <th>hotel</th>\n",
              "      <th>City Hotel</th>\n",
              "      <th>Resort Hotel</th>\n",
              "    </tr>\n",
              "  </thead>\n",
              "  <tbody>\n",
              "    <tr>\n",
              "      <th>stays_in_week_nights</th>\n",
              "      <td>173174</td>\n",
              "      <td>125337</td>\n",
              "    </tr>\n",
              "    <tr>\n",
              "      <th>stays_in_weekend_nights</th>\n",
              "      <td>63082</td>\n",
              "      <td>47664</td>\n",
              "    </tr>\n",
              "  </tbody>\n",
              "</table>\n",
              "</div>"
            ],
            "text/plain": [
              "hotel                    City Hotel  Resort Hotel\n",
              "stays_in_week_nights         173174        125337\n",
              "stays_in_weekend_nights       63082         47664"
            ]
          },
          "metadata": {
            "tags": []
          },
          "execution_count": 35
        }
      ]
    },
    {
      "cell_type": "code",
      "metadata": {
        "id": "0Aao9nZCzyFU",
        "colab_type": "code",
        "colab": {
          "base_uri": "https://localhost:8080/",
          "height": 77
        },
        "outputId": "3cc0760b-bfc3-409b-b125-717227e80fe9"
      },
      "source": [
        "df.pivot_table(columns='hotel', values='total_of_special_requests', aggfunc=lambda x:x.sum())"
      ],
      "execution_count": 36,
      "outputs": [
        {
          "output_type": "execute_result",
          "data": {
            "text/html": [
              "<div>\n",
              "<style scoped>\n",
              "    .dataframe tbody tr th:only-of-type {\n",
              "        vertical-align: middle;\n",
              "    }\n",
              "\n",
              "    .dataframe tbody tr th {\n",
              "        vertical-align: top;\n",
              "    }\n",
              "\n",
              "    .dataframe thead th {\n",
              "        text-align: right;\n",
              "    }\n",
              "</style>\n",
              "<table border=\"1\" class=\"dataframe\">\n",
              "  <thead>\n",
              "    <tr style=\"text-align: right;\">\n",
              "      <th>hotel</th>\n",
              "      <th>City Hotel</th>\n",
              "      <th>Resort Hotel</th>\n",
              "    </tr>\n",
              "  </thead>\n",
              "  <tbody>\n",
              "    <tr>\n",
              "      <th>total_of_special_requests</th>\n",
              "      <td>43387</td>\n",
              "      <td>24828</td>\n",
              "    </tr>\n",
              "  </tbody>\n",
              "</table>\n",
              "</div>"
            ],
            "text/plain": [
              "hotel                      City Hotel  Resort Hotel\n",
              "total_of_special_requests       43387         24828"
            ]
          },
          "metadata": {
            "tags": []
          },
          "execution_count": 36
        }
      ]
    },
    {
      "cell_type": "code",
      "metadata": {
        "id": "ZEwFpxbEz0Xt",
        "colab_type": "code",
        "colab": {
          "base_uri": "https://localhost:8080/",
          "height": 386
        },
        "outputId": "d3983052-da7b-416f-d48f-288636cd724a"
      },
      "source": [
        "sns.catplot(data=df, x='hotel', y='days_in_waiting_list', jitter=False)"
      ],
      "execution_count": 37,
      "outputs": [
        {
          "output_type": "execute_result",
          "data": {
            "text/plain": [
              "<seaborn.axisgrid.FacetGrid at 0x7f373097da58>"
            ]
          },
          "metadata": {
            "tags": []
          },
          "execution_count": 37
        },
        {
          "output_type": "display_data",
          "data": {
            "image/png": "[encoded data removed]",
            "text/plain": [
              "<Figure size 360x360 with 1 Axes>"
            ]
          },
          "metadata": {
            "tags": [],
            "needs_background": "light"
          }
        }
      ]
    },
    {
      "cell_type": "code",
      "metadata": {
        "id": "Iy4uZBehz0od",
        "colab_type": "code",
        "colab": {
          "base_uri": "https://localhost:8080/",
          "height": 218
        },
        "outputId": "f8afcee4-7730-460d-d947-0c47db3c03d0"
      },
      "source": [
        "df['country'].value_counts(normalize=True)*100"
      ],
      "execution_count": 38,
      "outputs": [
        {
          "output_type": "execute_result",
          "data": {
            "text/plain": [
              "PRT    40.865587\n",
              "GBR    10.200838\n",
              "FRA     8.759314\n",
              "ESP     7.205934\n",
              "DEU     6.128576\n",
              "         ...    \n",
              "DJI     0.000841\n",
              "NAM     0.000841\n",
              "DMA     0.000841\n",
              "MMR     0.000841\n",
              "BFA     0.000841\n",
              "Name: country, Length: 177, dtype: float64"
            ]
          },
          "metadata": {
            "tags": []
          },
          "execution_count": 38
        }
      ]
    },
    {
      "cell_type": "code",
      "metadata": {
        "id": "UfXr1_QNz7wk",
        "colab_type": "code",
        "colab": {
          "base_uri": "https://localhost:8080/",
          "height": 295
        },
        "outputId": "6fce81fd-d52c-4af2-a4b2-53a73fc75ff1"
      },
      "source": [
        "temp = df.loc[(df['country']=='PRT') | (df['country']=='GBR') | (df['country']=='FRA') | (df['country']=='ESP') | (df['country']=='DEU')]\n",
        "grid = sns.FacetGrid(temp, col='country')\n",
        "grid.map(sns.countplot, 'distribution_channel')"
      ],
      "execution_count": 39,
      "outputs": [
        {
          "output_type": "stream",
          "text": [
            "/usr/local/lib/python3.6/dist-packages/seaborn/axisgrid.py:723: UserWarning: Using the countplot function without specifying `order` is likely to produce an incorrect plot.\n",
            "  warnings.warn(warning)\n"
          ],
          "name": "stderr"
        },
        {
          "output_type": "execute_result",
          "data": {
            "text/plain": [
              "<seaborn.axisgrid.FacetGrid at 0x7f37308a05f8>"
            ]
          },
          "metadata": {
            "tags": []
          },
          "execution_count": 39
        },
        {
          "output_type": "display_data",
          "data": {
            "image/png": "[encoded data removed]",
            "text/plain": [
              "<Figure size 1080x216 with 5 Axes>"
            ]
          },
          "metadata": {
            "tags": [],
            "needs_background": "light"
          }
        }
      ]
    },
    {
      "cell_type": "code",
      "metadata": {
        "id": "onfpfRFZ0YRI",
        "colab_type": "code",
        "colab": {
          "base_uri": "https://localhost:8080/",
          "height": 297
        },
        "outputId": "7c2737a7-13db-48b0-cf34-b102c7126de8"
      },
      "source": [
        "sns.barplot(data=df, x='customer_type', y='total_of_special_requests', ci=None)"
      ],
      "execution_count": 40,
      "outputs": [
        {
          "output_type": "execute_result",
          "data": {
            "text/plain": [
              "<matplotlib.axes._subplots.AxesSubplot at 0x7f3730f434a8>"
            ]
          },
          "metadata": {
            "tags": []
          },
          "execution_count": 40
        },
        {
          "output_type": "display_data",
          "data": {
            "image/png": "[encoded data removed]",
            "text/plain": [
              "<Figure size 432x288 with 1 Axes>"
            ]
          },
          "metadata": {
            "tags": [],
            "needs_background": "light"
          }
        }
      ]
    },
    {
      "cell_type": "code",
      "metadata": {
        "id": "af42Nkzi0ek4",
        "colab_type": "code",
        "colab": {
          "base_uri": "https://localhost:8080/",
          "height": 297
        },
        "outputId": "95713bda-e786-42da-c08d-c04e1efa3507"
      },
      "source": [
        "sns.boxplot(data=df, x='distribution_channel', y='lead_time')"
      ],
      "execution_count": 41,
      "outputs": [
        {
          "output_type": "execute_result",
          "data": {
            "text/plain": [
              "<matplotlib.axes._subplots.AxesSubplot at 0x7f3730626f28>"
            ]
          },
          "metadata": {
            "tags": []
          },
          "execution_count": 41
        },
        {
          "output_type": "display_data",
          "data": {
            "image/png": "[encoded data removed]",
            "text/plain": [
              "<Figure size 432x288 with 1 Axes>"
            ]
          },
          "metadata": {
            "tags": [],
            "needs_background": "light"
          }
        }
      ]
    },
    {
      "cell_type": "markdown",
      "metadata": {
        "id": "fYl0tbol0lZC",
        "colab_type": "text"
      },
      "source": [
        "FEATURE ENGINEERING"
      ]
    },
    {
      "cell_type": "code",
      "metadata": {
        "id": "Tv0DF2aV0goD",
        "colab_type": "code",
        "colab": {}
      },
      "source": [
        "month_map = {'January':'01', 'February':'02', 'March':'03', 'April':'04', 'May':'05', 'June':'06', 'July':'07', 'August':'08', 'September':'09', 'October':'10', 'November':'11', 'December':'12'}\n",
        "df.arrival_date_month = df.arrival_date_month.map(month_map).astype(int)"
      ],
      "execution_count": 42,
      "outputs": []
    },
    {
      "cell_type": "code",
      "metadata": {
        "id": "wCddzVu80pOg",
        "colab_type": "code",
        "colab": {}
      },
      "source": [
        "df['arrival_date'] = df['arrival_date_year'].astype(str)+'-'+df['arrival_date_month'].astype(str)+'-'+df['arrival_date_day_of_month'].astype(str)"
      ],
      "execution_count": 43,
      "outputs": []
    },
    {
      "cell_type": "code",
      "metadata": {
        "id": "_2xdfCBl0uok",
        "colab_type": "code",
        "colab": {}
      },
      "source": [
        "def roomChange(row):\n",
        "    if row['assigned_room_type'] == row['reserved_room_type']:\n",
        "        return False\n",
        "    else:\n",
        "        return True\n",
        "\n",
        "df['change_in_room'] = df.apply(roomChange, axis=1)"
      ],
      "execution_count": 44,
      "outputs": []
    },
    {
      "cell_type": "code",
      "metadata": {
        "id": "dLt03pCI0u-N",
        "colab_type": "code",
        "colab": {}
      },
      "source": [
        "df['children'] = df['children'].fillna(0)\n",
        "df['offspring'] = (df['children'] + df['babies']).astype(int)"
      ],
      "execution_count": 45,
      "outputs": []
    },
    {
      "cell_type": "code",
      "metadata": {
        "id": "QqdTmAFq0zsB",
        "colab_type": "code",
        "colab": {}
      },
      "source": [
        "df['total_bookings'] = df['previous_cancellations'] + df['previous_bookings_not_canceled']"
      ],
      "execution_count": 46,
      "outputs": []
    },
    {
      "cell_type": "code",
      "metadata": {
        "id": "ov442oLO0z9X",
        "colab_type": "code",
        "colab": {}
      },
      "source": [
        "df['country'].fillna(df['country'].mode()[0], inplace=True)\n",
        "df['agent'].fillna(df['agent'].mode()[0], inplace=True)\n",
        "df['company'].fillna(df['company'].mode()[0], inplace=True)"
      ],
      "execution_count": 47,
      "outputs": []
    },
    {
      "cell_type": "code",
      "metadata": {
        "id": "gYpTfa4O02HS",
        "colab_type": "code",
        "colab": {}
      },
      "source": [
        "for i in range(len(df)):\n",
        "    if df.loc[i, 'country'] == 'PRT':\n",
        "        df.at[i, 'country'] = 1\n",
        "    elif df.loc[i, 'country'] == 'GBR':\n",
        "        df.at[i, 'country'] = 2\n",
        "    else:\n",
        "        df.at[i, 'country'] = 0"
      ],
      "execution_count": 48,
      "outputs": []
    },
    {
      "cell_type": "code",
      "metadata": {
        "id": "GWRIywh405bT",
        "colab_type": "code",
        "colab": {}
      },
      "source": [
        "df['reservation_status_date'] = pd.to_datetime(df['reservation_status_date'])\n",
        "df['arrival_date'] = pd.to_datetime(df['arrival_date'])"
      ],
      "execution_count": 49,
      "outputs": []
    },
    {
      "cell_type": "code",
      "metadata": {
        "id": "SAXb89wr05sj",
        "colab_type": "code",
        "colab": {}
      },
      "source": [
        "df['stay_duration'] = df['reservation_status_date'] - df['arrival_date']\n",
        "df['stay_duration'] = df['stay_duration'] / np.timedelta64(1, 'D')\n",
        "df['stay_duration'] = df['stay_duration'].astype(int)"
      ],
      "execution_count": 50,
      "outputs": []
    },
    {
      "cell_type": "code",
      "metadata": {
        "id": "58CMmvmv09WX",
        "colab_type": "code",
        "colab": {}
      },
      "source": [
        "for i in range(len(df)):\n",
        "    if df.loc[i, 'stay_duration']<0:\n",
        "        df.at[i, 'stay_duration'] = -1"
      ],
      "execution_count": 51,
      "outputs": []
    },
    {
      "cell_type": "code",
      "metadata": {
        "id": "-zLBpfWv09mI",
        "colab_type": "code",
        "colab": {}
      },
      "source": [
        "lb = LabelEncoder()\n",
        "var = ['hotel', 'customer_type', 'deposit_type', 'change_in_room', 'market_segment', 'distribution_channel', 'country']\n",
        "for item in var:\n",
        "    df[item] = lb.fit_transform(df[item])\n",
        "df = pd.get_dummies(df, columns=['hotel', 'customer_type', 'deposit_type', 'change_in_room', 'market_segment', 'distribution_channel', 'country'])"
      ],
      "execution_count": 52,
      "outputs": []
    },
    {
      "cell_type": "code",
      "metadata": {
        "id": "vOPijnPO1BMo",
        "colab_type": "code",
        "colab": {}
      },
      "source": [
        "df.drop(['meal', 'assigned_room_type', 'reserved_room_type', 'reservation_status', 'reservation_status_date', 'arrival_date'], axis=1, inplace=True)"
      ],
      "execution_count": 53,
      "outputs": []
    },
    {
      "cell_type": "markdown",
      "metadata": {
        "id": "leqMc_s_1EoH",
        "colab_type": "text"
      },
      "source": [
        "MODEL AND RESULT"
      ]
    },
    {
      "cell_type": "code",
      "metadata": {
        "id": "Plqzuz9s1Bcc",
        "colab_type": "code",
        "colab": {
          "base_uri": "https://localhost:8080/",
          "height": 34
        },
        "outputId": "edf9864a-69a8-4f3a-e409-a57fe05c67cf"
      },
      "source": [
        "train_var = df.drop(['is_canceled'], axis=1)\n",
        "test_var = df['is_canceled']\n",
        "X_train, X_test, y_train, y_test = train_test_split(train_var, test_var, test_size=0.20)\n",
        "X_train.shape, y_train.shape, X_test.shape, y_test.shape"
      ],
      "execution_count": 54,
      "outputs": [
        {
          "output_type": "execute_result",
          "data": {
            "text/plain": [
              "((95512, 50), (95512,), (23878, 50), (23878,))"
            ]
          },
          "metadata": {
            "tags": []
          },
          "execution_count": 54
        }
      ]
    },
    {
      "cell_type": "code",
      "metadata": {
        "id": "dOhrq2u91HyD",
        "colab_type": "code",
        "colab": {}
      },
      "source": [
        "#Data scaling\n",
        "std_scaler = StandardScaler()\n",
        "std_scaler.fit(X_train)\n",
        "X_train_std = std_scaler.transform(X_train)\n",
        "X_test_std = std_scaler.transform(X_test)\n",
        "\n",
        "mm_scaler = MinMaxScaler()\n",
        "mm_scaler.fit(X_train)\n",
        "X_train_mm = mm_scaler.transform(X_train)\n",
        "X_test_mm = mm_scaler.transform(X_test)"
      ],
      "execution_count": 55,
      "outputs": []
    },
    {
      "cell_type": "code",
      "metadata": {
        "id": "uVfvZj561L2e",
        "colab_type": "code",
        "colab": {
          "base_uri": "https://localhost:8080/",
          "height": 101
        },
        "outputId": "6b42b9a9-280c-4cdc-fda0-e55c427534ab"
      },
      "source": [
        "#Logistic Regression\n",
        "logreg = LogisticRegression(max_iter=500).fit(X_train_mm, y_train)\n",
        "scores = cross_val_score(logreg, X_train_mm, y_train, cv=5)\n",
        "logreg_pred = logreg.predict(X_test_mm)\n",
        "print(\"Average cross validation score: {:.3f}\".format(scores.mean()))\n",
        "print(\"Test accuracy: {:.3f}\".format(logreg.score(X_test_mm, y_test)))\n",
        "print(\"F1 score: {:.3f}\".format(f1_score(y_test, logreg_pred)))\n",
        "print(confusion_matrix(y_test, logreg_pred))"
      ],
      "execution_count": 56,
      "outputs": [
        {
          "output_type": "stream",
          "text": [
            "Average cross validation score: 0.991\n",
            "Test accuracy: 0.990\n",
            "F1 score: 0.986\n",
            "[[15080    24]\n",
            " [  218  8556]]\n"
          ],
          "name": "stdout"
        }
      ]
    },
    {
      "cell_type": "code",
      "metadata": {
        "id": "No9AxYWC1ODJ",
        "colab_type": "code",
        "colab": {
          "base_uri": "https://localhost:8080/",
          "height": 101
        },
        "outputId": "b3a5b92c-d6ed-402f-be5e-0544933f6f2e"
      },
      "source": [
        "#Linear SVC\n",
        "svc = LinearSVC().fit(X_train_mm, y_train)\n",
        "scores = cross_val_score(svc, X_train_mm, y_train, cv=5)\n",
        "svc_pred = svc.predict(X_test_mm)\n",
        "print(\"Average cross validation score: {:.3f}\".format(scores.mean()))\n",
        "print(\"Test accuracy: {:.3f}\".format(svc.score(X_test_mm, y_test)))\n",
        "print(\"F1 score: {:.3f}\".format(f1_score(y_test, svc_pred)))\n",
        "print(confusion_matrix(y_test, svc_pred))"
      ],
      "execution_count": 57,
      "outputs": [
        {
          "output_type": "stream",
          "text": [
            "Average cross validation score: 0.995\n",
            "Test accuracy: 0.995\n",
            "F1 score: 0.993\n",
            "[[15097     7]\n",
            " [  118  8656]]\n"
          ],
          "name": "stdout"
        }
      ]
    },
    {
      "cell_type": "code",
      "metadata": {
        "id": "w5_nxG5z1QbA",
        "colab_type": "code",
        "colab": {
          "base_uri": "https://localhost:8080/",
          "height": 101
        },
        "outputId": "443296fa-922a-4946-ba71-612da92923ea"
      },
      "source": [
        "#SGD Classifier\n",
        "sgd = SGDClassifier(alpha=0.1).fit(X_train_std, y_train)\n",
        "scores = cross_val_score(sgd, X_train_std, y_train, cv=5)\n",
        "sgd_pred = sgd.predict(X_test_std)\n",
        "print(\"Average cross validation score: {:.3f}\".format(scores.mean()))\n",
        "print(\"Test accuracy: {:.3f}\".format(sgd.score(X_test_std, y_test)))\n",
        "print(\"F1 score: {:.3f}\".format(f1_score(y_test, sgd_pred)))\n",
        "print(confusion_matrix(y_test, sgd_pred))"
      ],
      "execution_count": 58,
      "outputs": [
        {
          "output_type": "stream",
          "text": [
            "Average cross validation score: 0.988\n",
            "Test accuracy: 0.986\n",
            "F1 score: 0.981\n",
            "[[15094    10]\n",
            " [  317  8457]]\n"
          ],
          "name": "stdout"
        }
      ]
    },
    {
      "cell_type": "code",
      "metadata": {
        "id": "rA-nc_cv1Qxk",
        "colab_type": "code",
        "colab": {
          "base_uri": "https://localhost:8080/",
          "height": 218
        },
        "outputId": "52e6617d-9ce8-4e48-9cc2-ad1354fb8bb0"
      },
      "source": [
        "#Ridge Classifier\n",
        "rc = RidgeClassifier(alpha=1, normalize=True)\n",
        "rc.fit(X_train, y_train)\n",
        "scores = cross_val_score(rc, X_train, y_train, cv=5)\n",
        "rc_pred = rc.predict(X_test)\n",
        "print(\"Normalized data:\")\n",
        "print(\"Average cross validation score: {:.3f}\".format(scores.mean()))\n",
        "print(\"Test accuracy: {:.3f}\".format(rc.score(X_test, y_test)))\n",
        "print(\"F1 score: {:.3f}\".format(f1_score(y_test, rc_pred)))\n",
        "print(confusion_matrix(y_test, rc_pred))\n",
        "\n",
        "rc = RidgeClassifier(alpha=1)\n",
        "rc.fit(X_train_std, y_train)\n",
        "scores = cross_val_score(rc, X_train_std, y_train, cv=5)\n",
        "rc_pred = rc.predict(X_test_std)\n",
        "print(\"Standard scaled data:\")\n",
        "print(\"Average cross validation score: {:.3f}\".format(scores.mean()))\n",
        "print(\"Test accuracy: {:.3f}\".format(rc.score(X_test_std, y_test)))\n",
        "print(\"F1 score: {:.3f}\".format(f1_score(y_test, rc_pred)))\n",
        "print(confusion_matrix(y_test, rc_pred))"
      ],
      "execution_count": 59,
      "outputs": [
        {
          "output_type": "stream",
          "text": [
            "Normalized data:\n",
            "Average cross validation score: 0.919\n",
            "Test accuracy: 0.917\n",
            "F1 score: 0.874\n",
            "[[15089    15]\n",
            " [ 1957  6817]]\n",
            "Standard scaled data:\n",
            "Average cross validation score: 0.986\n",
            "Test accuracy: 0.985\n",
            "F1 score: 0.979\n",
            "[[15097     7]\n",
            " [  357  8417]]\n"
          ],
          "name": "stdout"
        }
      ]
    },
    {
      "cell_type": "code",
      "metadata": {
        "id": "fDlGYc4D1WzN",
        "colab_type": "code",
        "colab": {
          "base_uri": "https://localhost:8080/",
          "height": 297
        },
        "outputId": "23f4b4c7-48aa-415e-8ca3-9d89ee68ef8f"
      },
      "source": [
        "#KNN\n",
        "training_accuracy = []\n",
        "test_accuracy = []\n",
        "neighbors_settings = range(1, 6)\n",
        "for n_neighbors in neighbors_settings:\n",
        "    knn = KNeighborsClassifier(n_neighbors=n_neighbors)\n",
        "    knn.fit(X_train, y_train)\n",
        "    training_accuracy.append(knn.score(X_train, y_train))\n",
        "    test_accuracy.append(knn.score(X_test, y_test))\n",
        "    \n",
        "plt.plot(neighbors_settings, training_accuracy, label=\"training accuracy\")\n",
        "plt.plot(neighbors_settings, test_accuracy, label=\"test accuracy\")\n",
        "plt.ylabel(\"Accuracy\")\n",
        "plt.xlabel(\"n_neighbors\")\n",
        "plt.legend()"
      ],
      "execution_count": 60,
      "outputs": [
        {
          "output_type": "execute_result",
          "data": {
            "text/plain": [
              "<matplotlib.legend.Legend at 0x7f372ef5d630>"
            ]
          },
          "metadata": {
            "tags": []
          },
          "execution_count": 60
        },
        {
          "output_type": "display_data",
          "data": {
            "image/png": "[encoded data removed]",
            "text/plain": [
              "<Figure size 432x288 with 1 Axes>"
            ]
          },
          "metadata": {
            "tags": [],
            "needs_background": "light"
          }
        }
      ]
    },
    {
      "cell_type": "code",
      "metadata": {
        "id": "lSR4Q9e31ZVp",
        "colab_type": "code",
        "colab": {
          "base_uri": "https://localhost:8080/",
          "height": 101
        },
        "outputId": "2cf383e5-149b-4dfc-f70f-a4b400ed69ff"
      },
      "source": [
        "knn = KNeighborsClassifier(n_neighbors=3).fit(X_train, y_train)\n",
        "scores = cross_val_score(knn, X_train, y_train, cv=5)\n",
        "knn_pred = knn.predict(X_test)\n",
        "print(\"Average cross validation score: {:.3f}\".format(scores.mean()))\n",
        "print(\"Test accuracy: {:.3f}\".format(knn.score(X_test, y_test)))\n",
        "print(\"F1 score: {:.3f}\".format(f1_score(y_test, knn_pred)))\n",
        "print(confusion_matrix(y_test, knn_pred))"
      ],
      "execution_count": 61,
      "outputs": [
        {
          "output_type": "stream",
          "text": [
            "Average cross validation score: 0.876\n",
            "Test accuracy: 0.887\n",
            "F1 score: 0.842\n",
            "[[14012  1092]\n",
            " [ 1606  7168]]\n"
          ],
          "name": "stdout"
        }
      ]
    },
    {
      "cell_type": "code",
      "metadata": {
        "id": "-8GmXq6m1ZnE",
        "colab_type": "code",
        "colab": {
          "base_uri": "https://localhost:8080/",
          "height": 101
        },
        "outputId": "7ac12f42-0ae5-42f5-cf72-9b9a98b89cb9"
      },
      "source": [
        "#Decision Tree\n",
        "tree = DecisionTreeClassifier(max_depth=1).fit(X_train, y_train)\n",
        "scores = cross_val_score(tree, X_train, y_train, cv=5)\n",
        "tree_pred = tree.predict(X_test)\n",
        "print(\"Average cross validation score: {:.3f}\".format(scores.mean()))\n",
        "print(\"Test accuracy: {:.3f}\".format(tree.score(X_test, y_test)))\n",
        "print(\"F1 score: {:.3f}\".format(f1_score(y_test, tree_pred)))\n",
        "print(confusion_matrix(y_test, tree_pred))"
      ],
      "execution_count": 62,
      "outputs": [
        {
          "output_type": "stream",
          "text": [
            "Average cross validation score: 0.994\n",
            "Test accuracy: 0.994\n",
            "F1 score: 0.992\n",
            "[[14958   146]\n",
            " [    0  8774]]\n"
          ],
          "name": "stdout"
        }
      ]
    },
    {
      "cell_type": "code",
      "metadata": {
        "id": "kauigTrz1e3Z",
        "colab_type": "code",
        "colab": {}
      },
      "source": [
        "def classifier(train, test, estimator, param_grid):\n",
        "    grid_search = GridSearchCV(estimator, param_grid, cv=5)\n",
        "    grid_search.fit(train, y_train)\n",
        "    print(\"Best parameters:\", grid_search.best_params_)\n",
        "    print(\"Best score:\", grid_search.best_score_)\n",
        "    print(\"Test score: {:.3f}\".format(grid_search.score(test, y_test)))\n",
        "\n",
        "def feature_selection(model):\n",
        "    select_features = SelectFromModel(estimator=model, threshold='median')\n",
        "    select_features.fit(X_train, y_train)\n",
        "    X_train_select = select_features.transform(X_train)\n",
        "    X_test_select = select_features.transform(X_test)\n",
        "    return X_train_select, X_test_select\n",
        "\n",
        "def run_model(model, model_feature, param_grid):\n",
        "    print(\"Before feature selection:\")\n",
        "    classifier(X_train, X_test, model, param_grid)\n",
        "    X_train_select, X_test_select = feature_selection(model_feature)\n",
        "    print(\"After feature selection\")\n",
        "    classifier(X_train_select, X_test_select, model, param_grid)\n"
      ],
      "execution_count": 63,
      "outputs": []
    },
    {
      "cell_type": "code",
      "metadata": {
        "id": "vTZwyxkF1fO7",
        "colab_type": "code",
        "colab": {
          "base_uri": "https://localhost:8080/",
          "height": 151
        },
        "outputId": "f680ab3e-c5d7-44df-afda-5021347f20f5"
      },
      "source": [
        "#Random Forest\n",
        "param_grid = {'n_estimators':[50,75,100], 'max_depth':[1,2,5]}\n",
        "run_model(RandomForestClassifier(), RandomForestClassifier(n_estimators=50, max_depth=2), param_grid)"
      ],
      "execution_count": 64,
      "outputs": [
        {
          "output_type": "stream",
          "text": [
            "Before feature selection:\n",
            "Best parameters: {'max_depth': 5, 'n_estimators': 75}\n",
            "Best score: 0.9980944770945716\n",
            "Test score: 0.997\n",
            "After feature selection\n",
            "Best parameters: {'max_depth': 5, 'n_estimators': 100}\n",
            "Best score: 0.9951210284012542\n",
            "Test score: 0.995\n"
          ],
          "name": "stdout"
        }
      ]
    },
    {
      "cell_type": "code",
      "metadata": {
        "id": "GL8NcwQX1lWH",
        "colab_type": "code",
        "colab": {
          "base_uri": "https://localhost:8080/",
          "height": 151
        },
        "outputId": "27fcef20-c6b0-4fd6-ae27-d522552742ec"
      },
      "source": [
        "#Gradient Boosted Classifier\n",
        "param_grid = {'max_depth':[1,2,5], 'learning_rate':[1,0.1,0.001]}\n",
        "run_model(GradientBoostingClassifier(), GradientBoostingClassifier(learning_rate=0.001), param_grid)"
      ],
      "execution_count": 65,
      "outputs": [
        {
          "output_type": "stream",
          "text": [
            "Before feature selection:\n",
            "Best parameters: {'learning_rate': 0.1, 'max_depth': 5}\n",
            "Best score: 0.9995602642400249\n",
            "Test score: 0.999\n",
            "After feature selection\n",
            "Best parameters: {'learning_rate': 0.1, 'max_depth': 5}\n",
            "Best score: 0.9995602642400249\n",
            "Test score: 0.999\n"
          ],
          "name": "stdout"
        }
      ]
    },
    {
      "cell_type": "code",
      "metadata": {
        "id": "LxAsD9Bt1n9U",
        "colab_type": "code",
        "colab": {
          "base_uri": "https://localhost:8080/",
          "height": 101
        },
        "outputId": "8bc24546-523d-4691-a364-7942d7f3eebc"
      },
      "source": [
        "#Naive Bayes\n",
        "gnb = GaussianNB()\n",
        "gnb.fit(X_train, y_train)\n",
        "scores = cross_val_score(gnb, X_train, y_train, cv=5)\n",
        "gnb_pred = gnb.predict(X_test)\n",
        "print(\"Average cross validation score: {:.3f}\".format(scores.mean()))\n",
        "print(\"Test accuracy: {:.3f}\".format(gnb.score(X_test, y_test)))\n",
        "print(\"F1 score: {:.3f}\".format(f1_score(y_test, gnb_pred)))\n",
        "print(confusion_matrix(y_test, gnb_pred))"
      ],
      "execution_count": 66,
      "outputs": [
        {
          "output_type": "stream",
          "text": [
            "Average cross validation score: 0.958\n",
            "Test accuracy: 0.957\n",
            "F1 score: 0.938\n",
            "[[15073    31]\n",
            " [  992  7782]]\n"
          ],
          "name": "stdout"
        }
      ]
    },
    {
      "cell_type": "code",
      "metadata": {
        "id": "5FvY9ydZ1oOa",
        "colab_type": "code",
        "colab": {
          "base_uri": "https://localhost:8080/",
          "height": 101
        },
        "outputId": "86625f37-6328-405a-947f-d7a82ebf1171"
      },
      "source": [
        "#Multi Layer Perceptron\n",
        "mlp = MLPClassifier(hidden_layer_sizes=[35, 20], alpha=0.001, solver='adam', activation='relu')\n",
        "mlp.fit(X_train_std, y_train)\n",
        "mlp_pred = mlp.predict(X_test_std)\n",
        "print(\"Train score: {:.3f}\".format(mlp.score(X_train_std, y_train)))\n",
        "print(\"Test accuracy: {:.3f}\".format(mlp.score(X_test_std, y_test)))\n",
        "print(\"F1 score: {:.3f}\".format(f1_score(y_test, mlp_pred)))\n",
        "print(confusion_matrix(y_test, mlp_pred))"
      ],
      "execution_count": 67,
      "outputs": [
        {
          "output_type": "stream",
          "text": [
            "Train score: 1.000\n",
            "Test accuracy: 0.999\n",
            "F1 score: 0.999\n",
            "[[15096     8]\n",
            " [   13  8761]]\n"
          ],
          "name": "stdout"
        }
      ]
    },
    {
      "cell_type": "code",
      "metadata": {
        "id": "B5-8G8uX1rrl",
        "colab_type": "code",
        "colab": {
          "base_uri": "https://localhost:8080/",
          "height": 101
        },
        "outputId": "3e86902e-c9fa-4547-a87f-ba4807c5ae42"
      },
      "source": [
        "#Adaboost Classifier\n",
        "ada = AdaBoostClassifier()\n",
        "ada.fit(X_train, y_train)\n",
        "ada_pred = ada.predict(X_test)\n",
        "scores = cross_val_score(ada, X_train, y_train, cv=5)\n",
        "print(\"Average cross validation score: {:.3f}\".format(scores.mean()))\n",
        "print(\"Test accuracy: {:.3f}\".format(ada.score(X_test, y_test)))\n",
        "print(\"F1 score: {:.3f}\".format(f1_score(y_test, ada_pred)))\n",
        "print(confusion_matrix(y_test, ada_pred))"
      ],
      "execution_count": 68,
      "outputs": [
        {
          "output_type": "stream",
          "text": [
            "Average cross validation score: 0.999\n",
            "Test accuracy: 0.999\n",
            "F1 score: 0.999\n",
            "[[15098     6]\n",
            " [    7  8767]]\n"
          ],
          "name": "stdout"
        }
      ]
    }
  ]
}